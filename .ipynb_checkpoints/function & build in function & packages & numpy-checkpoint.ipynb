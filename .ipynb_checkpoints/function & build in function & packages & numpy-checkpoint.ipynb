{
 "cells": [
  {
   "cell_type": "code",
   "execution_count": 5,
   "id": "123337d2",
   "metadata": {},
   "outputs": [],
   "source": [
    "x = 10\n",
    "y= 50\n",
    "if(x*2>100 and y<100):\n",
    "    print(x,y)"
   ]
  },
  {
   "cell_type": "code",
   "execution_count": 6,
   "id": "3f3a834d",
   "metadata": {},
   "outputs": [
    {
     "name": "stdout",
     "output_type": "stream",
     "text": [
      "true\n"
     ]
    }
   ],
   "source": [
    "if 1:\n",
    "    print ('true')"
   ]
  },
  {
   "cell_type": "code",
   "execution_count": 3,
   "id": "1b400f17",
   "metadata": {},
   "outputs": [],
   "source": [
    "if(x**2>100 and y<100):\n",
    "    print(x,y)"
   ]
  },
  {
   "cell_type": "markdown",
   "id": "b7abf56e",
   "metadata": {},
   "source": [
    "def funcname(self, parameter_list): blok kode"
   ]
  },
  {
   "cell_type": "code",
   "execution_count": 1,
   "id": "c8bf7bd4",
   "metadata": {},
   "outputs": [],
   "source": [
    "def add(a, b):\n",
    "    return a + b"
   ]
  },
  {
   "cell_type": "code",
   "execution_count": 2,
   "id": "ab3a0901",
   "metadata": {},
   "outputs": [
    {
     "data": {
      "text/plain": [
       "9"
      ]
     },
     "execution_count": 2,
     "metadata": {},
     "output_type": "execute_result"
    }
   ],
   "source": [
    "add(5,4)"
   ]
  },
  {
   "cell_type": "code",
   "execution_count": 3,
   "id": "524a3cfe",
   "metadata": {},
   "outputs": [],
   "source": [
    "add_things = add(10,4)"
   ]
  },
  {
   "cell_type": "code",
   "execution_count": 4,
   "id": "caeadf84",
   "metadata": {},
   "outputs": [
    {
     "name": "stdout",
     "output_type": "stream",
     "text": [
      "14\n"
     ]
    }
   ],
   "source": [
    "print(add_things)"
   ]
  },
  {
   "cell_type": "code",
   "execution_count": 5,
   "id": "d1154d8f",
   "metadata": {},
   "outputs": [],
   "source": [
    "def add_and_print(a,b):\n",
    "    print(a+b)"
   ]
  },
  {
   "cell_type": "code",
   "execution_count": 6,
   "id": "f3d95d77",
   "metadata": {},
   "outputs": [
    {
     "name": "stdout",
     "output_type": "stream",
     "text": [
      "4\n"
     ]
    }
   ],
   "source": [
    "add_and_print(1,3)"
   ]
  },
  {
   "cell_type": "code",
   "execution_count": 7,
   "id": "cd61609a",
   "metadata": {},
   "outputs": [
    {
     "name": "stdout",
     "output_type": "stream",
     "text": [
      "8\n"
     ]
    }
   ],
   "source": [
    "x = add_and_print(5,3)"
   ]
  },
  {
   "cell_type": "code",
   "execution_count": 8,
   "id": "dac9bdc3",
   "metadata": {},
   "outputs": [
    {
     "name": "stdout",
     "output_type": "stream",
     "text": [
      "None\n"
     ]
    }
   ],
   "source": [
    "print(x)"
   ]
  },
  {
   "cell_type": "code",
   "execution_count": 9,
   "id": "95c6fc3e",
   "metadata": {},
   "outputs": [],
   "source": [
    "def intersection(first_word, second_word):\n",
    "    result = []\n",
    "    for x in first_word:\n",
    "        if x in second_word:\n",
    "            result.append(x)\n",
    "    return result"
   ]
  },
  {
   "cell_type": "code",
   "execution_count": 10,
   "id": "f9ee4b11",
   "metadata": {},
   "outputs": [],
   "source": [
    "word1 = 'spam'"
   ]
  },
  {
   "cell_type": "code",
   "execution_count": 11,
   "id": "a8235fb7",
   "metadata": {},
   "outputs": [],
   "source": [
    "word2 = 'scam'"
   ]
  },
  {
   "cell_type": "code",
   "execution_count": 12,
   "id": "e7b7ad65",
   "metadata": {},
   "outputs": [],
   "source": [
    "char_of_intersect = intersection(word1,word2)"
   ]
  },
  {
   "cell_type": "code",
   "execution_count": 13,
   "id": "8ed93715",
   "metadata": {},
   "outputs": [
    {
     "name": "stdout",
     "output_type": "stream",
     "text": [
      "['s', 'a', 'm']\n"
     ]
    }
   ],
   "source": [
    "print(char_of_intersect)"
   ]
  },
  {
   "cell_type": "markdown",
   "id": "ff2c94eb",
   "metadata": {},
   "source": [
    "contoh "
   ]
  },
  {
   "cell_type": "code",
   "execution_count": 16,
   "id": "b65c0c0d",
   "metadata": {},
   "outputs": [
    {
     "ename": "NameError",
     "evalue": "name 'innerFun' is not defined",
     "output_type": "error",
     "traceback": [
      "\u001b[1;31m---------------------------------------------------------------------\u001b[0m",
      "\u001b[1;31mNameError\u001b[0m                           Traceback (most recent call last)",
      "Input \u001b[1;32mIn [16]\u001b[0m, in \u001b[0;36m<cell line: 5>\u001b[1;34m()\u001b[0m\n\u001b[0;32m      3\u001b[0m         \u001b[38;5;28;01mreturn\u001b[39;00m c\u001b[38;5;241m+\u001b[39md\n\u001b[0;32m      4\u001b[0m     \u001b[38;5;28;01mreturn\u001b[39;00m innerFun(a,b)\n\u001b[1;32m----> 5\u001b[0m \u001b[38;5;28mprint\u001b[39m(\u001b[43minnerFun\u001b[49m)\n",
      "\u001b[1;31mNameError\u001b[0m: name 'innerFun' is not defined"
     ]
    }
   ],
   "source": [
    "def outerFun(a,b):\n",
    "    def innerFun(c,d):\n",
    "        return c+d\n",
    "    return innerFun(a,b)\n",
    "print(innerFun)"
   ]
  },
  {
   "cell_type": "code",
   "execution_count": null,
   "id": "0dd4069b",
   "metadata": {},
   "outputs": [],
   "source": []
  },
  {
   "cell_type": "code",
   "execution_count": null,
   "id": "6ce6e698",
   "metadata": {},
   "outputs": [],
   "source": []
  },
  {
   "cell_type": "code",
   "execution_count": null,
   "id": "00543db0",
   "metadata": {},
   "outputs": [],
   "source": []
  },
  {
   "cell_type": "markdown",
   "id": "63eac58e",
   "metadata": {},
   "source": [
    "BUILD IN FUNCTION"
   ]
  },
  {
   "cell_type": "code",
   "execution_count": 14,
   "id": "4d476d5a",
   "metadata": {},
   "outputs": [
    {
     "name": "stdout",
     "output_type": "stream",
     "text": [
      "123\n"
     ]
    }
   ],
   "source": [
    "print(abs(-123))"
   ]
  },
  {
   "cell_type": "code",
   "execution_count": 15,
   "id": "9140729e",
   "metadata": {},
   "outputs": [
    {
     "name": "stdout",
     "output_type": "stream",
     "text": [
      "123\n"
     ]
    }
   ],
   "source": [
    "print(abs(123))"
   ]
  },
  {
   "cell_type": "code",
   "execution_count": 16,
   "id": "73be1526",
   "metadata": {},
   "outputs": [],
   "source": [
    "numbers = [1,2,3]"
   ]
  },
  {
   "cell_type": "code",
   "execution_count": 18,
   "id": "148ca9a5",
   "metadata": {},
   "outputs": [
    {
     "name": "stdout",
     "output_type": "stream",
     "text": [
      "True\n"
     ]
    }
   ],
   "source": [
    "print(isinstance(numbers,list))"
   ]
  },
  {
   "cell_type": "code",
   "execution_count": 19,
   "id": "99b4e094",
   "metadata": {},
   "outputs": [
    {
     "name": "stdout",
     "output_type": "stream",
     "text": [
      "False\n"
     ]
    }
   ],
   "source": [
    "print(isinstance(numbers,dict))"
   ]
  },
  {
   "cell_type": "code",
   "execution_count": 24,
   "id": "9c832294",
   "metadata": {},
   "outputs": [],
   "source": [
    "number = 22"
   ]
  },
  {
   "cell_type": "code",
   "execution_count": 28,
   "id": "1ed8a337",
   "metadata": {},
   "outputs": [
    {
     "name": "stdout",
     "output_type": "stream",
     "text": [
      "False\n"
     ]
    }
   ],
   "source": [
    "print(isinstance(number,dict))"
   ]
  },
  {
   "cell_type": "code",
   "execution_count": 29,
   "id": "4ad6415d",
   "metadata": {},
   "outputs": [
    {
     "name": "stdout",
     "output_type": "stream",
     "text": [
      "False\n"
     ]
    }
   ],
   "source": [
    "print(isinstance(number,list))"
   ]
  },
  {
   "cell_type": "code",
   "execution_count": 30,
   "id": "8f00d577",
   "metadata": {},
   "outputs": [
    {
     "name": "stdout",
     "output_type": "stream",
     "text": [
      "True\n"
     ]
    }
   ],
   "source": [
    "print(isinstance(number,int))"
   ]
  },
  {
   "cell_type": "markdown",
   "id": "4932831e",
   "metadata": {},
   "source": [
    "contoh 2"
   ]
  },
  {
   "cell_type": "code",
   "execution_count": 31,
   "id": "2e01c78b",
   "metadata": {},
   "outputs": [],
   "source": [
    "numbers = [1,2,3,4,5,6]"
   ]
  },
  {
   "cell_type": "code",
   "execution_count": 32,
   "id": "b79bb281",
   "metadata": {},
   "outputs": [
    {
     "name": "stdout",
     "output_type": "stream",
     "text": [
      "6\n"
     ]
    }
   ],
   "source": [
    "print(max(numbers))"
   ]
  },
  {
   "cell_type": "code",
   "execution_count": 33,
   "id": "483063a3",
   "metadata": {},
   "outputs": [
    {
     "name": "stdout",
     "output_type": "stream",
     "text": [
      "1\n"
     ]
    }
   ],
   "source": [
    "print(min(numbers))"
   ]
  },
  {
   "cell_type": "markdown",
   "id": "b8f44af5",
   "metadata": {},
   "source": [
    "contoh 3"
   ]
  },
  {
   "cell_type": "code",
   "execution_count": 34,
   "id": "9ad2bac2",
   "metadata": {},
   "outputs": [],
   "source": [
    "alphas = ['a', 'b', 'z']"
   ]
  },
  {
   "cell_type": "code",
   "execution_count": 35,
   "id": "28a3417a",
   "metadata": {},
   "outputs": [
    {
     "name": "stdout",
     "output_type": "stream",
     "text": [
      "z\n"
     ]
    }
   ],
   "source": [
    "print(max(alphas))"
   ]
  },
  {
   "cell_type": "code",
   "execution_count": 36,
   "id": "6cfa03dc",
   "metadata": {},
   "outputs": [
    {
     "name": "stdout",
     "output_type": "stream",
     "text": [
      "a\n"
     ]
    }
   ],
   "source": [
    "print(min(alphas))"
   ]
  },
  {
   "cell_type": "markdown",
   "id": "4ee84cc8",
   "metadata": {},
   "source": [
    "contoh 4"
   ]
  },
  {
   "cell_type": "code",
   "execution_count": 37,
   "id": "17b7816d",
   "metadata": {},
   "outputs": [],
   "source": [
    "languages = ['py', 'js', 'go', 'c'] "
   ]
  },
  {
   "cell_type": "code",
   "execution_count": 38,
   "id": "041c5106",
   "metadata": {},
   "outputs": [
    {
     "name": "stdout",
     "output_type": "stream",
     "text": [
      "2\n"
     ]
    }
   ],
   "source": [
    "print(languages.index('go'))"
   ]
  },
  {
   "cell_type": "code",
   "execution_count": 39,
   "id": "90411afe",
   "metadata": {},
   "outputs": [],
   "source": [
    "languages = ['py', 'js', 'go', 'c'] "
   ]
  },
  {
   "cell_type": "code",
   "execution_count": 40,
   "id": "79ccb4af",
   "metadata": {},
   "outputs": [],
   "source": [
    "languages.sort()"
   ]
  },
  {
   "cell_type": "code",
   "execution_count": 41,
   "id": "5f415b1d",
   "metadata": {},
   "outputs": [
    {
     "name": "stdout",
     "output_type": "stream",
     "text": [
      "['c', 'go', 'js', 'py']\n"
     ]
    }
   ],
   "source": [
    "print(languages)"
   ]
  },
  {
   "cell_type": "markdown",
   "id": "072d0907",
   "metadata": {},
   "source": [
    "contoh 5"
   ]
  },
  {
   "cell_type": "code",
   "execution_count": 42,
   "id": "194e63b4",
   "metadata": {},
   "outputs": [],
   "source": [
    "name = 'raka'"
   ]
  },
  {
   "cell_type": "code",
   "execution_count": 43,
   "id": "a9a111b1",
   "metadata": {},
   "outputs": [
    {
     "name": "stdout",
     "output_type": "stream",
     "text": [
      "raka\n"
     ]
    }
   ],
   "source": [
    "print(name)"
   ]
  },
  {
   "cell_type": "code",
   "execution_count": 44,
   "id": "883cf24c",
   "metadata": {},
   "outputs": [
    {
     "data": {
      "text/plain": [
       "'raca'"
      ]
     },
     "execution_count": 44,
     "metadata": {},
     "output_type": "execute_result"
    }
   ],
   "source": [
    "name.replace('k', 'c')"
   ]
  },
  {
   "cell_type": "code",
   "execution_count": 45,
   "id": "6262a956",
   "metadata": {},
   "outputs": [
    {
     "data": {
      "text/plain": [
       "'Raka'"
      ]
     },
     "execution_count": 45,
     "metadata": {},
     "output_type": "execute_result"
    }
   ],
   "source": [
    "name.capitalize()"
   ]
  },
  {
   "cell_type": "markdown",
   "id": "b5db83a4",
   "metadata": {},
   "source": [
    "### contoh 6\n",
    "\n",
    "(kode.py)\n",
    "\n",
    "from math import factorial\n",
    "from datetime import datetime\n",
    "print(factorial(3))\n",
    "print(datetime.now)\n",
    "\n",
    "(a)\n",
    "import b\n",
    "b.logger('calling from a.py')\n",
    "\n",
    "(b)\n",
    "def logger(text):\n",
    "    print('log: ', text)\n",
    "    \n",
    "def error(text):\n",
    "    print('error: ', text)\n",
    "    \n",
    "(c)\n"
   ]
  },
  {
   "cell_type": "markdown",
   "id": "b48296ac",
   "metadata": {},
   "source": [
    "### packages\n",
    "\n",
    "request\n"
   ]
  },
  {
   "cell_type": "code",
   "execution_count": 1,
   "id": "45abc2cd",
   "metadata": {},
   "outputs": [],
   "source": [
    "import requests"
   ]
  },
  {
   "cell_type": "code",
   "execution_count": 2,
   "id": "35270609",
   "metadata": {},
   "outputs": [],
   "source": [
    "r = requests.get('https://api.github.com/events')"
   ]
  },
  {
   "cell_type": "code",
   "execution_count": 3,
   "id": "fcbeebf0",
   "metadata": {},
   "outputs": [
    {
     "name": "stdout",
     "output_type": "stream",
     "text": [
      "200\n"
     ]
    }
   ],
   "source": [
    "print(r.status_code)"
   ]
  },
  {
   "cell_type": "code",
   "execution_count": 4,
   "id": "51fc084d",
   "metadata": {},
   "outputs": [
    {
     "name": "stdout",
     "output_type": "stream",
     "text": [
      "[{'id': '23835821573', 'type': 'MemberEvent', 'actor': {'id': 66690702, 'login': 'github-classroom[bot]', 'display_login': 'github-classroom', 'gravatar_id': '', 'url': 'https://api.github.com/users/github-classroom[bot]', 'avatar_url': 'https://avatars.githubusercontent.com/u/66690702?'}, 'repo': {'id': 533177685, 'name': 'KITSCTCLab/exercise-6-a-linked-list-implementation-of-stack-Thaha1187', 'url': 'https://api.github.com/repos/KITSCTCLab/exercise-6-a-linked-list-implementation-of-stack-Thaha1187'}, 'payload': {'member': {'login': 'Thaha1187', 'id': 110010500, 'node_id': 'U_kgDOBo6ghA', 'avatar_url': 'https://avatars.githubusercontent.com/u/110010500?v=4', 'gravatar_id': '', 'url': 'https://api.github.com/users/Thaha1187', 'html_url': 'https://github.com/Thaha1187', 'followers_url': 'https://api.github.com/users/Thaha1187/followers', 'following_url': 'https://api.github.com/users/Thaha1187/following{/other_user}', 'gists_url': 'https://api.github.com/users/Thaha1187/gists{/gist_id}', 'starred_url': 'https://api.github.com/users/Thaha1187/starred{/owner}{/repo}', 'subscriptions_url': 'https://api.github.com/users/Thaha1187/subscriptions', 'organizations_url': 'https://api.github.com/users/Thaha1187/orgs', 'repos_url': 'https://api.github.com/users/Thaha1187/repos', 'events_url': 'https://api.github.com/users/Thaha1187/events{/privacy}', 'received_events_url': 'https://api.github.com/users/Thaha1187/received_events', 'type': 'User', 'site_admin': False}, 'action': 'added'}, 'public': True, 'created_at': '2022-09-06T05:42:57Z', 'org': {'id': 78250276, 'login': 'KITSCTCLab', 'gravatar_id': '', 'url': 'https://api.github.com/orgs/KITSCTCLab', 'avatar_url': 'https://avatars.githubusercontent.com/u/78250276?'}}, {'id': '23835821578', 'type': 'PushEvent', 'actor': {'id': 86401105, 'login': 'InvincibleGaren', 'display_login': 'InvincibleGaren', 'gravatar_id': '', 'url': 'https://api.github.com/users/InvincibleGaren', 'avatar_url': 'https://avatars.githubusercontent.com/u/86401105?'}, 'repo': {'id': 517516198, 'name': 'InvincibleGaren/YoungJo-FE', 'url': 'https://api.github.com/repos/InvincibleGaren/YoungJo-FE'}, 'payload': {'push_id': 10935194535, 'size': 2, 'distinct_size': 1, 'ref': 'refs/heads/main', 'head': '9dbf2481fb8e84694719701e63f05bfe7cd5cf86', 'before': '61b6ae3c3b05ccf3b1b86515cbadf93270d50b7f', 'commits': [{'sha': 'fe41e4d2a7b799c5f6c551dba2004e55ff840643', 'author': {'email': 'llyyjj292@gmail.com', 'name': 'lyj'}, 'message': '0906 14:34', 'distinct': False, 'url': 'https://api.github.com/repos/InvincibleGaren/YoungJo-FE/commits/fe41e4d2a7b799c5f6c551dba2004e55ff840643'}, {'sha': '9dbf2481fb8e84694719701e63f05bfe7cd5cf86', 'author': {'email': '86401105+InvincibleGaren@users.noreply.github.com', 'name': 'InvincibleGaren'}, 'message': \"Merge remote-tracking branch 'origin/yeonju'\", 'distinct': True, 'url': 'https://api.github.com/repos/InvincibleGaren/YoungJo-FE/commits/9dbf2481fb8e84694719701e63f05bfe7cd5cf86'}]}, 'public': True, 'created_at': '2022-09-06T05:42:57Z'}, {'id': '23835821587', 'type': 'PullRequestEvent', 'actor': {'id': 49699333, 'login': 'dependabot[bot]', 'display_login': 'dependabot', 'gravatar_id': '', 'url': 'https://api.github.com/users/dependabot[bot]', 'avatar_url': 'https://avatars.githubusercontent.com/u/49699333?'}, 'repo': {'id': 527341278, 'name': 'audiBookning/vue-folder-tree-component', 'url': 'https://api.github.com/repos/audiBookning/vue-folder-tree-component'}, 'payload': {'action': 'closed', 'number': 11, 'pull_request': {'url': 'https://api.github.com/repos/audiBookning/vue-folder-tree-component/pulls/11', 'id': 1041935759, 'node_id': 'PR_kwDOH26W3s4-Gq2P', 'html_url': 'https://github.com/audiBookning/vue-folder-tree-component/pull/11', 'diff_url': 'https://github.com/audiBookning/vue-folder-tree-component/pull/11.diff', 'patch_url': 'https://github.com/audiBookning/vue-folder-tree-component/pull/11.patch', 'issue_url': 'https://api.github.com/repos/audiBookning/vue-folder-tree-component/issues/11', 'number': 11, 'state': 'closed', 'locked': False, 'title': 'Bump @typescript-eslint/parser from 5.33.1 to 5.36.1', 'user': {'login': 'dependabot[bot]', 'id': 49699333, 'node_id': 'MDM6Qm90NDk2OTkzMzM=', 'avatar_url': 'https://avatars.githubusercontent.com/in/29110?v=4', 'gravatar_id': '', 'url': 'https://api.github.com/users/dependabot%5Bbot%5D', 'html_url': 'https://github.com/apps/dependabot', 'followers_url': 'https://api.github.com/users/dependabot%5Bbot%5D/followers', 'following_url': 'https://api.github.com/users/dependabot%5Bbot%5D/following{/other_user}', 'gists_url': 'https://api.github.com/users/dependabot%5Bbot%5D/gists{/gist_id}', 'starred_url': 'https://api.github.com/users/dependabot%5Bbot%5D/starred{/owner}{/repo}', 'subscriptions_url': 'https://api.github.com/users/dependabot%5Bbot%5D/subscriptions', 'organizations_url': 'https://api.github.com/users/dependabot%5Bbot%5D/orgs', 'repos_url': 'https://api.github.com/users/dependabot%5Bbot%5D/repos', 'events_url': 'https://api.github.com/users/dependabot%5Bbot%5D/events{/privacy}', 'received_events_url': 'https://api.github.com/users/dependabot%5Bbot%5D/received_events', 'type': 'Bot', 'site_admin': False}, 'body': 'Bumps [@typescript-eslint/parser](https://github.com/typescript-eslint/typescript-eslint/tree/HEAD/packages/parser) from 5.33.1 to 5.36.1.\\n<details>\\n<summary>Release notes</summary>\\n<p><em>Sourced from <a href=\"https://github.com/typescript-eslint/typescript-eslint/releases\"><code>@\\u200btypescript-eslint/parser</code>\\'s releases</a>.</em></p>\\n<blockquote>\\n<h2>v5.36.1</h2>\\n<h2><a href=\"https://github.com/typescript-eslint/typescript-eslint/compare/v5.36.0...v5.36.1\">5.36.1</a> (2022-08-30)</h2>\\n<h3>Bug Fixes</h3>\\n<ul>\\n<li><strong>typescript-estree:</strong> fix decorator regression for pre TS4.8 (<a href=\"https://github-redirect.dependabot.com/typescript-eslint/typescript-eslint/issues/5574\">#5574</a>) (<a href=\"https://github.com/typescript-eslint/typescript-eslint/commit/a603015c93a6ea96d500c57bec1e284340141b1f\">a603015</a>)</li>\\n</ul>\\n<h2>v5.36.0</h2>\\n<h1><a href=\"https://github.com/typescript-eslint/typescript-eslint/compare/v5.35.1...v5.36.0\">5.36.0</a> (2022-08-30)</h1>\\n<h2>This release includes full support for TS 4.8</h2>\\n<h3>Bug Fixes</h3>\\n<ul>\\n<li><strong>eslint-plugin:</strong> revert <a href=\"https://github-redirect.dependabot.com/typescript-eslint/typescript-eslint/issues/5266\">#5266</a> (<a href=\"https://github-redirect.dependabot.com/typescript-eslint/typescript-eslint/issues/5564\">#5564</a>) (<a href=\"https://github.com/typescript-eslint/typescript-eslint/commit/7a8afe29039c6c80fe584acaf5d933424a4452a9\">7a8afe2</a>)</li>\\n</ul>\\n<h3>Features</h3>\\n<ul>\\n<li><strong>support TypeScript 4.8 (<a href=\"https://github-redirect.dependabot.com/typescript-eslint/typescript-eslint/issues/5551\">#5551</a>) (<a href=\"https://github.com/typescript-eslint/typescript-eslint/commit/81450ed7eaede74b384e9a91a84e9b4d34513866\">81450ed</a>)</strong></li>\\n</ul>\\n<h2>v5.35.1</h2>\\n<h1><a href=\"https://github.com/typescript-eslint/typescript-eslint/compare/v5.33.1...v5.35.1\">5.35.1</a> (2022-08-24)</h1>\\n<h3>Features</h3>\\n<ul>\\n<li><strong>eslint-plugin:</strong> [explicit-member-accessibility] suggest adding explicit accessibility specifiers (<a href=\"https://github-redirect.dependabot.com/typescript-eslint/typescript-eslint/issues/5492\">#5492</a>) (<a href=\"https://github.com/typescript-eslint/typescript-eslint/commit/0edb94aee55e1ec6afa7f46f99a9b308bbb66301\">0edb94a</a>)</li>\\n<li><strong>eslint-plugin:</strong> [prefer-optional-chain] support suggesting <code>!foo || !foo.bar</code> as a valid match for the rule (<a href=\"https://github-redirect.dependabot.com/typescript-eslint/typescript-eslint/issues/5266\">#5266</a>) (<a href=\"https://github.com/typescript-eslint/typescript-eslint/commit/aca935c9696712d4aff18144c4690db4d6ba9bf9\">aca935c</a>)</li>\\n<li><strong>types:</strong> add unbound property in parser options (<a href=\"https://github-redirect.dependabot.com/typescript-eslint/typescript-eslint/issues/5419\">#5419</a>) (<a href=\"https://github.com/typescript-eslint/typescript-eslint/commit/e08a9dd79365c1b1f5d0145ab69377f7d45f8a4f\">e08a9dd</a>)</li>\\n</ul>\\n<h3>Bug Fixes</h3>\\n<ul>\\n<li><strong>eslint-plugin:</strong> correct rule schemas to pass ajv validation (<a href=\"https://github-redirect.dependabot.com/typescript-eslint/typescript-eslint/issues/5531\">#5531</a>) (<a href=\"https://github.com/typescript-eslint/typescript-eslint/commit/dbf8b569dbada29e4a295d6c265976e55de1b2aa\">dbf8b56</a>)</li>\\n<li><strong>ast-spec:</strong> NewExpression argument can be SpreadElement now (<a href=\"https://github-redirect.dependabot.com/typescript-eslint/typescript-eslint/issues/5422\">#5422</a>) (<a href=\"https://github.com/typescript-eslint/typescript-eslint/commit/3ced62fb8474ed377c1336ac3e855f0270ce9beb\">3ced62f</a>)</li>\\n<li><strong>eslint-plugin:</strong> [no-useless-constructor] handle parameter decorator (<a href=\"https://github-redirect.dependabot.com/typescript-eslint/typescript-eslint/issues/5450\">#5450</a>) (<a href=\"https://github.com/typescript-eslint/typescript-eslint/commit/864dbcfccba274fe1b26eac8aeeaf2a2355b5969\">864dbcf</a>)</li>\\n<li><strong>scope-manager:</strong> visit static blocks (<a href=\"https://github-redirect.dependabot.com/typescript-eslint/typescript-eslint/issues/5489\">#5489</a>) (<a href=\"https://github.com/typescript-eslint/typescript-eslint/commit/78745c2092064446837b5683892001030a8bb4e2\">78745c2</a>)</li>\\n</ul>\\n</blockquote>\\n</details>\\n<details>\\n<summary>Changelog</summary>\\n<p><em>Sourced from <a href=\"https://github.com/typescript-eslint/typescript-eslint/blob/main/packages/parser/CHANGELOG.md\"><code>@\\u200btypescript-eslint/parser</code>\\'s changelog</a>.</em></p>\\n<blockquote>\\n<h2><a href=\"https://github.com/typescript-eslint/typescript-eslint/compare/v5.36.0...v5.36.1\">5.36.1</a> (2022-08-30)</h2>\\n<p><strong>Note:</strong> Version bump only for package <code>@\\u200btypescript-eslint/parser</code></p>\\n<h1><a href=\"https://github.com/typescript-eslint/typescript-eslint/compare/v5.35.1...v5.36.0\">5.36.0</a> (2022-08-30)</h1>\\n<p><strong>Note:</strong> Version bump only for package <code>@\\u200btypescript-eslint/parser</code></p>\\n<h2><a href=\"https://github.com/typescript-eslint/typescript-eslint/compare/v5.35.0...v5.35.1\">5.35.1</a> (2022-08-24)</h2>\\n<p><strong>Note:</strong> Version bump only for package <code>@\\u200btypescript-eslint/parser</code></p>\\n<h1><a href=\"https://github.com/typescript-eslint/typescript-eslint/compare/v5.34.0...v5.35.0\">5.35.0</a> (2022-08-24)</h1>\\n<p><strong>Note:</strong> Version bump only for package <code>@\\u200btypescript-eslint/parser</code></p>\\n<h1><a href=\"https://github.com/typescript-eslint/typescript-eslint/compare/v5.33.1...v5.34.0\">5.34.0</a> (2022-08-22)</h1>\\n<p><strong>Note:</strong> Version bump only for package <code>@\\u200btypescript-eslint/parser</code></p>\\n</blockquote>\\n</details>\\n<details>\\n<summary>Commits</summary>\\n<ul>\\n<li><a href=\"https://github.com/typescript-eslint/typescript-eslint/commit/27b24e3dcb9b74a1a0f2a3c04b123a2da36ba034\"><code>27b24e3</code></a> chore: publish v5.36.1</li>\\n<li><a href=\"https://github.com/typescript-eslint/typescript-eslint/commit/4b37b9a99b6068c756d4ba98f0f7592345c11282\"><code>4b37b9a</code></a> chore: publish v5.36.0</li>\\n<li><a href=\"https://github.com/typescript-eslint/typescript-eslint/commit/39829c01906f326fec94e9b3a5fdb1730eb02002\"><code>39829c0</code></a> docs: Fix links to getting started in README.md (<a href=\"https://github.com/typescript-eslint/typescript-eslint/tree/HEAD/packages/parser/issues/5546\">#5546</a>)</li>\\n<li><a href=\"https://github.com/typescript-eslint/typescript-eslint/commit/cb43b4a19dcb967c3342dc8e677e57097b76d888\"><code>cb43b4a</code></a> chore: publish v5.35.1</li>\\n<li><a href=\"https://github.com/typescript-eslint/typescript-eslint/commit/96b6639c8d6c0963eaaf8d7df88057ceec44aedd\"><code>96b6639</code></a> chore: publish v5.35.0</li>\\n<li><a href=\"https://github.com/typescript-eslint/typescript-eslint/commit/e41bc94ee93c5ead2dbd702578811ed0ddaf3b12\"><code>e41bc94</code></a> chore: publish v5.34.0</li>\\n<li>See full diff in <a href=\"https://github.com/typescript-eslint/typescript-eslint/commits/v5.36.1/packages/parser\">compare view</a></li>\\n</ul>\\n</details>\\n<br />\\n\\n\\n[![Dependabot compatibility score](https://dependabot-badges.githubapp.com/badges/compatibility_score?dependency-name=@typescript-eslint/parser&package-manager=npm_and_yarn&previous-version=5.33.1&new-version=5.36.1)](https://docs.github.com/en/github/managing-security-vulnerabilities/about-dependabot-security-updates#about-compatibility-scores)\\n\\nDependabot will resolve any conflicts with this PR as long as you don\\'t alter it yourself. You can also trigger a rebase manually by commenting `@dependabot rebase`.\\n\\n[//]: # (dependabot-automerge-start)\\n[//]: # (dependabot-automerge-end)\\n\\n---\\n\\n<details>\\n<summary>Dependabot commands and options</summary>\\n<br />\\n\\nYou can trigger Dependabot actions by commenting on this PR:\\n- `@dependabot rebase` will rebase this PR\\n- `@dependabot recreate` will recreate this PR, overwriting any edits that have been made to it\\n- `@dependabot merge` will merge this PR after your CI passes on it\\n- `@dependabot squash and merge` will squash and merge this PR after your CI passes on it\\n- `@dependabot cancel merge` will cancel a previously requested merge and block automerging\\n- `@dependabot reopen` will reopen this PR if it is closed\\n- `@dependabot close` will close this PR and stop Dependabot recreating it. You can achieve the same result by closing it manually\\n- `@dependabot ignore this major version` will close this PR and stop Dependabot creating any more for this major version (unless you reopen the PR or upgrade to it yourself)\\n- `@dependabot ignore this minor version` will close this PR and stop Dependabot creating any more for this minor version (unless you reopen the PR or upgrade to it yourself)\\n- `@dependabot ignore this dependency` will close this PR and stop Dependabot creating any more for this dependency (unless you reopen the PR or upgrade to it yourself)\\n\\n\\n</details>', 'created_at': '2022-08-31T05:46:41Z', 'updated_at': '2022-09-06T05:42:57Z', 'closed_at': '2022-09-06T05:42:57Z', 'merged_at': None, 'merge_commit_sha': '25f651b89b36ed06bf65a961f6626bb68a897f87', 'assignee': None, 'assignees': [], 'requested_reviewers': [], 'requested_teams': [], 'labels': [{'id': 4453832503, 'node_id': 'LA_kwDOH26W3s8AAAABCXgXNw', 'url': 'https://api.github.com/repos/audiBookning/vue-folder-tree-component/labels/dependencies', 'name': 'dependencies', 'color': '0366d6', 'default': False, 'description': 'Pull requests that update a dependency file'}], 'milestone': None, 'draft': False, 'commits_url': 'https://api.github.com/repos/audiBookning/vue-folder-tree-component/pulls/11/commits', 'review_comments_url': 'https://api.github.com/repos/audiBookning/vue-folder-tree-component/pulls/11/comments', 'review_comment_url': 'https://api.github.com/repos/audiBookning/vue-folder-tree-component/pulls/comments{/number}', 'comments_url': 'https://api.github.com/repos/audiBookning/vue-folder-tree-component/issues/11/comments', 'statuses_url': 'https://api.github.com/repos/audiBookning/vue-folder-tree-component/statuses/aeffd09778a637e644a6fc79bf954cfca1e55496', 'head': {'label': 'audiBookning:dependabot/npm_and_yarn/typescript-eslint/parser-5.36.1', 'ref': 'dependabot/npm_and_yarn/typescript-eslint/parser-5.36.1', 'sha': 'aeffd09778a637e644a6fc79bf954cfca1e55496', 'user': {'login': 'audiBookning', 'id': 36285825, 'node_id': 'MDQ6VXNlcjM2Mjg1ODI1', 'avatar_url': 'https://avatars.githubusercontent.com/u/36285825?v=4', 'gravatar_id': '', 'url': 'https://api.github.com/users/audiBookning', 'html_url': 'https://github.com/audiBookning', 'followers_url': 'https://api.github.com/users/audiBookning/followers', 'following_url': 'https://api.github.com/users/audiBookning/following{/other_user}', 'gists_url': 'https://api.github.com/users/audiBookning/gists{/gist_id}', 'starred_url': 'https://api.github.com/users/audiBookning/starred{/owner}{/repo}', 'subscriptions_url': 'https://api.github.com/users/audiBookning/subscriptions', 'organizations_url': 'https://api.github.com/users/audiBookning/orgs', 'repos_url': 'https://api.github.com/users/audiBookning/repos', 'events_url': 'https://api.github.com/users/audiBookning/events{/privacy}', 'received_events_url': 'https://api.github.com/users/audiBookning/received_events', 'type': 'User', 'site_admin': False}, 'repo': {'id': 527341278, 'node_id': 'R_kgDOH26W3g', 'name': 'vue-folder-tree-component', 'full_name': 'audiBookning/vue-folder-tree-component', 'private': False, 'owner': {'login': 'audiBookning', 'id': 36285825, 'node_id': 'MDQ6VXNlcjM2Mjg1ODI1', 'avatar_url': 'https://avatars.githubusercontent.com/u/36285825?v=4', 'gravatar_id': '', 'url': 'https://api.github.com/users/audiBookning', 'html_url': 'https://github.com/audiBookning', 'followers_url': 'https://api.github.com/users/audiBookning/followers', 'following_url': 'https://api.github.com/users/audiBookning/following{/other_user}', 'gists_url': 'https://api.github.com/users/audiBookning/gists{/gist_id}', 'starred_url': 'https://api.github.com/users/audiBookning/starred{/owner}{/repo}', 'subscriptions_url': 'https://api.github.com/users/audiBookning/subscriptions', 'organizations_url': 'https://api.github.com/users/audiBookning/orgs', 'repos_url': 'https://api.github.com/users/audiBookning/repos', 'events_url': 'https://api.github.com/users/audiBookning/events{/privacy}', 'received_events_url': 'https://api.github.com/users/audiBookning/received_events', 'type': 'User', 'site_admin': False}, 'html_url': 'https://github.com/audiBookning/vue-folder-tree-component', 'description': None, 'fork': False, 'url': 'https://api.github.com/repos/audiBookning/vue-folder-tree-component', 'forks_url': 'https://api.github.com/repos/audiBookning/vue-folder-tree-component/forks', 'keys_url': 'https://api.github.com/repos/audiBookning/vue-folder-tree-component/keys{/key_id}', 'collaborators_url': 'https://api.github.com/repos/audiBookning/vue-folder-tree-component/collaborators{/collaborator}', 'teams_url': 'https://api.github.com/repos/audiBookning/vue-folder-tree-component/teams', 'hooks_url': 'https://api.github.com/repos/audiBookning/vue-folder-tree-component/hooks', 'issue_events_url': 'https://api.github.com/repos/audiBookning/vue-folder-tree-component/issues/events{/number}', 'events_url': 'https://api.github.com/repos/audiBookning/vue-folder-tree-component/events', 'assignees_url': 'https://api.github.com/repos/audiBookning/vue-folder-tree-component/assignees{/user}', 'branches_url': 'https://api.github.com/repos/audiBookning/vue-folder-tree-component/branches{/branch}', 'tags_url': 'https://api.github.com/repos/audiBookning/vue-folder-tree-component/tags', 'blobs_url': 'https://api.github.com/repos/audiBookning/vue-folder-tree-component/git/blobs{/sha}', 'git_tags_url': 'https://api.github.com/repos/audiBookning/vue-folder-tree-component/git/tags{/sha}', 'git_refs_url': 'https://api.github.com/repos/audiBookning/vue-folder-tree-component/git/refs{/sha}', 'trees_url': 'https://api.github.com/repos/audiBookning/vue-folder-tree-component/git/trees{/sha}', 'statuses_url': 'https://api.github.com/repos/audiBookning/vue-folder-tree-component/statuses/{sha}', 'languages_url': 'https://api.github.com/repos/audiBookning/vue-folder-tree-component/languages', 'stargazers_url': 'https://api.github.com/repos/audiBookning/vue-folder-tree-component/stargazers', 'contributors_url': 'https://api.github.com/repos/audiBookning/vue-folder-tree-component/contributors', 'subscribers_url': 'https://api.github.com/repos/audiBookning/vue-folder-tree-component/subscribers', 'subscription_url': 'https://api.github.com/repos/audiBookning/vue-folder-tree-component/subscription', 'commits_url': 'https://api.github.com/repos/audiBookning/vue-folder-tree-component/commits{/sha}', 'git_commits_url': 'https://api.github.com/repos/audiBookning/vue-folder-tree-component/git/commits{/sha}', 'comments_url': 'https://api.github.com/repos/audiBookning/vue-folder-tree-component/comments{/number}', 'issue_comment_url': 'https://api.github.com/repos/audiBookning/vue-folder-tree-component/issues/comments{/number}', 'contents_url': 'https://api.github.com/repos/audiBookning/vue-folder-tree-component/contents/{+path}', 'compare_url': 'https://api.github.com/repos/audiBookning/vue-folder-tree-component/compare/{base}...{head}', 'merges_url': 'https://api.github.com/repos/audiBookning/vue-folder-tree-component/merges', 'archive_url': 'https://api.github.com/repos/audiBookning/vue-folder-tree-component/{archive_format}{/ref}', 'downloads_url': 'https://api.github.com/repos/audiBookning/vue-folder-tree-component/downloads', 'issues_url': 'https://api.github.com/repos/audiBookning/vue-folder-tree-component/issues{/number}', 'pulls_url': 'https://api.github.com/repos/audiBookning/vue-folder-tree-component/pulls{/number}', 'milestones_url': 'https://api.github.com/repos/audiBookning/vue-folder-tree-component/milestones{/number}', 'notifications_url': 'https://api.github.com/repos/audiBookning/vue-folder-tree-component/notifications{?since,all,participating}', 'labels_url': 'https://api.github.com/repos/audiBookning/vue-folder-tree-component/labels{/name}', 'releases_url': 'https://api.github.com/repos/audiBookning/vue-folder-tree-component/releases{/id}', 'deployments_url': 'https://api.github.com/repos/audiBookning/vue-folder-tree-component/deployments', 'created_at': '2022-08-21T22:30:07Z', 'updated_at': '2022-08-21T22:30:15Z', 'pushed_at': '2022-09-06T05:42:55Z', 'git_url': 'git://github.com/audiBookning/vue-folder-tree-component.git', 'ssh_url': 'git@github.com:audiBookning/vue-folder-tree-component.git', 'clone_url': 'https://github.com/audiBookning/vue-folder-tree-component.git', 'svn_url': 'https://github.com/audiBookning/vue-folder-tree-component', 'homepage': None, 'size': 1598, 'stargazers_count': 0, 'watchers_count': 0, 'language': 'Vue', 'has_issues': True, 'has_projects': True, 'has_downloads': True, 'has_wiki': True, 'has_pages': False, 'forks_count': 0, 'mirror_url': None, 'archived': False, 'disabled': False, 'open_issues_count': 5, 'license': None, 'allow_forking': True, 'is_template': False, 'web_commit_signoff_required': False, 'topics': [], 'visibility': 'public', 'forks': 0, 'open_issues': 5, 'watchers': 0, 'default_branch': 'master'}}, 'base': {'label': 'audiBookning:master', 'ref': 'master', 'sha': '8aa03ed64f369426302a20e8b037b70cf8c1b5c7', 'user': {'login': 'audiBookning', 'id': 36285825, 'node_id': 'MDQ6VXNlcjM2Mjg1ODI1', 'avatar_url': 'https://avatars.githubusercontent.com/u/36285825?v=4', 'gravatar_id': '', 'url': 'https://api.github.com/users/audiBookning', 'html_url': 'https://github.com/audiBookning', 'followers_url': 'https://api.github.com/users/audiBookning/followers', 'following_url': 'https://api.github.com/users/audiBookning/following{/other_user}', 'gists_url': 'https://api.github.com/users/audiBookning/gists{/gist_id}', 'starred_url': 'https://api.github.com/users/audiBookning/starred{/owner}{/repo}', 'subscriptions_url': 'https://api.github.com/users/audiBookning/subscriptions', 'organizations_url': 'https://api.github.com/users/audiBookning/orgs', 'repos_url': 'https://api.github.com/users/audiBookning/repos', 'events_url': 'https://api.github.com/users/audiBookning/events{/privacy}', 'received_events_url': 'https://api.github.com/users/audiBookning/received_events', 'type': 'User', 'site_admin': False}, 'repo': {'id': 527341278, 'node_id': 'R_kgDOH26W3g', 'name': 'vue-folder-tree-component', 'full_name': 'audiBookning/vue-folder-tree-component', 'private': False, 'owner': {'login': 'audiBookning', 'id': 36285825, 'node_id': 'MDQ6VXNlcjM2Mjg1ODI1', 'avatar_url': 'https://avatars.githubusercontent.com/u/36285825?v=4', 'gravatar_id': '', 'url': 'https://api.github.com/users/audiBookning', 'html_url': 'https://github.com/audiBookning', 'followers_url': 'https://api.github.com/users/audiBookning/followers', 'following_url': 'https://api.github.com/users/audiBookning/following{/other_user}', 'gists_url': 'https://api.github.com/users/audiBookning/gists{/gist_id}', 'starred_url': 'https://api.github.com/users/audiBookning/starred{/owner}{/repo}', 'subscriptions_url': 'https://api.github.com/users/audiBookning/subscriptions', 'organizations_url': 'https://api.github.com/users/audiBookning/orgs', 'repos_url': 'https://api.github.com/users/audiBookning/repos', 'events_url': 'https://api.github.com/users/audiBookning/events{/privacy}', 'received_events_url': 'https://api.github.com/users/audiBookning/received_events', 'type': 'User', 'site_admin': False}, 'html_url': 'https://github.com/audiBookning/vue-folder-tree-component', 'description': None, 'fork': False, 'url': 'https://api.github.com/repos/audiBookning/vue-folder-tree-component', 'forks_url': 'https://api.github.com/repos/audiBookning/vue-folder-tree-component/forks', 'keys_url': 'https://api.github.com/repos/audiBookning/vue-folder-tree-component/keys{/key_id}', 'collaborators_url': 'https://api.github.com/repos/audiBookning/vue-folder-tree-component/collaborators{/collaborator}', 'teams_url': 'https://api.github.com/repos/audiBookning/vue-folder-tree-component/teams', 'hooks_url': 'https://api.github.com/repos/audiBookning/vue-folder-tree-component/hooks', 'issue_events_url': 'https://api.github.com/repos/audiBookning/vue-folder-tree-component/issues/events{/number}', 'events_url': 'https://api.github.com/repos/audiBookning/vue-folder-tree-component/events', 'assignees_url': 'https://api.github.com/repos/audiBookning/vue-folder-tree-component/assignees{/user}', 'branches_url': 'https://api.github.com/repos/audiBookning/vue-folder-tree-component/branches{/branch}', 'tags_url': 'https://api.github.com/repos/audiBookning/vue-folder-tree-component/tags', 'blobs_url': 'https://api.github.com/repos/audiBookning/vue-folder-tree-component/git/blobs{/sha}', 'git_tags_url': 'https://api.github.com/repos/audiBookning/vue-folder-tree-component/git/tags{/sha}', 'git_refs_url': 'https://api.github.com/repos/audiBookning/vue-folder-tree-component/git/refs{/sha}', 'trees_url': 'https://api.github.com/repos/audiBookning/vue-folder-tree-component/git/trees{/sha}', 'statuses_url': 'https://api.github.com/repos/audiBookning/vue-folder-tree-component/statuses/{sha}', 'languages_url': 'https://api.github.com/repos/audiBookning/vue-folder-tree-component/languages', 'stargazers_url': 'https://api.github.com/repos/audiBookning/vue-folder-tree-component/stargazers', 'contributors_url': 'https://api.github.com/repos/audiBookning/vue-folder-tree-component/contributors', 'subscribers_url': 'https://api.github.com/repos/audiBookning/vue-folder-tree-component/subscribers', 'subscription_url': 'https://api.github.com/repos/audiBookning/vue-folder-tree-component/subscription', 'commits_url': 'https://api.github.com/repos/audiBookning/vue-folder-tree-component/commits{/sha}', 'git_commits_url': 'https://api.github.com/repos/audiBookning/vue-folder-tree-component/git/commits{/sha}', 'comments_url': 'https://api.github.com/repos/audiBookning/vue-folder-tree-component/comments{/number}', 'issue_comment_url': 'https://api.github.com/repos/audiBookning/vue-folder-tree-component/issues/comments{/number}', 'contents_url': 'https://api.github.com/repos/audiBookning/vue-folder-tree-component/contents/{+path}', 'compare_url': 'https://api.github.com/repos/audiBookning/vue-folder-tree-component/compare/{base}...{head}', 'merges_url': 'https://api.github.com/repos/audiBookning/vue-folder-tree-component/merges', 'archive_url': 'https://api.github.com/repos/audiBookning/vue-folder-tree-component/{archive_format}{/ref}', 'downloads_url': 'https://api.github.com/repos/audiBookning/vue-folder-tree-component/downloads', 'issues_url': 'https://api.github.com/repos/audiBookning/vue-folder-tree-component/issues{/number}', 'pulls_url': 'https://api.github.com/repos/audiBookning/vue-folder-tree-component/pulls{/number}', 'milestones_url': 'https://api.github.com/repos/audiBookning/vue-folder-tree-component/milestones{/number}', 'notifications_url': 'https://api.github.com/repos/audiBookning/vue-folder-tree-component/notifications{?since,all,participating}', 'labels_url': 'https://api.github.com/repos/audiBookning/vue-folder-tree-component/labels{/name}', 'releases_url': 'https://api.github.com/repos/audiBookning/vue-folder-tree-component/releases{/id}', 'deployments_url': 'https://api.github.com/repos/audiBookning/vue-folder-tree-component/deployments', 'created_at': '2022-08-21T22:30:07Z', 'updated_at': '2022-08-21T22:30:15Z', 'pushed_at': '2022-09-06T05:42:55Z', 'git_url': 'git://github.com/audiBookning/vue-folder-tree-component.git', 'ssh_url': 'git@github.com:audiBookning/vue-folder-tree-component.git', 'clone_url': 'https://github.com/audiBookning/vue-folder-tree-component.git', 'svn_url': 'https://github.com/audiBookning/vue-folder-tree-component', 'homepage': None, 'size': 1598, 'stargazers_count': 0, 'watchers_count': 0, 'language': 'Vue', 'has_issues': True, 'has_projects': True, 'has_downloads': True, 'has_wiki': True, 'has_pages': False, 'forks_count': 0, 'mirror_url': None, 'archived': False, 'disabled': False, 'open_issues_count': 5, 'license': None, 'allow_forking': True, 'is_template': False, 'web_commit_signoff_required': False, 'topics': [], 'visibility': 'public', 'forks': 0, 'open_issues': 5, 'watchers': 0, 'default_branch': 'master'}}, '_links': {'self': {'href': 'https://api.github.com/repos/audiBookning/vue-folder-tree-component/pulls/11'}, 'html': {'href': 'https://github.com/audiBookning/vue-folder-tree-component/pull/11'}, 'issue': {'href': 'https://api.github.com/repos/audiBookning/vue-folder-tree-component/issues/11'}, 'comments': {'href': 'https://api.github.com/repos/audiBookning/vue-folder-tree-component/issues/11/comments'}, 'review_comments': {'href': 'https://api.github.com/repos/audiBookning/vue-folder-tree-component/pulls/11/comments'}, 'review_comment': {'href': 'https://api.github.com/repos/audiBookning/vue-folder-tree-component/pulls/comments{/number}'}, 'commits': {'href': 'https://api.github.com/repos/audiBookning/vue-folder-tree-component/pulls/11/commits'}, 'statuses': {'href': 'https://api.github.com/repos/audiBookning/vue-folder-tree-component/statuses/aeffd09778a637e644a6fc79bf954cfca1e55496'}}, 'author_association': 'NONE', 'auto_merge': None, 'active_lock_reason': None, 'merged': False, 'mergeable': True, 'rebaseable': True, 'mergeable_state': 'clean', 'merged_by': None, 'comments': 1, 'review_comments': 0, 'maintainer_can_modify': False, 'commits': 1, 'additions': 129, 'deletions': 12, 'changed_files': 1}}, 'public': True, 'created_at': '2022-09-06T05:42:57Z'}, {'id': '23835821595', 'type': 'CreateEvent', 'actor': {'id': 112607434, 'login': 'tillugit', 'display_login': 'tillugit', 'gravatar_id': '', 'url': 'https://api.github.com/users/tillugit', 'avatar_url': 'https://avatars.githubusercontent.com/u/112607434?'}, 'repo': {'id': 533177453, 'name': 'tillugit/fundriserr', 'url': 'https://api.github.com/repos/tillugit/fundriserr'}, 'payload': {'ref': 'main', 'ref_type': 'branch', 'master_branch': 'main', 'description': None, 'pusher_type': 'user'}, 'public': True, 'created_at': '2022-09-06T05:42:57Z'}, {'id': '23835821555', 'type': 'PushEvent', 'actor': {'id': 107148599, 'login': 'tf-vcs-testing-staging', 'display_login': 'tf-vcs-testing-staging', 'gravatar_id': '', 'url': 'https://api.github.com/users/tf-vcs-testing-staging', 'avatar_url': 'https://avatars.githubusercontent.com/u/107148599?'}, 'repo': {'id': 533177390, 'name': 'tf-vcs-e2e/e2e-gh-b57dad0c-9692-73b8-08a7-a22cc6f22767', 'url': 'https://api.github.com/repos/tf-vcs-e2e/e2e-gh-b57dad0c-9692-73b8-08a7-a22cc6f22767'}, 'payload': {'push_id': 10935194518, 'size': 1, 'distinct_size': 1, 'ref': 'refs/heads/main', 'head': 'b97893311c5ba84b5cee68a4971193df28aad6fa', 'before': '0c735acc2d267a81d0c5e74b426dbb00383d0617', 'commits': [{'sha': 'b97893311c5ba84b5cee68a4971193df28aad6fa', 'author': {'email': 'vcs-testing+staging@hashicorp.com', 'name': 'tf-vcs-testing-staging'}, 'message': 'ef005d77-38ee-b3fc-577f-a576dfc47bd9', 'distinct': True, 'url': 'https://api.github.com/repos/tf-vcs-e2e/e2e-gh-b57dad0c-9692-73b8-08a7-a22cc6f22767/commits/b97893311c5ba84b5cee68a4971193df28aad6fa'}]}, 'public': True, 'created_at': '2022-09-06T05:42:57Z', 'org': {'id': 94930388, 'login': 'tf-vcs-e2e', 'gravatar_id': '', 'url': 'https://api.github.com/orgs/tf-vcs-e2e', 'avatar_url': 'https://avatars.githubusercontent.com/u/94930388?'}}, {'id': '23835821579', 'type': 'PushEvent', 'actor': {'id': 111407920, 'login': 'Gustavo394', 'display_login': 'Gustavo394', 'gravatar_id': '', 'url': 'https://api.github.com/users/Gustavo394', 'avatar_url': 'https://avatars.githubusercontent.com/u/111407920?'}, 'repo': {'id': 529041476, 'name': 'Gustavo394/Learning', 'url': 'https://api.github.com/repos/Gustavo394/Learning'}, 'payload': {'push_id': 10935194532, 'size': 1, 'distinct_size': 1, 'ref': 'refs/heads/master', 'head': '9339b898af5937067a23b9d8eaa13fb3a67611ec', 'before': '5f1ee0efe5b907a08897da00477f17730a747beb', 'commits': [{'sha': '9339b898af5937067a23b9d8eaa13fb3a67611ec', 'author': {'email': '111407920+Gustavo394@users.noreply.github.com', 'name': 'Gustavo Henrique Silva'}, 'message': 'Delete usuario.csv', 'distinct': True, 'url': 'https://api.github.com/repos/Gustavo394/Learning/commits/9339b898af5937067a23b9d8eaa13fb3a67611ec'}]}, 'public': True, 'created_at': '2022-09-06T05:42:57Z'}, {'id': '23835821563', 'type': 'PushEvent', 'actor': {'id': 2539292, 'login': 'wmfgerrit', 'display_login': 'wmfgerrit', 'gravatar_id': '', 'url': 'https://api.github.com/users/wmfgerrit', 'avatar_url': 'https://avatars.githubusercontent.com/u/2539292?'}, 'repo': {'id': 125280565, 'name': 'wikimedia/mediawiki-extensions-TinyMCE', 'url': 'https://api.github.com/repos/wikimedia/mediawiki-extensions-TinyMCE'}, 'payload': {'push_id': 10935194510, 'size': 1, 'distinct_size': 1, 'ref': 'refs/heads/REL1_37', 'head': 'b2c78f4110aed1b1f3e8fa998117f51f03167830', 'before': '62c0424c02572a6c06c64d7475ac51d21ff1fdac', 'commits': [{'sha': 'b2c78f4110aed1b1f3e8fa998117f51f03167830', 'author': {'email': 'l10n-bot@translatewiki.net', 'name': 'Translation updater bot'}, 'message': 'Localisation updates from https://translatewiki.net.\\n\\nChange-Id: I8ec2b1327861f739f49da5c3ab10e29f347de9ad', 'distinct': True, 'url': 'https://api.github.com/repos/wikimedia/mediawiki-extensions-TinyMCE/commits/b2c78f4110aed1b1f3e8fa998117f51f03167830'}]}, 'public': True, 'created_at': '2022-09-06T05:42:57Z', 'org': {'id': 56668, 'login': 'wikimedia', 'gravatar_id': '', 'url': 'https://api.github.com/orgs/wikimedia', 'avatar_url': 'https://avatars.githubusercontent.com/u/56668?'}}, {'id': '23835821553', 'type': 'ReleaseEvent', 'actor': {'id': 41898282, 'login': 'github-actions[bot]', 'display_login': 'github-actions', 'gravatar_id': '', 'url': 'https://api.github.com/users/github-actions[bot]', 'avatar_url': 'https://avatars.githubusercontent.com/u/41898282?'}, 'repo': {'id': 161889810, 'name': 'covscript/csbuild', 'url': 'https://api.github.com/repos/covscript/csbuild'}, 'payload': {'action': 'published', 'release': {'url': 'https://api.github.com/repos/covscript/csbuild/releases/76340082', 'assets_url': 'https://api.github.com/repos/covscript/csbuild/releases/76340082/assets', 'upload_url': 'https://uploads.github.com/repos/covscript/csbuild/releases/76340082/assets{?name,label}', 'html_url': 'https://github.com/covscript/csbuild/releases/tag/ubuntu-schedule', 'id': 76340082, 'author': {'login': 'github-actions[bot]', 'id': 41898282, 'node_id': 'MDM6Qm90NDE4OTgyODI=', 'avatar_url': 'https://avatars.githubusercontent.com/in/15368?v=4', 'gravatar_id': '', 'url': 'https://api.github.com/users/github-actions%5Bbot%5D', 'html_url': 'https://github.com/apps/github-actions', 'followers_url': 'https://api.github.com/users/github-actions%5Bbot%5D/followers', 'following_url': 'https://api.github.com/users/github-actions%5Bbot%5D/following{/other_user}', 'gists_url': 'https://api.github.com/users/github-actions%5Bbot%5D/gists{/gist_id}', 'starred_url': 'https://api.github.com/users/github-actions%5Bbot%5D/starred{/owner}{/repo}', 'subscriptions_url': 'https://api.github.com/users/github-actions%5Bbot%5D/subscriptions', 'organizations_url': 'https://api.github.com/users/github-actions%5Bbot%5D/orgs', 'repos_url': 'https://api.github.com/users/github-actions%5Bbot%5D/repos', 'events_url': 'https://api.github.com/users/github-actions%5Bbot%5D/events{/privacy}', 'received_events_url': 'https://api.github.com/users/github-actions%5Bbot%5D/received_events', 'type': 'Bot', 'site_admin': False}, 'node_id': 'RE_kwDOCaY-Es4EjNty', 'tag_name': 'ubuntu-schedule', 'target_commitish': 'master', 'name': 'Ubuntu Schedule Build', 'draft': False, 'prerelease': False, 'created_at': '2022-05-18T06:38:23Z', 'published_at': '2022-09-06T05:42:57Z', 'assets': [], 'tarball_url': 'https://api.github.com/repos/covscript/csbuild/tarball/ubuntu-schedule', 'zipball_url': 'https://api.github.com/repos/covscript/csbuild/zipball/ubuntu-schedule', 'body': '', 'short_description_html': '', 'is_short_description_html_truncated': False}}, 'public': True, 'created_at': '2022-09-06T05:42:57Z', 'org': {'id': 32327022, 'login': 'covscript', 'gravatar_id': '', 'url': 'https://api.github.com/orgs/covscript', 'avatar_url': 'https://avatars.githubusercontent.com/u/32327022?'}}, {'id': '23835821557', 'type': 'PushEvent', 'actor': {'id': 39216339, 'login': 'UKVeteran', 'display_login': 'UKVeteran', 'gravatar_id': '', 'url': 'https://api.github.com/users/UKVeteran', 'avatar_url': 'https://avatars.githubusercontent.com/u/39216339?'}, 'repo': {'id': 502467797, 'name': 'UKVeteran/Days-of-Calculus', 'url': 'https://api.github.com/repos/UKVeteran/Days-of-Calculus'}, 'payload': {'push_id': 10935194514, 'size': 1, 'distinct_size': 1, 'ref': 'refs/heads/main', 'head': 'c7210a247a2cd868753608f276dc7b7da8ce4a7a', 'before': 'f1d0160e5d95916d9807902fc0fecfa608953413', 'commits': [{'sha': 'c7210a247a2cd868753608f276dc7b7da8ce4a7a', 'author': {'email': '39216339+UKVeteran@users.noreply.github.com', 'name': 'Johar M. Ashfaque, Ph.D., MInstP, AATQB'}, 'message': 'Add files via upload', 'distinct': True, 'url': 'https://api.github.com/repos/UKVeteran/Days-of-Calculus/commits/c7210a247a2cd868753608f276dc7b7da8ce4a7a'}]}, 'public': True, 'created_at': '2022-09-06T05:42:57Z'}, {'id': '23835821581', 'type': 'CreateEvent', 'actor': {'id': 69205383, 'login': 'KirtiranjanMaharana', 'display_login': 'KirtiranjanMaharana', 'gravatar_id': '', 'url': 'https://api.github.com/users/KirtiranjanMaharana', 'avatar_url': 'https://avatars.githubusercontent.com/u/69205383?'}, 'repo': {'id': 533177689, 'name': 'KirtiranjanMaharana/Online_Examination_Backend', 'url': 'https://api.github.com/repos/KirtiranjanMaharana/Online_Examination_Backend'}, 'payload': {'ref': None, 'ref_type': 'repository', 'master_branch': 'master', 'description': None, 'pusher_type': 'user'}, 'public': True, 'created_at': '2022-09-06T05:42:57Z'}, {'id': '23835821575', 'type': 'WatchEvent', 'actor': {'id': 22718173, 'login': 'nop', 'display_login': 'nop', 'gravatar_id': '', 'url': 'https://api.github.com/users/nop', 'avatar_url': 'https://avatars.githubusercontent.com/u/22718173?'}, 'repo': {'id': 149969065, 'name': 'queer/singyeong', 'url': 'https://api.github.com/repos/queer/singyeong'}, 'payload': {'action': 'started'}, 'public': True, 'created_at': '2022-09-06T05:42:57Z'}, {'id': '23835821562', 'type': 'CreateEvent', 'actor': {'id': 102472751, 'login': 'catastrourubamba', 'display_login': 'catastrourubamba', 'gravatar_id': '', 'url': 'https://api.github.com/users/catastrourubamba', 'avatar_url': 'https://avatars.githubusercontent.com/u/102472751?'}, 'repo': {'id': 533177688, 'name': 'catastrourubamba/catastrourubamba.github.io', 'url': 'https://api.github.com/repos/catastrourubamba/catastrourubamba.github.io'}, 'payload': {'ref': None, 'ref_type': 'repository', 'master_branch': 'main', 'description': None, 'pusher_type': 'user'}, 'public': True, 'created_at': '2022-09-06T05:42:57Z'}, {'id': '23835821570', 'type': 'PullRequestEvent', 'actor': {'id': 52564093, 'login': 'cjlee38', 'display_login': 'cjlee38', 'gravatar_id': '', 'url': 'https://api.github.com/users/cjlee38', 'avatar_url': 'https://avatars.githubusercontent.com/u/52564093?'}, 'repo': {'id': 508117333, 'name': 'woowacourse-teams/2022-mo-rak', 'url': 'https://api.github.com/repos/woowacourse-teams/2022-mo-rak'}, 'payload': {'action': 'opened', 'number': 364, 'pull_request': {'url': 'https://api.github.com/repos/woowacourse-teams/2022-mo-rak/pulls/364', 'id': 1047086787, 'node_id': 'PR_kwDOHklBVc4-aUbD', 'html_url': 'https://github.com/woowacourse-teams/2022-mo-rak/pull/364', 'diff_url': 'https://github.com/woowacourse-teams/2022-mo-rak/pull/364.diff', 'patch_url': 'https://github.com/woowacourse-teams/2022-mo-rak/pull/364.patch', 'issue_url': 'https://api.github.com/repos/woowacourse-teams/2022-mo-rak/issues/364', 'number': 364, 'state': 'open', 'locked': False, 'title': 'refactor: 약속잡기의 쿼리 성능을 개선한다.', 'user': {'login': 'cjlee38', 'id': 52564093, 'node_id': 'MDQ6VXNlcjUyNTY0MDkz', 'avatar_url': 'https://avatars.githubusercontent.com/u/52564093?v=4', 'gravatar_id': '', 'url': 'https://api.github.com/users/cjlee38', 'html_url': 'https://github.com/cjlee38', 'followers_url': 'https://api.github.com/users/cjlee38/followers', 'following_url': 'https://api.github.com/users/cjlee38/following{/other_user}', 'gists_url': 'https://api.github.com/users/cjlee38/gists{/gist_id}', 'starred_url': 'https://api.github.com/users/cjlee38/starred{/owner}{/repo}', 'subscriptions_url': 'https://api.github.com/users/cjlee38/subscriptions', 'organizations_url': 'https://api.github.com/users/cjlee38/orgs', 'repos_url': 'https://api.github.com/users/cjlee38/repos', 'events_url': 'https://api.github.com/users/cjlee38/events{/privacy}', 'received_events_url': 'https://api.github.com/users/cjlee38/received_events', 'type': 'User', 'site_admin': False}, 'body': '## 상세 내용\\r\\n\\r\\n인덱스는 아직 안걸었습니다.\\r\\n\\r\\nClose #358 \\r\\n', 'created_at': '2022-09-06T05:42:57Z', 'updated_at': '2022-09-06T05:42:57Z', 'closed_at': None, 'merged_at': None, 'merge_commit_sha': None, 'assignee': {'login': 'cjlee38', 'id': 52564093, 'node_id': 'MDQ6VXNlcjUyNTY0MDkz', 'avatar_url': 'https://avatars.githubusercontent.com/u/52564093?v=4', 'gravatar_id': '', 'url': 'https://api.github.com/users/cjlee38', 'html_url': 'https://github.com/cjlee38', 'followers_url': 'https://api.github.com/users/cjlee38/followers', 'following_url': 'https://api.github.com/users/cjlee38/following{/other_user}', 'gists_url': 'https://api.github.com/users/cjlee38/gists{/gist_id}', 'starred_url': 'https://api.github.com/users/cjlee38/starred{/owner}{/repo}', 'subscriptions_url': 'https://api.github.com/users/cjlee38/subscriptions', 'organizations_url': 'https://api.github.com/users/cjlee38/orgs', 'repos_url': 'https://api.github.com/users/cjlee38/repos', 'events_url': 'https://api.github.com/users/cjlee38/events{/privacy}', 'received_events_url': 'https://api.github.com/users/cjlee38/received_events', 'type': 'User', 'site_admin': False}, 'assignees': [{'login': 'cjlee38', 'id': 52564093, 'node_id': 'MDQ6VXNlcjUyNTY0MDkz', 'avatar_url': 'https://avatars.githubusercontent.com/u/52564093?v=4', 'gravatar_id': '', 'url': 'https://api.github.com/users/cjlee38', 'html_url': 'https://github.com/cjlee38', 'followers_url': 'https://api.github.com/users/cjlee38/followers', 'following_url': 'https://api.github.com/users/cjlee38/following{/other_user}', 'gists_url': 'https://api.github.com/users/cjlee38/gists{/gist_id}', 'starred_url': 'https://api.github.com/users/cjlee38/starred{/owner}{/repo}', 'subscriptions_url': 'https://api.github.com/users/cjlee38/subscriptions', 'organizations_url': 'https://api.github.com/users/cjlee38/orgs', 'repos_url': 'https://api.github.com/users/cjlee38/repos', 'events_url': 'https://api.github.com/users/cjlee38/events{/privacy}', 'received_events_url': 'https://api.github.com/users/cjlee38/received_events', 'type': 'User', 'site_admin': False}], 'requested_reviewers': [{'login': 'leo0842', 'id': 42317507, 'node_id': 'MDQ6VXNlcjQyMzE3NTA3', 'avatar_url': 'https://avatars.githubusercontent.com/u/42317507?v=4', 'gravatar_id': '', 'url': 'https://api.github.com/users/leo0842', 'html_url': 'https://github.com/leo0842', 'followers_url': 'https://api.github.com/users/leo0842/followers', 'following_url': 'https://api.github.com/users/leo0842/following{/other_user}', 'gists_url': 'https://api.github.com/users/leo0842/gists{/gist_id}', 'starred_url': 'https://api.github.com/users/leo0842/starred{/owner}{/repo}', 'subscriptions_url': 'https://api.github.com/users/leo0842/subscriptions', 'organizations_url': 'https://api.github.com/users/leo0842/orgs', 'repos_url': 'https://api.github.com/users/leo0842/repos', 'events_url': 'https://api.github.com/users/leo0842/events{/privacy}', 'received_events_url': 'https://api.github.com/users/leo0842/received_events', 'type': 'User', 'site_admin': False}, {'login': 'seong-wooo', 'id': 79205414, 'node_id': 'MDQ6VXNlcjc5MjA1NDE0', 'avatar_url': 'https://avatars.githubusercontent.com/u/79205414?v=4', 'gravatar_id': '', 'url': 'https://api.github.com/users/seong-wooo', 'html_url': 'https://github.com/seong-wooo', 'followers_url': 'https://api.github.com/users/seong-wooo/followers', 'following_url': 'https://api.github.com/users/seong-wooo/following{/other_user}', 'gists_url': 'https://api.github.com/users/seong-wooo/gists{/gist_id}', 'starred_url': 'https://api.github.com/users/seong-wooo/starred{/owner}{/repo}', 'subscriptions_url': 'https://api.github.com/users/seong-wooo/subscriptions', 'organizations_url': 'https://api.github.com/users/seong-wooo/orgs', 'repos_url': 'https://api.github.com/users/seong-wooo/repos', 'events_url': 'https://api.github.com/users/seong-wooo/events{/privacy}', 'received_events_url': 'https://api.github.com/users/seong-wooo/received_events', 'type': 'User', 'site_admin': False}], 'requested_teams': [], 'labels': [{'id': 4320908069, 'node_id': 'LA_kwDOHklBVc8AAAABAYvTJQ', 'url': 'https://api.github.com/repos/woowacourse-teams/2022-mo-rak/labels/%E2%99%BB%EF%B8%8F%20%EB%A6%AC%ED%8C%A9%ED%86%A0%EB%A7%81', 'name': '♻️ 리팩토링', 'color': 'ccf6c8', 'default': False, 'description': '기존 코드를 리팩토링한다.'}, {'id': 4325642136, 'node_id': 'LA_kwDOHklBVc8AAAABAdQPmA', 'url': 'https://api.github.com/repos/woowacourse-teams/2022-mo-rak/labels/%F0%9F%92%BB%20backend', 'name': '💻 backend', 'color': 'a9def9', 'default': False, 'description': '백엔드에 해당한다.'}], 'milestone': None, 'draft': False, 'commits_url': 'https://api.github.com/repos/woowacourse-teams/2022-mo-rak/pulls/364/commits', 'review_comments_url': 'https://api.github.com/repos/woowacourse-teams/2022-mo-rak/pulls/364/comments', 'review_comment_url': 'https://api.github.com/repos/woowacourse-teams/2022-mo-rak/pulls/comments{/number}', 'comments_url': 'https://api.github.com/repos/woowacourse-teams/2022-mo-rak/issues/364/comments', 'statuses_url': 'https://api.github.com/repos/woowacourse-teams/2022-mo-rak/statuses/eb03db3c1e491457b0a52cd8ff2ede3b819196ef', 'head': {'label': 'cjlee38:refactor/query-tuning-#358', 'ref': 'refactor/query-tuning-#358', 'sha': 'eb03db3c1e491457b0a52cd8ff2ede3b819196ef', 'user': {'login': 'cjlee38', 'id': 52564093, 'node_id': 'MDQ6VXNlcjUyNTY0MDkz', 'avatar_url': 'https://avatars.githubusercontent.com/u/52564093?v=4', 'gravatar_id': '', 'url': 'https://api.github.com/users/cjlee38', 'html_url': 'https://github.com/cjlee38', 'followers_url': 'https://api.github.com/users/cjlee38/followers', 'following_url': 'https://api.github.com/users/cjlee38/following{/other_user}', 'gists_url': 'https://api.github.com/users/cjlee38/gists{/gist_id}', 'starred_url': 'https://api.github.com/users/cjlee38/starred{/owner}{/repo}', 'subscriptions_url': 'https://api.github.com/users/cjlee38/subscriptions', 'organizations_url': 'https://api.github.com/users/cjlee38/orgs', 'repos_url': 'https://api.github.com/users/cjlee38/repos', 'events_url': 'https://api.github.com/users/cjlee38/events{/privacy}', 'received_events_url': 'https://api.github.com/users/cjlee38/received_events', 'type': 'User', 'site_admin': False}, 'repo': {'id': 513756861, 'node_id': 'R_kgDOHp9OvQ', 'name': '2022-mo-rak', 'full_name': 'cjlee38/2022-mo-rak', 'private': False, 'owner': {'login': 'cjlee38', 'id': 52564093, 'node_id': 'MDQ6VXNlcjUyNTY0MDkz', 'avatar_url': 'https://avatars.githubusercontent.com/u/52564093?v=4', 'gravatar_id': '', 'url': 'https://api.github.com/users/cjlee38', 'html_url': 'https://github.com/cjlee38', 'followers_url': 'https://api.github.com/users/cjlee38/followers', 'following_url': 'https://api.github.com/users/cjlee38/following{/other_user}', 'gists_url': 'https://api.github.com/users/cjlee38/gists{/gist_id}', 'starred_url': 'https://api.github.com/users/cjlee38/starred{/owner}{/repo}', 'subscriptions_url': 'https://api.github.com/users/cjlee38/subscriptions', 'organizations_url': 'https://api.github.com/users/cjlee38/orgs', 'repos_url': 'https://api.github.com/users/cjlee38/repos', 'events_url': 'https://api.github.com/users/cjlee38/events{/privacy}', 'received_events_url': 'https://api.github.com/users/cjlee38/received_events', 'type': 'User', 'site_admin': False}, 'html_url': 'https://github.com/cjlee38/2022-mo-rak', 'description': None, 'fork': True, 'url': 'https://api.github.com/repos/cjlee38/2022-mo-rak', 'forks_url': 'https://api.github.com/repos/cjlee38/2022-mo-rak/forks', 'keys_url': 'https://api.github.com/repos/cjlee38/2022-mo-rak/keys{/key_id}', 'collaborators_url': 'https://api.github.com/repos/cjlee38/2022-mo-rak/collaborators{/collaborator}', 'teams_url': 'https://api.github.com/repos/cjlee38/2022-mo-rak/teams', 'hooks_url': 'https://api.github.com/repos/cjlee38/2022-mo-rak/hooks', 'issue_events_url': 'https://api.github.com/repos/cjlee38/2022-mo-rak/issues/events{/number}', 'events_url': 'https://api.github.com/repos/cjlee38/2022-mo-rak/events', 'assignees_url': 'https://api.github.com/repos/cjlee38/2022-mo-rak/assignees{/user}', 'branches_url': 'https://api.github.com/repos/cjlee38/2022-mo-rak/branches{/branch}', 'tags_url': 'https://api.github.com/repos/cjlee38/2022-mo-rak/tags', 'blobs_url': 'https://api.github.com/repos/cjlee38/2022-mo-rak/git/blobs{/sha}', 'git_tags_url': 'https://api.github.com/repos/cjlee38/2022-mo-rak/git/tags{/sha}', 'git_refs_url': 'https://api.github.com/repos/cjlee38/2022-mo-rak/git/refs{/sha}', 'trees_url': 'https://api.github.com/repos/cjlee38/2022-mo-rak/git/trees{/sha}', 'statuses_url': 'https://api.github.com/repos/cjlee38/2022-mo-rak/statuses/{sha}', 'languages_url': 'https://api.github.com/repos/cjlee38/2022-mo-rak/languages', 'stargazers_url': 'https://api.github.com/repos/cjlee38/2022-mo-rak/stargazers', 'contributors_url': 'https://api.github.com/repos/cjlee38/2022-mo-rak/contributors', 'subscribers_url': 'https://api.github.com/repos/cjlee38/2022-mo-rak/subscribers', 'subscription_url': 'https://api.github.com/repos/cjlee38/2022-mo-rak/subscription', 'commits_url': 'https://api.github.com/repos/cjlee38/2022-mo-rak/commits{/sha}', 'git_commits_url': 'https://api.github.com/repos/cjlee38/2022-mo-rak/git/commits{/sha}', 'comments_url': 'https://api.github.com/repos/cjlee38/2022-mo-rak/comments{/number}', 'issue_comment_url': 'https://api.github.com/repos/cjlee38/2022-mo-rak/issues/comments{/number}', 'contents_url': 'https://api.github.com/repos/cjlee38/2022-mo-rak/contents/{+path}', 'compare_url': 'https://api.github.com/repos/cjlee38/2022-mo-rak/compare/{base}...{head}', 'merges_url': 'https://api.github.com/repos/cjlee38/2022-mo-rak/merges', 'archive_url': 'https://api.github.com/repos/cjlee38/2022-mo-rak/{archive_format}{/ref}', 'downloads_url': 'https://api.github.com/repos/cjlee38/2022-mo-rak/downloads', 'issues_url': 'https://api.github.com/repos/cjlee38/2022-mo-rak/issues{/number}', 'pulls_url': 'https://api.github.com/repos/cjlee38/2022-mo-rak/pulls{/number}', 'milestones_url': 'https://api.github.com/repos/cjlee38/2022-mo-rak/milestones{/number}', 'notifications_url': 'https://api.github.com/repos/cjlee38/2022-mo-rak/notifications{?since,all,participating}', 'labels_url': 'https://api.github.com/repos/cjlee38/2022-mo-rak/labels{/name}', 'releases_url': 'https://api.github.com/repos/cjlee38/2022-mo-rak/releases{/id}', 'deployments_url': 'https://api.github.com/repos/cjlee38/2022-mo-rak/deployments', 'created_at': '2022-07-14T04:20:03Z', 'updated_at': '2022-07-14T02:09:01Z', 'pushed_at': '2022-09-06T05:42:01Z', 'git_url': 'git://github.com/cjlee38/2022-mo-rak.git', 'ssh_url': 'git@github.com:cjlee38/2022-mo-rak.git', 'clone_url': 'https://github.com/cjlee38/2022-mo-rak.git', 'svn_url': 'https://github.com/cjlee38/2022-mo-rak', 'homepage': None, 'size': 13358, 'stargazers_count': 0, 'watchers_count': 0, 'language': None, 'has_issues': False, 'has_projects': True, 'has_downloads': True, 'has_wiki': True, 'has_pages': False, 'forks_count': 0, 'mirror_url': None, 'archived': False, 'disabled': False, 'open_issues_count': 0, 'license': None, 'allow_forking': True, 'is_template': False, 'web_commit_signoff_required': False, 'topics': [], 'visibility': 'public', 'forks': 0, 'open_issues': 0, 'watchers': 0, 'default_branch': 'main'}}, 'base': {'label': 'woowacourse-teams:dev', 'ref': 'dev', 'sha': '65d68c30d82cc4f58377cdaccf9fb8692e64be9c', 'user': {'login': 'woowacourse-teams', 'id': 66992148, 'node_id': 'MDEyOk9yZ2FuaXphdGlvbjY2OTkyMTQ4', 'avatar_url': 'https://avatars.githubusercontent.com/u/66992148?v=4', 'gravatar_id': '', 'url': 'https://api.github.com/users/woowacourse-teams', 'html_url': 'https://github.com/woowacourse-teams', 'followers_url': 'https://api.github.com/users/woowacourse-teams/followers', 'following_url': 'https://api.github.com/users/woowacourse-teams/following{/other_user}', 'gists_url': 'https://api.github.com/users/woowacourse-teams/gists{/gist_id}', 'starred_url': 'https://api.github.com/users/woowacourse-teams/starred{/owner}{/repo}', 'subscriptions_url': 'https://api.github.com/users/woowacourse-teams/subscriptions', 'organizations_url': 'https://api.github.com/users/woowacourse-teams/orgs', 'repos_url': 'https://api.github.com/users/woowacourse-teams/repos', 'events_url': 'https://api.github.com/users/woowacourse-teams/events{/privacy}', 'received_events_url': 'https://api.github.com/users/woowacourse-teams/received_events', 'type': 'Organization', 'site_admin': False}, 'repo': {'id': 508117333, 'node_id': 'R_kgDOHklBVQ', 'name': '2022-mo-rak', 'full_name': 'woowacourse-teams/2022-mo-rak', 'private': False, 'owner': {'login': 'woowacourse-teams', 'id': 66992148, 'node_id': 'MDEyOk9yZ2FuaXphdGlvbjY2OTkyMTQ4', 'avatar_url': 'https://avatars.githubusercontent.com/u/66992148?v=4', 'gravatar_id': '', 'url': 'https://api.github.com/users/woowacourse-teams', 'html_url': 'https://github.com/woowacourse-teams', 'followers_url': 'https://api.github.com/users/woowacourse-teams/followers', 'following_url': 'https://api.github.com/users/woowacourse-teams/following{/other_user}', 'gists_url': 'https://api.github.com/users/woowacourse-teams/gists{/gist_id}', 'starred_url': 'https://api.github.com/users/woowacourse-teams/starred{/owner}{/repo}', 'subscriptions_url': 'https://api.github.com/users/woowacourse-teams/subscriptions', 'organizations_url': 'https://api.github.com/users/woowacourse-teams/orgs', 'repos_url': 'https://api.github.com/users/woowacourse-teams/repos', 'events_url': 'https://api.github.com/users/woowacourse-teams/events{/privacy}', 'received_events_url': 'https://api.github.com/users/woowacourse-teams/received_events', 'type': 'Organization', 'site_admin': False}, 'html_url': 'https://github.com/woowacourse-teams/2022-mo-rak', 'description': '😄 모락: 모임을 즐겁게, 편하게!', 'fork': False, 'url': 'https://api.github.com/repos/woowacourse-teams/2022-mo-rak', 'forks_url': 'https://api.github.com/repos/woowacourse-teams/2022-mo-rak/forks', 'keys_url': 'https://api.github.com/repos/woowacourse-teams/2022-mo-rak/keys{/key_id}', 'collaborators_url': 'https://api.github.com/repos/woowacourse-teams/2022-mo-rak/collaborators{/collaborator}', 'teams_url': 'https://api.github.com/repos/woowacourse-teams/2022-mo-rak/teams', 'hooks_url': 'https://api.github.com/repos/woowacourse-teams/2022-mo-rak/hooks', 'issue_events_url': 'https://api.github.com/repos/woowacourse-teams/2022-mo-rak/issues/events{/number}', 'events_url': 'https://api.github.com/repos/woowacourse-teams/2022-mo-rak/events', 'assignees_url': 'https://api.github.com/repos/woowacourse-teams/2022-mo-rak/assignees{/user}', 'branches_url': 'https://api.github.com/repos/woowacourse-teams/2022-mo-rak/branches{/branch}', 'tags_url': 'https://api.github.com/repos/woowacourse-teams/2022-mo-rak/tags', 'blobs_url': 'https://api.github.com/repos/woowacourse-teams/2022-mo-rak/git/blobs{/sha}', 'git_tags_url': 'https://api.github.com/repos/woowacourse-teams/2022-mo-rak/git/tags{/sha}', 'git_refs_url': 'https://api.github.com/repos/woowacourse-teams/2022-mo-rak/git/refs{/sha}', 'trees_url': 'https://api.github.com/repos/woowacourse-teams/2022-mo-rak/git/trees{/sha}', 'statuses_url': 'https://api.github.com/repos/woowacourse-teams/2022-mo-rak/statuses/{sha}', 'languages_url': 'https://api.github.com/repos/woowacourse-teams/2022-mo-rak/languages', 'stargazers_url': 'https://api.github.com/repos/woowacourse-teams/2022-mo-rak/stargazers', 'contributors_url': 'https://api.github.com/repos/woowacourse-teams/2022-mo-rak/contributors', 'subscribers_url': 'https://api.github.com/repos/woowacourse-teams/2022-mo-rak/subscribers', 'subscription_url': 'https://api.github.com/repos/woowacourse-teams/2022-mo-rak/subscription', 'commits_url': 'https://api.github.com/repos/woowacourse-teams/2022-mo-rak/commits{/sha}', 'git_commits_url': 'https://api.github.com/repos/woowacourse-teams/2022-mo-rak/git/commits{/sha}', 'comments_url': 'https://api.github.com/repos/woowacourse-teams/2022-mo-rak/comments{/number}', 'issue_comment_url': 'https://api.github.com/repos/woowacourse-teams/2022-mo-rak/issues/comments{/number}', 'contents_url': 'https://api.github.com/repos/woowacourse-teams/2022-mo-rak/contents/{+path}', 'compare_url': 'https://api.github.com/repos/woowacourse-teams/2022-mo-rak/compare/{base}...{head}', 'merges_url': 'https://api.github.com/repos/woowacourse-teams/2022-mo-rak/merges', 'archive_url': 'https://api.github.com/repos/woowacourse-teams/2022-mo-rak/{archive_format}{/ref}', 'downloads_url': 'https://api.github.com/repos/woowacourse-teams/2022-mo-rak/downloads', 'issues_url': 'https://api.github.com/repos/woowacourse-teams/2022-mo-rak/issues{/number}', 'pulls_url': 'https://api.github.com/repos/woowacourse-teams/2022-mo-rak/pulls{/number}', 'milestones_url': 'https://api.github.com/repos/woowacourse-teams/2022-mo-rak/milestones{/number}', 'notifications_url': 'https://api.github.com/repos/woowacourse-teams/2022-mo-rak/notifications{?since,all,participating}', 'labels_url': 'https://api.github.com/repos/woowacourse-teams/2022-mo-rak/labels{/name}', 'releases_url': 'https://api.github.com/repos/woowacourse-teams/2022-mo-rak/releases{/id}', 'deployments_url': 'https://api.github.com/repos/woowacourse-teams/2022-mo-rak/deployments', 'created_at': '2022-06-28T01:41:32Z', 'updated_at': '2022-09-01T15:51:27Z', 'pushed_at': '2022-09-06T05:18:37Z', 'git_url': 'git://github.com/woowacourse-teams/2022-mo-rak.git', 'ssh_url': 'git@github.com:woowacourse-teams/2022-mo-rak.git', 'clone_url': 'https://github.com/woowacourse-teams/2022-mo-rak.git', 'svn_url': 'https://github.com/woowacourse-teams/2022-mo-rak', 'homepage': 'https://mo-rak.com', 'size': 13515, 'stargazers_count': 9, 'watchers_count': 9, 'language': 'Java', 'has_issues': True, 'has_projects': True, 'has_downloads': True, 'has_wiki': True, 'has_pages': False, 'forks_count': 6, 'mirror_url': None, 'archived': False, 'disabled': False, 'open_issues_count': 34, 'license': None, 'allow_forking': True, 'is_template': False, 'web_commit_signoff_required': False, 'topics': ['java', 'jenkins', 'mysql', 'react', 'spring-boot', 'typescript'], 'visibility': 'public', 'forks': 6, 'open_issues': 34, 'watchers': 9, 'default_branch': 'dev'}}, '_links': {'self': {'href': 'https://api.github.com/repos/woowacourse-teams/2022-mo-rak/pulls/364'}, 'html': {'href': 'https://github.com/woowacourse-teams/2022-mo-rak/pull/364'}, 'issue': {'href': 'https://api.github.com/repos/woowacourse-teams/2022-mo-rak/issues/364'}, 'comments': {'href': 'https://api.github.com/repos/woowacourse-teams/2022-mo-rak/issues/364/comments'}, 'review_comments': {'href': 'https://api.github.com/repos/woowacourse-teams/2022-mo-rak/pulls/364/comments'}, 'review_comment': {'href': 'https://api.github.com/repos/woowacourse-teams/2022-mo-rak/pulls/comments{/number}'}, 'commits': {'href': 'https://api.github.com/repos/woowacourse-teams/2022-mo-rak/pulls/364/commits'}, 'statuses': {'href': 'https://api.github.com/repos/woowacourse-teams/2022-mo-rak/statuses/eb03db3c1e491457b0a52cd8ff2ede3b819196ef'}}, 'author_association': 'COLLABORATOR', 'auto_merge': None, 'active_lock_reason': None, 'merged': False, 'mergeable': None, 'rebaseable': None, 'mergeable_state': 'unknown', 'merged_by': None, 'comments': 0, 'review_comments': 0, 'maintainer_can_modify': True, 'commits': 8, 'additions': 353, 'deletions': 155, 'changed_files': 23}}, 'public': True, 'created_at': '2022-09-06T05:42:57Z', 'org': {'id': 66992148, 'login': 'woowacourse-teams', 'gravatar_id': '', 'url': 'https://api.github.com/orgs/woowacourse-teams', 'avatar_url': 'https://avatars.githubusercontent.com/u/66992148?'}}, {'id': '23835821542', 'type': 'PushEvent', 'actor': {'id': 35160942, 'login': 'lyfingx', 'display_login': 'lyfingx', 'gravatar_id': '', 'url': 'https://api.github.com/users/lyfingx', 'avatar_url': 'https://avatars.githubusercontent.com/u/35160942?'}, 'repo': {'id': 533125843, 'name': 'lyfingx/22090610', 'url': 'https://api.github.com/repos/lyfingx/22090610'}, 'payload': {'push_id': 10935194508, 'size': 1, 'distinct_size': 1, 'ref': 'refs/heads/main', 'head': '27614e4851bb6e3e8debf7a3164e9c1ecd5c0cf4', 'before': '51b7b5c4baac7c602d64e12217cf24f06a38a3dd', 'commits': [{'sha': '27614e4851bb6e3e8debf7a3164e9c1ecd5c0cf4', 'author': {'email': '35160942+lyfingx@users.noreply.github.com', 'name': 'lyfingx'}, 'message': 'commit 1330/75066/0080.jpg', 'distinct': True, 'url': 'https://api.github.com/repos/lyfingx/22090610/commits/27614e4851bb6e3e8debf7a3164e9c1ecd5c0cf4'}]}, 'public': True, 'created_at': '2022-09-06T05:42:57Z'}, {'id': '23835821526', 'type': 'PushEvent', 'actor': {'id': 13796917, 'login': 'blue-baron', 'display_login': 'blue-baron', 'gravatar_id': '', 'url': 'https://api.github.com/users/blue-baron', 'avatar_url': 'https://avatars.githubusercontent.com/u/13796917?'}, 'repo': {'id': 501484670, 'name': 'AUSGov/bga-style-guide', 'url': 'https://api.github.com/repos/AUSGov/bga-style-guide'}, 'payload': {'push_id': 10935194503, 'size': 1, 'distinct_size': 1, 'ref': 'refs/heads/main', 'head': '0d1bde5e9994a280a168d30b7e018030709b6dbd', 'before': 'cfa3aee29bb24442f6023361c74af07f0f9f1438', 'commits': [{'sha': '0d1bde5e9994a280a168d30b7e018030709b6dbd', 'author': {'email': 'bluebaron75@gmail.com', 'name': 'blue-baron'}, 'message': 'Adding iconography page.', 'distinct': True, 'url': 'https://api.github.com/repos/AUSGov/bga-style-guide/commits/0d1bde5e9994a280a168d30b7e018030709b6dbd'}]}, 'public': True, 'created_at': '2022-09-06T05:42:57Z', 'org': {'id': 19642579, 'login': 'AUSGov', 'gravatar_id': '', 'url': 'https://api.github.com/orgs/AUSGov', 'avatar_url': 'https://avatars.githubusercontent.com/u/19642579?'}}, {'id': '23835821519', 'type': 'CreateEvent', 'actor': {'id': 88518150, 'login': 'baonhu01', 'display_login': 'baonhu01', 'gravatar_id': '', 'url': 'https://api.github.com/users/baonhu01', 'avatar_url': 'https://avatars.githubusercontent.com/u/88518150?'}, 'repo': {'id': 533175489, 'name': 'baonhu01/test_git', 'url': 'https://api.github.com/repos/baonhu01/test_git'}, 'payload': {'ref': 'main', 'ref_type': 'branch', 'master_branch': 'main', 'description': None, 'pusher_type': 'user'}, 'public': True, 'created_at': '2022-09-06T05:42:57Z'}, {'id': '23835821543', 'type': 'IssueCommentEvent', 'actor': {'id': 49699333, 'login': 'dependabot[bot]', 'display_login': 'dependabot', 'gravatar_id': '', 'url': 'https://api.github.com/users/dependabot[bot]', 'avatar_url': 'https://avatars.githubusercontent.com/u/49699333?'}, 'repo': {'id': 373991663, 'name': 'jacobmarble/opentelemetry-collector-contrib', 'url': 'https://api.github.com/repos/jacobmarble/opentelemetry-collector-contrib'}, 'payload': {'action': 'created', 'issue': {'url': 'https://api.github.com/repos/jacobmarble/opentelemetry-collector-contrib/issues/2678', 'repository_url': 'https://api.github.com/repos/jacobmarble/opentelemetry-collector-contrib', 'labels_url': 'https://api.github.com/repos/jacobmarble/opentelemetry-collector-contrib/issues/2678/labels{/name}', 'comments_url': 'https://api.github.com/repos/jacobmarble/opentelemetry-collector-contrib/issues/2678/comments', 'events_url': 'https://api.github.com/repos/jacobmarble/opentelemetry-collector-contrib/issues/2678/events', 'html_url': 'https://github.com/jacobmarble/opentelemetry-collector-contrib/pull/2678', 'id': 1332468391, 'node_id': 'PR_kwDOFkqo78482InZ', 'number': 2678, 'title': 'Bump github.com/jaegertracing/jaeger from 1.32.0 to 1.37.0 in /pkg/translator/zipkin', 'user': {'login': 'dependabot[bot]', 'id': 49699333, 'node_id': 'MDM6Qm90NDk2OTkzMzM=', 'avatar_url': 'https://avatars.githubusercontent.com/in/29110?v=4', 'gravatar_id': '', 'url': 'https://api.github.com/users/dependabot%5Bbot%5D', 'html_url': 'https://github.com/apps/dependabot', 'followers_url': 'https://api.github.com/users/dependabot%5Bbot%5D/followers', 'following_url': 'https://api.github.com/users/dependabot%5Bbot%5D/following{/other_user}', 'gists_url': 'https://api.github.com/users/dependabot%5Bbot%5D/gists{/gist_id}', 'starred_url': 'https://api.github.com/users/dependabot%5Bbot%5D/starred{/owner}{/repo}', 'subscriptions_url': 'https://api.github.com/users/dependabot%5Bbot%5D/subscriptions', 'organizations_url': 'https://api.github.com/users/dependabot%5Bbot%5D/orgs', 'repos_url': 'https://api.github.com/users/dependabot%5Bbot%5D/repos', 'events_url': 'https://api.github.com/users/dependabot%5Bbot%5D/events{/privacy}', 'received_events_url': 'https://api.github.com/users/dependabot%5Bbot%5D/received_events', 'type': 'Bot', 'site_admin': False}, 'labels': [{'id': 3314656015, 'node_id': 'MDU6TGFiZWwzMzE0NjU2MDE1', 'url': 'https://api.github.com/repos/jacobmarble/opentelemetry-collector-contrib/labels/dependencies', 'name': 'dependencies', 'color': '0366d6', 'default': False, 'description': 'Pull requests that update a dependency file'}, {'id': 3314660580, 'node_id': 'MDU6TGFiZWwzMzE0NjYwNTgw', 'url': 'https://api.github.com/repos/jacobmarble/opentelemetry-collector-contrib/labels/go', 'name': 'go', 'color': '16e2e2', 'default': False, 'description': 'Pull requests that update Go code'}, {'id': 3869512907, 'node_id': 'LA_kwDOFkqo787mpBTL', 'url': 'https://api.github.com/repos/jacobmarble/opentelemetry-collector-contrib/labels/Stale', 'name': 'Stale', 'color': 'ededed', 'default': False, 'description': None}], 'state': 'closed', 'locked': False, 'assignee': None, 'assignees': [], 'milestone': None, 'comments': 3, 'created_at': '2022-08-08T22:24:56Z', 'updated_at': '2022-09-06T05:42:57Z', 'closed_at': '2022-09-06T05:42:55Z', 'author_association': 'NONE', 'active_lock_reason': None, 'draft': False, 'pull_request': {'url': 'https://api.github.com/repos/jacobmarble/opentelemetry-collector-contrib/pulls/2678', 'html_url': 'https://github.com/jacobmarble/opentelemetry-collector-contrib/pull/2678', 'diff_url': 'https://github.com/jacobmarble/opentelemetry-collector-contrib/pull/2678.diff', 'patch_url': 'https://github.com/jacobmarble/opentelemetry-collector-contrib/pull/2678.patch', 'merged_at': None}, 'body': 'Bumps [github.com/jaegertracing/jaeger](https://github.com/jaegertracing/jaeger) from 1.32.0 to 1.37.0.\\n<details>\\n<summary>Release notes</summary>\\n<p><em>Sourced from <a href=\"https://github.com/jaegertracing/jaeger/releases\">github.com/jaegertracing/jaeger\\'s releases</a>.</em></p>\\n<blockquote>\\n<h2>Release v1.37.0</h2>\\n<h2>1.37.0 (2022-08-03)</h2>\\n<h3>Backend Changes</h3>\\n<ul>\\n<li>Add remote-storage service (<a href=\"https://github.com/yurishkuro\"><code>@\\u200byurishkuro</code></a> in <a href=\"https://github-redirect.dependabot.com/jaegertracing/jaeger/pull/3836\">#3836</a>)</li>\\n</ul>\\n<h4>Bug fixes, Minor Improvements</h4>\\n<ul>\\n<li>Fix ingester panic when span.process=nil (<a href=\"https://github.com/locmai\"><code>@\\u200blocmai</code></a> in <a href=\"https://github-redirect.dependabot.com/jaegertracing/jaeger/pull/3819\">#3819</a>)</li>\\n<li>Added windows zip file generation (<a href=\"https://github.com/adhithyasrinivasan\"><code>@\\u200badhithyasrinivasan</code></a> in <a href=\"https://github-redirect.dependabot.com/jaegertracing/jaeger/pull/3817\">#3817</a>)</li>\\n<li>Refactor gRPC storage plugin for better composability (<a href=\"https://github.com/yurishkuro\"><code>@\\u200byurishkuro</code></a> in <a href=\"https://github-redirect.dependabot.com/jaegertracing/jaeger/pull/3833\">#3833</a>)</li>\\n</ul>\\n<h3>UI Changes</h3>\\n<ul>\\n<li>UI pinned to version <a href=\"https://github.com/jaegertracing/jaeger-ui/blob/main/CHANGELOG.md#v1260-2022-08-03\">1.26.0 - see the changelog</a>.</li>\\n</ul>\\n<h2>Release v1.36.0</h2>\\n<h3>Backend Changes</h3>\\n<h4>Breaking Changes</h4>\\n<h4>New Features</h4>\\n<ul>\\n<li>Add flag to enable span size metrics reporting (<a href=\"https://github.com/ymtdzzz\"><code>@\\u200bymtdzzz</code></a> in <a href=\"https://github-redirect.dependabot.com/jaegertracing/jaeger/pull/3782\">#3782</a>)\\n<ul>\\n<li>Span size metrics are enabled via the <code>--collector.enable-span-size-metrics</code> flag (even if <code>--collector.queue-size-memory</code> is disabled).</li>\\n</ul>\\n</li>\\n<li>Add multi-tenancy support (<a href=\"https://github.com/esnible\"><code>@\\u200besnible</code></a> in <a href=\"https://github-redirect.dependabot.com/jaegertracing/jaeger/pull/3688\">#3688</a>)\\n<ul>\\n<li>Enabled when <code>--multi_tenancy.enabled=true</code> is passed to the collector.</li>\\n<li>The header carrying the tenants can be specified via the <code>--multi_tenancy.header</code> flag, which defaults to <code>x-tenant</code>.</li>\\n<li>The list of allowed tenants can be set via the <code>--multi_tenancy.tenants</code> flag, which defaults to an unrestricted list of tenants.</li>\\n</ul>\\n</li>\\n</ul>\\n<h4>Bug fixes, Minor Improvements</h4>\\n<ul>\\n<li>Introduce ParentReference adjuster (<a href=\"https://github.com/bobrik\"><code>@\\u200bbobrik</code></a> in <a href=\"https://github-redirect.dependabot.com/jaegertracing/jaeger/pull/3786\">#3786</a>)</li>\\n<li>Ignore the problem of self-reported spans when multi-tenant enabled (<a href=\"https://github.com/esnible\"><code>@\\u200besnible</code></a> in <a href=\"https://github-redirect.dependabot.com/jaegertracing/jaeger/pull/3787\">#3787</a>)</li>\\n<li>Copy expvar metrics implementation from jaeger-lib (<a href=\"https://github.com/yurishkuro\"><code>@\\u200byurishkuro</code></a> in <a href=\"https://github-redirect.dependabot.com/jaegertracing/jaeger/pull/3772\">#3772</a>)</li>\\n<li>Copy Prometheus metrics implementation from jaeger-lib (<a href=\"https://github.com/yurishkuro\"><code>@\\u200byurishkuro</code></a> in <a href=\"https://github-redirect.dependabot.com/jaegertracing/jaeger/pull/3771\">#3771</a>)</li>\\n<li>Copy metrics API from jaeger-lib (<a href=\"https://github.com/yurishkuro\"><code>@\\u200byurishkuro</code></a> in <a href=\"https://github-redirect.dependabot.com/jaegertracing/jaeger/pull/3767\">#3767</a>)</li>\\n<li>Use file move instead of overwriting content (<a href=\"https://github.com/yurishkuro\"><code>@\\u200byurishkuro</code></a> in <a href=\"https://github-redirect.dependabot.com/jaegertracing/jaeger/pull/3726\">#3726</a>)</li>\\n<li>Refactor tenancy checking from gRPC to gRPC batch consumer (<a href=\"https://github.com/esnible\"><code>@\\u200besnible</code></a> in <a href=\"https://github-redirect.dependabot.com/jaegertracing/jaeger/pull/3718\">#3718</a>)</li>\\n<li>Fix ineffectual <code>--skip-dependencies</code> flag in es-rollover (<a href=\"https://github.com/frzifus\"><code>@\\u200bfrzifus</code></a> in <a href=\"https://github-redirect.dependabot.com/jaegertracing/jaeger/pull/3724\">#3724</a>)</li>\\n<li>Fix custom gogo codec to allow OTLP data (<a href=\"https://github.com/yurishkuro\"><code>@\\u200byurishkuro</code></a> in <a href=\"https://github-redirect.dependabot.com/jaegertracing/jaeger/pull/3719\">#3719</a>)</li>\\n</ul>\\n<h3>UI Changes</h3>\\n<ul>\\n<li>UI pinned to version <a href=\"https://github.com/jaegertracing/jaeger-ui/blob/main/CHANGELOG.md#v1250-2022-07-03\">1.25.0 - see the changelog</a>.</li>\\n</ul>\\n<h2>Patch release v1.35.2</h2>\\n<h3>Backend Changes</h3>\\n<h4>Bug fixes, Minor Improvements</h4>\\n<!-- raw HTML omitted -->\\n</blockquote>\\n<p>... (truncated)</p>\\n</details>\\n<details>\\n<summary>Changelog</summary>\\n<p><em>Sourced from <a href=\"https://github.com/jaegertracing/jaeger/blob/main/CHANGELOG.md\">github.com/jaegertracing/jaeger\\'s changelog</a>.</em></p>\\n<blockquote>\\n<h2>1.37.0 (2022-08-03)</h2>\\n<h3>Backend Changes</h3>\\n<ul>\\n<li>Add remote-storage service (<a href=\"https://github.com/yurishkuro\"><code>@\\u200byurishkuro</code></a> in <a href=\"https://github-redirect.dependabot.com/jaegertracing/jaeger/pull/3836\">#3836</a>)</li>\\n</ul>\\n<h4>Bug fixes, Minor Improvements</h4>\\n<ul>\\n<li>Fix ingester panic when span.process=nil (<a href=\"https://github.com/locmai\"><code>@\\u200blocmai</code></a> in <a href=\"https://github-redirect.dependabot.com/jaegertracing/jaeger/pull/3819\">#3819</a>)</li>\\n<li>Added windows zip file generation (<a href=\"https://github.com/adhithyasrinivasan\"><code>@\\u200badhithyasrinivasan</code></a> in <a href=\"https://github-redirect.dependabot.com/jaegertracing/jaeger/pull/3817\">#3817</a>)</li>\\n<li>Refactor gRPC storage plugin for better composability (<a href=\"https://github.com/yurishkuro\"><code>@\\u200byurishkuro</code></a> in <a href=\"https://github-redirect.dependabot.com/jaegertracing/jaeger/pull/3833\">#3833</a>)</li>\\n</ul>\\n<h3>UI Changes</h3>\\n<ul>\\n<li>UI pinned to version <a href=\"https://github.com/jaegertracing/jaeger-ui/blob/main/CHANGELOG.md#v1260-2022-08-03\">1.26.0 - see the changelog</a>.</li>\\n</ul>\\n<h2>1.36.0 (2022-07-05)</h2>\\n<h3>Backend Changes</h3>\\n<h4>Breaking Changes</h4>\\n<h4>New Features</h4>\\n<ul>\\n<li>Add flag to enable span size metrics reporting (<a href=\"https://github.com/ymtdzzz\"><code>@\\u200bymtdzzz</code></a> in <a href=\"https://github-redirect.dependabot.com/jaegertracing/jaeger/pull/3782\">#3782</a>)\\n<ul>\\n<li>Span size metrics are enabled via the <code>--collector.enable-span-size-metrics</code> flag (even if <code>--collector.queue-size-memory</code> is disabled).</li>\\n</ul>\\n</li>\\n<li>Add multi-tenancy support (<a href=\"https://github.com/esnible\"><code>@\\u200besnible</code></a> in <a href=\"https://github-redirect.dependabot.com/jaegertracing/jaeger/pull/3688\">#3688</a>)\\n<ul>\\n<li>Enabled when <code>--multi_tenancy.enabled=true</code> is passed to the collector.</li>\\n<li>The header carrying the tenants can be specified via the <code>--multi_tenancy.header</code> flag, which defaults to <code>x-tenant</code>.</li>\\n<li>The list of allowed tenants can be set via the <code>--multi_tenancy.tenants</code> flag, which defaults to an unrestricted list of tenants.</li>\\n</ul>\\n</li>\\n</ul>\\n<h4>Bug fixes, Minor Improvements</h4>\\n<ul>\\n<li>Introduce ParentReference adjuster (<a href=\"https://github.com/bobrik\"><code>@\\u200bbobrik</code></a> in <a href=\"https://github-redirect.dependabot.com/jaegertracing/jaeger/pull/3786\">#3786</a>)</li>\\n<li>Ignore the problem of self-reported spans when multi-tenant enabled (<a href=\"https://github.com/esnible\"><code>@\\u200besnible</code></a> in <a href=\"https://github-redirect.dependabot.com/jaegertracing/jaeger/pull/3787\">#3787</a>)</li>\\n<li>Copy expvar metrics implementation from jaeger-lib (<a href=\"https://github.com/yurishkuro\"><code>@\\u200byurishkuro</code></a> in <a href=\"https://github-redirect.dependabot.com/jaegertracing/jaeger/pull/3772\">#3772</a>)</li>\\n<li>Copy Prometheus metrics implementation from jaeger-lib (<a href=\"https://github.com/yurishkuro\"><code>@\\u200byurishkuro</code></a> in <a href=\"https://github-redirect.dependabot.com/jaegertracing/jaeger/pull/3771\">#3771</a>)</li>\\n<li>Copy metrics API from jaeger-lib (<a href=\"https://github.com/yurishkuro\"><code>@\\u200byurishkuro</code></a> in <a href=\"https://github-redirect.dependabot.com/jaegertracing/jaeger/pull/3767\">#3767</a>)</li>\\n<li>Use file move instead of overwriting content (<a href=\"https://github.com/yurishkuro\"><code>@\\u200byurishkuro</code></a> in <a href=\"https://github-redirect.dependabot.com/jaegertracing/jaeger/pull/3726\">#3726</a>)</li>\\n<li>Refactor tenancy checking from gRPC to gRPC batch consumer (<a href=\"https://github.com/esnible\"><code>@\\u200besnible</code></a> in <a href=\"https://github-redirect.dependabot.com/jaegertracing/jaeger/pull/3718\">#3718</a>)</li>\\n<li>Fix ineffectual <code>--skip-dependencies</code> flag in es-rollover (<a href=\"https://github.com/frzifus\"><code>@\\u200bfrzifus</code></a> in <a href=\"https://github-redirect.dependabot.com/jaegertracing/jaeger/pull/3724\">#3724</a>)</li>\\n<li>Fix custom gogo codec to allow OTLP data (<a href=\"https://github.com/yurishkuro\"><code>@\\u200byurishkuro</code></a> in <a href=\"https://github-redirect.dependabot.com/jaegertracing/jaeger/pull/3719\">#3719</a>)</li>\\n</ul>\\n<h3>UI Changes</h3>\\n<ul>\\n<li>UI pinned to version <a href=\"https://github.com/jaegertracing/jaeger-ui/blob/main/CHANGELOG.md#v1250-2022-07-03\">1.25.0 - see the changelog</a>.</li>\\n</ul>\\n<h2>1.35.2 (2022-06-15)</h2>\\n<h3>Backend Changes</h3>\\n<h4>Bug fixes, Minor Improvements</h4>\\n<!-- raw HTML omitted -->\\n</blockquote>\\n<p>... (truncated)</p>\\n</details>\\n<details>\\n<summary>Commits</summary>\\n<ul>\\n<li><a href=\"https://github.com/jaegertracing/jaeger/commit/fdc3ae5d914daa5c097bf18afbfa62e1c0d4de97\"><code>fdc3ae5</code></a> release (<a href=\"https://github-redirect.dependabot.com/jaegertracing/jaeger/issues/3847\">#3847</a>)</li>\\n<li><a href=\"https://github.com/jaegertracing/jaeger/commit/51c1c04f0d787f1eedbf2f14dddfc84bead8a6dc\"><code>51c1c04</code></a> Bump github.com/hashicorp/go-hclog from 1.2.1 to 1.2.2 (<a href=\"https://github-redirect.dependabot.com/jaegertracing/jaeger/issues/3844\">#3844</a>)</li>\\n<li><a href=\"https://github.com/jaegertracing/jaeger/commit/5eba1397d31de18f53b83f433e75ec449b7aa0ac\"><code>5eba139</code></a> Bump google.golang.org/protobuf from 1.28.0 to 1.28.1 (<a href=\"https://github-redirect.dependabot.com/jaegertracing/jaeger/issues/3846\">#3846</a>)</li>\\n<li><a href=\"https://github.com/jaegertracing/jaeger/commit/d70ff2d1c20e2cd7ab31d4c5337d819b82bc6a65\"><code>d70ff2d</code></a> Bump github.com/open-telemetry/opentelemetry-collector-contrib/pkg/translator...</li>\\n<li><a href=\"https://github.com/jaegertracing/jaeger/commit/9a0fbd8713f1d81f33f83e4e1614539d90ab23be\"><code>9a0fbd8</code></a> Replace Elasticsearch in crossdock CI with remote memstore (<a href=\"https://github-redirect.dependabot.com/jaegertracing/jaeger/issues/3843\">#3843</a>)</li>\\n<li><a href=\"https://github.com/jaegertracing/jaeger/commit/a026fdff7ab3353dfc8862d343af7ca9abdb9e23\"><code>a026fdf</code></a> Build remote-storage (<a href=\"https://github-redirect.dependabot.com/jaegertracing/jaeger/issues/3841\">#3841</a>)</li>\\n<li><a href=\"https://github.com/jaegertracing/jaeger/commit/b92aa3edc5b682ef0afa89463b069630f3c273cc\"><code>b92aa3e</code></a> Rename TenancyManager to tenancy.Manager (<a href=\"https://github-redirect.dependabot.com/jaegertracing/jaeger/issues/3840\">#3840</a>)</li>\\n<li><a href=\"https://github.com/jaegertracing/jaeger/commit/4daa4e971eb266998dbee7f673112ea2e440a2b8\"><code>4daa4e9</code></a> Add remote-storage service (<a href=\"https://github-redirect.dependabot.com/jaegertracing/jaeger/issues/3836\">#3836</a>)</li>\\n<li><a href=\"https://github.com/jaegertracing/jaeger/commit/ea71bd1d090c942996224ba0e9966c5cd7f12743\"><code>ea71bd1</code></a> Remove error from tenancy.InitFromViper (<a href=\"https://github-redirect.dependabot.com/jaegertracing/jaeger/issues/3838\">#3838</a>)</li>\\n<li><a href=\"https://github.com/jaegertracing/jaeger/commit/4d6287423a15c1e1577ff06cb08ba9ae7ed77c00\"><code>4d62874</code></a> fix: typo in filename (<a href=\"https://github-redirect.dependabot.com/jaegertracing/jaeger/issues/3837\">#3837</a>)</li>\\n<li>Additional commits viewable in <a href=\"https://github.com/jaegertracing/jaeger/compare/v1.32.0...v1.37.0\">compare view</a></li>\\n</ul>\\n</details>\\n<br />\\n\\n\\n[![Dependabot compatibility score](https://dependabot-badges.githubapp.com/badges/compatibility_score?dependency-name=github.com/jaegertracing/jaeger&package-manager=go_modules&previous-version=1.32.0&new-version=1.37.0)](https://docs.github.com/en/github/managing-security-vulnerabilities/about-dependabot-security-updates#about-compatibility-scores)\\n\\nDependabot will resolve any conflicts with this PR as long as you don\\'t alter it yourself. You can also trigger a rebase manually by commenting `@dependabot rebase`.\\n\\n[//]: # (dependabot-automerge-start)\\n[//]: # (dependabot-automerge-end)\\n\\n---\\n\\n<details>\\n<summary>Dependabot commands and options</summary>\\n<br />\\n\\nYou can trigger Dependabot actions by commenting on this PR:\\n- `@dependabot rebase` will rebase this PR\\n- `@dependabot recreate` will recreate this PR, overwriting any edits that have been made to it\\n- `@dependabot merge` will merge this PR after your CI passes on it\\n- `@dependabot squash and merge` will squash and merge this PR after your CI passes on it\\n- `@dependabot cancel merge` will cancel a previously requested merge and block automerging\\n- `@dependabot reopen` will reopen this PR if it is closed\\n- `@dependabot close` will close this PR and stop Dependabot recreating it. You can achieve the same result by closing it manually\\n- `@dependabot ignore this major version` will close this PR and stop Dependabot creating any more for this major version (unless you reopen the PR or upgrade to it yourself)\\n- `@dependabot ignore this minor version` will close this PR and stop Dependabot creating any more for this minor version (unless you reopen the PR or upgrade to it yourself)\\n- `@dependabot ignore this dependency` will close this PR and stop Dependabot creating any more for this dependency (unless you reopen the PR or upgrade to it yourself)\\n\\n\\n</details>', 'reactions': {'url': 'https://api.github.com/repos/jacobmarble/opentelemetry-collector-contrib/issues/2678/reactions', 'total_count': 0, '+1': 0, '-1': 0, 'laugh': 0, 'hooray': 0, 'confused': 0, 'heart': 0, 'rocket': 0, 'eyes': 0}, 'timeline_url': 'https://api.github.com/repos/jacobmarble/opentelemetry-collector-contrib/issues/2678/timeline', 'performed_via_github_app': None, 'state_reason': None}, 'comment': {'url': 'https://api.github.com/repos/jacobmarble/opentelemetry-collector-contrib/issues/comments/1237682697', 'html_url': 'https://github.com/jacobmarble/opentelemetry-collector-contrib/pull/2678#issuecomment-1237682697', 'issue_url': 'https://api.github.com/repos/jacobmarble/opentelemetry-collector-contrib/issues/2678', 'id': 1237682697, 'node_id': 'IC_kwDOFkqo785JxYoJ', 'user': {'login': 'dependabot[bot]', 'id': 49699333, 'node_id': 'MDM6Qm90NDk2OTkzMzM=', 'avatar_url': 'https://avatars.githubusercontent.com/in/29110?v=4', 'gravatar_id': '', 'url': 'https://api.github.com/users/dependabot%5Bbot%5D', 'html_url': 'https://github.com/apps/dependabot', 'followers_url': 'https://api.github.com/users/dependabot%5Bbot%5D/followers', 'following_url': 'https://api.github.com/users/dependabot%5Bbot%5D/following{/other_user}', 'gists_url': 'https://api.github.com/users/dependabot%5Bbot%5D/gists{/gist_id}', 'starred_url': 'https://api.github.com/users/dependabot%5Bbot%5D/starred{/owner}{/repo}', 'subscriptions_url': 'https://api.github.com/users/dependabot%5Bbot%5D/subscriptions', 'organizations_url': 'https://api.github.com/users/dependabot%5Bbot%5D/orgs', 'repos_url': 'https://api.github.com/users/dependabot%5Bbot%5D/repos', 'events_url': 'https://api.github.com/users/dependabot%5Bbot%5D/events{/privacy}', 'received_events_url': 'https://api.github.com/users/dependabot%5Bbot%5D/received_events', 'type': 'Bot', 'site_admin': False}, 'created_at': '2022-09-06T05:42:57Z', 'updated_at': '2022-09-06T05:42:57Z', 'author_association': 'NONE', 'body': \"OK, I won't notify you again about this release, but will get in touch when a new version is available. If you'd rather skip all updates until the next major or minor version, let me know by commenting `@dependabot ignore this major version` or `@dependabot ignore this minor version`. You can also ignore all major, minor, or patch releases for a dependency by adding an [`ignore` condition](https://docs.github.com/en/code-security/supply-chain-security/configuration-options-for-dependency-updates#ignore) with the desired `update_types` to your config file.\\n\\nIf you change your mind, just re-open this PR and I'll resolve any conflicts on it.\", 'reactions': {'url': 'https://api.github.com/repos/jacobmarble/opentelemetry-collector-contrib/issues/comments/1237682697/reactions', 'total_count': 0, '+1': 0, '-1': 0, 'laugh': 0, 'hooray': 0, 'confused': 0, 'heart': 0, 'rocket': 0, 'eyes': 0}, 'performed_via_github_app': None}}, 'public': True, 'created_at': '2022-09-06T05:42:57Z'}, {'id': '23835821539', 'type': 'CreateEvent', 'actor': {'id': 71748350, 'login': 'biio-front', 'display_login': 'biio-front', 'gravatar_id': '', 'url': 'https://api.github.com/users/biio-front', 'avatar_url': 'https://avatars.githubusercontent.com/u/71748350?'}, 'repo': {'id': 532825261, 'name': 'biio-front/figma-token', 'url': 'https://api.github.com/repos/biio-front/figma-token'}, 'payload': {'ref': 'develop', 'ref_type': 'branch', 'master_branch': 'master', 'description': None, 'pusher_type': 'user'}, 'public': True, 'created_at': '2022-09-06T05:42:57Z'}, {'id': '23835821515', 'type': 'WatchEvent', 'actor': {'id': 31974251, 'login': 'DefTruth', 'display_login': 'DefTruth', 'gravatar_id': '', 'url': 'https://api.github.com/users/DefTruth', 'avatar_url': 'https://avatars.githubusercontent.com/u/31974251?'}, 'repo': {'id': 105919803, 'name': 'facebookresearch/Detectron', 'url': 'https://api.github.com/repos/facebookresearch/Detectron'}, 'payload': {'action': 'started'}, 'public': True, 'created_at': '2022-09-06T05:42:57Z', 'org': {'id': 16943930, 'login': 'facebookresearch', 'gravatar_id': '', 'url': 'https://api.github.com/orgs/facebookresearch', 'avatar_url': 'https://avatars.githubusercontent.com/u/16943930?'}}, {'id': '23835821509', 'type': 'PushEvent', 'actor': {'id': 69158844, 'login': 'project20911', 'display_login': 'project20911', 'gravatar_id': '', 'url': 'https://api.github.com/users/project20911', 'avatar_url': 'https://avatars.githubusercontent.com/u/69158844?'}, 'repo': {'id': 287324470, 'name': 'project20911/TestRepository', 'url': 'https://api.github.com/repos/project20911/TestRepository'}, 'payload': {'push_id': 10935194494, 'size': 1, 'distinct_size': 1, 'ref': 'refs/heads/20220906', 'head': '09d912590382bef02d21afded5c3b2073654b249', 'before': 'f7f9caae2c73ade8ffd0a34854a857d3d67ffda7', 'commits': [{'sha': '09d912590382bef02d21afded5c3b2073654b249', 'author': {'email': '69158844+project20911@users.noreply.github.com', 'name': 'project20911'}, 'message': '', 'distinct': True, 'url': 'https://api.github.com/repos/project20911/TestRepository/commits/09d912590382bef02d21afded5c3b2073654b249'}]}, 'public': True, 'created_at': '2022-09-06T05:42:57Z'}, {'id': '23835821525', 'type': 'IssueCommentEvent', 'actor': {'id': 3800237, 'login': 'taki', 'display_login': 'taki', 'gravatar_id': '', 'url': 'https://api.github.com/users/taki', 'avatar_url': 'https://avatars.githubusercontent.com/u/3800237?'}, 'repo': {'id': 4999671, 'name': 'socketry/timers', 'url': 'https://api.github.com/repos/socketry/timers'}, 'payload': {'action': 'created', 'issue': {'url': 'https://api.github.com/repos/socketry/timers/issues/33', 'repository_url': 'https://api.github.com/repos/socketry/timers', 'labels_url': 'https://api.github.com/repos/socketry/timers/issues/33/labels{/name}', 'comments_url': 'https://api.github.com/repos/socketry/timers/issues/33/comments', 'events_url': 'https://api.github.com/repos/socketry/timers/issues/33/events', 'html_url': 'https://github.com/socketry/timers/pull/33', 'id': 36803030, 'node_id': 'MDExOlB1bGxSZXF1ZXN0MTc3NzY1MDM=', 'number': 33, 'title': 'Delete unused variable', 'user': {'login': 'taki', 'id': 3800237, 'node_id': 'MDQ6VXNlcjM4MDAyMzc=', 'avatar_url': 'https://avatars.githubusercontent.com/u/3800237?v=4', 'gravatar_id': '', 'url': 'https://api.github.com/users/taki', 'html_url': 'https://github.com/taki', 'followers_url': 'https://api.github.com/users/taki/followers', 'following_url': 'https://api.github.com/users/taki/following{/other_user}', 'gists_url': 'https://api.github.com/users/taki/gists{/gist_id}', 'starred_url': 'https://api.github.com/users/taki/starred{/owner}{/repo}', 'subscriptions_url': 'https://api.github.com/users/taki/subscriptions', 'organizations_url': 'https://api.github.com/users/taki/orgs', 'repos_url': 'https://api.github.com/users/taki/repos', 'events_url': 'https://api.github.com/users/taki/events{/privacy}', 'received_events_url': 'https://api.github.com/users/taki/received_events', 'type': 'User', 'site_admin': False}, 'labels': [], 'state': 'closed', 'locked': False, 'assignee': None, 'assignees': [], 'milestone': None, 'comments': 2, 'created_at': '2014-06-30T14:35:58Z', 'updated_at': '2022-09-06T05:42:57Z', 'closed_at': '2014-06-30T16:19:52Z', 'author_association': 'NONE', 'active_lock_reason': None, 'draft': False, 'pull_request': {'url': 'https://api.github.com/repos/socketry/timers/pulls/33', 'html_url': 'https://github.com/socketry/timers/pull/33', 'diff_url': 'https://github.com/socketry/timers/pull/33.diff', 'patch_url': 'https://github.com/socketry/timers/pull/33.patch', 'merged_at': '2014-06-30T16:19:52Z'}, 'body': '', 'reactions': {'url': 'https://api.github.com/repos/socketry/timers/issues/33/reactions', 'total_count': 0, '+1': 0, '-1': 0, 'laugh': 0, 'hooray': 0, 'confused': 0, 'heart': 0, 'rocket': 0, 'eyes': 0}, 'timeline_url': 'https://api.github.com/repos/socketry/timers/issues/33/timeline', 'performed_via_github_app': None, 'state_reason': None}, 'comment': {'url': 'https://api.github.com/repos/socketry/timers/issues/comments/1237682694', 'html_url': 'https://github.com/socketry/timers/pull/33#issuecomment-1237682694', 'issue_url': 'https://api.github.com/repos/socketry/timers/issues/33', 'id': 1237682694, 'node_id': 'IC_kwDOAExJ985JxYoG', 'user': {'login': 'taki', 'id': 3800237, 'node_id': 'MDQ6VXNlcjM4MDAyMzc=', 'avatar_url': 'https://avatars.githubusercontent.com/u/3800237?v=4', 'gravatar_id': '', 'url': 'https://api.github.com/users/taki', 'html_url': 'https://github.com/taki', 'followers_url': 'https://api.github.com/users/taki/followers', 'following_url': 'https://api.github.com/users/taki/following{/other_user}', 'gists_url': 'https://api.github.com/users/taki/gists{/gist_id}', 'starred_url': 'https://api.github.com/users/taki/starred{/owner}{/repo}', 'subscriptions_url': 'https://api.github.com/users/taki/subscriptions', 'organizations_url': 'https://api.github.com/users/taki/orgs', 'repos_url': 'https://api.github.com/users/taki/repos', 'events_url': 'https://api.github.com/users/taki/events{/privacy}', 'received_events_url': 'https://api.github.com/users/taki/received_events', 'type': 'User', 'site_admin': False}, 'created_at': '2022-09-06T05:42:57Z', 'updated_at': '2022-09-06T05:42:57Z', 'author_association': 'NONE', 'body': '@ioquatix I am Takizawa Yuusuke.', 'reactions': {'url': 'https://api.github.com/repos/socketry/timers/issues/comments/1237682694/reactions', 'total_count': 0, '+1': 0, '-1': 0, 'laugh': 0, 'hooray': 0, 'confused': 0, 'heart': 0, 'rocket': 0, 'eyes': 0}, 'performed_via_github_app': None}}, 'public': True, 'created_at': '2022-09-06T05:42:57Z', 'org': {'id': 22138037, 'login': 'socketry', 'gravatar_id': '', 'url': 'https://api.github.com/orgs/socketry', 'avatar_url': 'https://avatars.githubusercontent.com/u/22138037?'}}, {'id': '23835821521', 'type': 'PullRequestEvent', 'actor': {'id': 49699333, 'login': 'dependabot[bot]', 'display_login': 'dependabot', 'gravatar_id': '', 'url': 'https://api.github.com/users/dependabot[bot]', 'avatar_url': 'https://avatars.githubusercontent.com/u/49699333?'}, 'repo': {'id': 425084443, 'name': 'mangrovedao/mangrove', 'url': 'https://api.github.com/repos/mangrovedao/mangrove'}, 'payload': {'action': 'closed', 'number': 688, 'pull_request': {'url': 'https://api.github.com/repos/mangrovedao/mangrove/pulls/688', 'id': 1041936919, 'node_id': 'PR_kwDOGVZGG84-GrIX', 'html_url': 'https://github.com/mangrovedao/mangrove/pull/688', 'diff_url': 'https://github.com/mangrovedao/mangrove/pull/688.diff', 'patch_url': 'https://github.com/mangrovedao/mangrove/pull/688.patch', 'issue_url': 'https://api.github.com/repos/mangrovedao/mangrove/issues/688', 'number': 688, 'state': 'closed', 'locked': False, 'title': 'build(deps-dev): Bump @typescript-eslint/eslint-plugin from 5.29.0 to 5.36.1', 'user': {'login': 'dependabot[bot]', 'id': 49699333, 'node_id': 'MDM6Qm90NDk2OTkzMzM=', 'avatar_url': 'https://avatars.githubusercontent.com/in/29110?v=4', 'gravatar_id': '', 'url': 'https://api.github.com/users/dependabot%5Bbot%5D', 'html_url': 'https://github.com/apps/dependabot', 'followers_url': 'https://api.github.com/users/dependabot%5Bbot%5D/followers', 'following_url': 'https://api.github.com/users/dependabot%5Bbot%5D/following{/other_user}', 'gists_url': 'https://api.github.com/users/dependabot%5Bbot%5D/gists{/gist_id}', 'starred_url': 'https://api.github.com/users/dependabot%5Bbot%5D/starred{/owner}{/repo}', 'subscriptions_url': 'https://api.github.com/users/dependabot%5Bbot%5D/subscriptions', 'organizations_url': 'https://api.github.com/users/dependabot%5Bbot%5D/orgs', 'repos_url': 'https://api.github.com/users/dependabot%5Bbot%5D/repos', 'events_url': 'https://api.github.com/users/dependabot%5Bbot%5D/events{/privacy}', 'received_events_url': 'https://api.github.com/users/dependabot%5Bbot%5D/received_events', 'type': 'Bot', 'site_admin': False}, 'body': 'Bumps [@typescript-eslint/eslint-plugin](https://github.com/typescript-eslint/typescript-eslint/tree/HEAD/packages/eslint-plugin) from 5.29.0 to 5.36.1.\\n<details>\\n<summary>Release notes</summary>\\n<p><em>Sourced from <a href=\"https://github.com/typescript-eslint/typescript-eslint/releases\"><code>@\\u200btypescript-eslint/eslint-plugin</code>\\'s releases</a>.</em></p>\\n<blockquote>\\n<h2>v5.36.1</h2>\\n<h2><a href=\"https://github.com/typescript-eslint/typescript-eslint/compare/v5.36.0...v5.36.1\">5.36.1</a> (2022-08-30)</h2>\\n<h3>Bug Fixes</h3>\\n<ul>\\n<li><strong>typescript-estree:</strong> fix decorator regression for pre TS4.8 (<a href=\"https://github-redirect.dependabot.com/typescript-eslint/typescript-eslint/issues/5574\">#5574</a>) (<a href=\"https://github.com/typescript-eslint/typescript-eslint/commit/a603015c93a6ea96d500c57bec1e284340141b1f\">a603015</a>)</li>\\n</ul>\\n<h2>v5.36.0</h2>\\n<h1><a href=\"https://github.com/typescript-eslint/typescript-eslint/compare/v5.35.1...v5.36.0\">5.36.0</a> (2022-08-30)</h1>\\n<h2>This release includes full support for TS 4.8</h2>\\n<h3>Bug Fixes</h3>\\n<ul>\\n<li><strong>eslint-plugin:</strong> revert <a href=\"https://github-redirect.dependabot.com/typescript-eslint/typescript-eslint/issues/5266\">#5266</a> (<a href=\"https://github-redirect.dependabot.com/typescript-eslint/typescript-eslint/issues/5564\">#5564</a>) (<a href=\"https://github.com/typescript-eslint/typescript-eslint/commit/7a8afe29039c6c80fe584acaf5d933424a4452a9\">7a8afe2</a>)</li>\\n</ul>\\n<h3>Features</h3>\\n<ul>\\n<li><strong>support TypeScript 4.8 (<a href=\"https://github-redirect.dependabot.com/typescript-eslint/typescript-eslint/issues/5551\">#5551</a>) (<a href=\"https://github.com/typescript-eslint/typescript-eslint/commit/81450ed7eaede74b384e9a91a84e9b4d34513866\">81450ed</a>)</strong></li>\\n</ul>\\n<h2>v5.35.1</h2>\\n<h1><a href=\"https://github.com/typescript-eslint/typescript-eslint/compare/v5.33.1...v5.35.1\">5.35.1</a> (2022-08-24)</h1>\\n<h3>Features</h3>\\n<ul>\\n<li><strong>eslint-plugin:</strong> [explicit-member-accessibility] suggest adding explicit accessibility specifiers (<a href=\"https://github-redirect.dependabot.com/typescript-eslint/typescript-eslint/issues/5492\">#5492</a>) (<a href=\"https://github.com/typescript-eslint/typescript-eslint/commit/0edb94aee55e1ec6afa7f46f99a9b308bbb66301\">0edb94a</a>)</li>\\n<li><strong>eslint-plugin:</strong> [prefer-optional-chain] support suggesting <code>!foo || !foo.bar</code> as a valid match for the rule (<a href=\"https://github-redirect.dependabot.com/typescript-eslint/typescript-eslint/issues/5266\">#5266</a>) (<a href=\"https://github.com/typescript-eslint/typescript-eslint/commit/aca935c9696712d4aff18144c4690db4d6ba9bf9\">aca935c</a>)</li>\\n<li><strong>types:</strong> add unbound property in parser options (<a href=\"https://github-redirect.dependabot.com/typescript-eslint/typescript-eslint/issues/5419\">#5419</a>) (<a href=\"https://github.com/typescript-eslint/typescript-eslint/commit/e08a9dd79365c1b1f5d0145ab69377f7d45f8a4f\">e08a9dd</a>)</li>\\n</ul>\\n<h3>Bug Fixes</h3>\\n<ul>\\n<li><strong>eslint-plugin:</strong> correct rule schemas to pass ajv validation (<a href=\"https://github-redirect.dependabot.com/typescript-eslint/typescript-eslint/issues/5531\">#5531</a>) (<a href=\"https://github.com/typescript-eslint/typescript-eslint/commit/dbf8b569dbada29e4a295d6c265976e55de1b2aa\">dbf8b56</a>)</li>\\n<li><strong>ast-spec:</strong> NewExpression argument can be SpreadElement now (<a href=\"https://github-redirect.dependabot.com/typescript-eslint/typescript-eslint/issues/5422\">#5422</a>) (<a href=\"https://github.com/typescript-eslint/typescript-eslint/commit/3ced62fb8474ed377c1336ac3e855f0270ce9beb\">3ced62f</a>)</li>\\n<li><strong>eslint-plugin:</strong> [no-useless-constructor] handle parameter decorator (<a href=\"https://github-redirect.dependabot.com/typescript-eslint/typescript-eslint/issues/5450\">#5450</a>) (<a href=\"https://github.com/typescript-eslint/typescript-eslint/commit/864dbcfccba274fe1b26eac8aeeaf2a2355b5969\">864dbcf</a>)</li>\\n<li><strong>scope-manager:</strong> visit static blocks (<a href=\"https://github-redirect.dependabot.com/typescript-eslint/typescript-eslint/issues/5489\">#5489</a>) (<a href=\"https://github.com/typescript-eslint/typescript-eslint/commit/78745c2092064446837b5683892001030a8bb4e2\">78745c2</a>)</li>\\n</ul>\\n<h2>v5.33.1</h2>\\n<h2><a href=\"https://github.com/typescript-eslint/typescript-eslint/compare/v5.33.0...v5.33.1\">5.33.1</a> (2022-08-15)</h2>\\n<h3>Bug Fixes</h3>\\n<!-- raw HTML omitted -->\\n</blockquote>\\n<p>... (truncated)</p>\\n</details>\\n<details>\\n<summary>Changelog</summary>\\n<p><em>Sourced from <a href=\"https://github.com/typescript-eslint/typescript-eslint/blob/main/packages/eslint-plugin/CHANGELOG.md\"><code>@\\u200btypescript-eslint/eslint-plugin</code>\\'s changelog</a>.</em></p>\\n<blockquote>\\n<h2><a href=\"https://github.com/typescript-eslint/typescript-eslint/compare/v5.36.0...v5.36.1\">5.36.1</a> (2022-08-30)</h2>\\n<p><strong>Note:</strong> Version bump only for package <code>@\\u200btypescript-eslint/eslint-plugin</code></p>\\n<h1><a href=\"https://github.com/typescript-eslint/typescript-eslint/compare/v5.35.1...v5.36.0\">5.36.0</a> (2022-08-30)</h1>\\n<h3>Bug Fixes</h3>\\n<ul>\\n<li><strong>eslint-plugin:</strong> revert <a href=\"https://github-redirect.dependabot.com/typescript-eslint/typescript-eslint/issues/5266\">#5266</a> (<a href=\"https://github-redirect.dependabot.com/typescript-eslint/typescript-eslint/issues/5564\">#5564</a>) (<a href=\"https://github.com/typescript-eslint/typescript-eslint/commit/7a8afe29039c6c80fe584acaf5d933424a4452a9\">7a8afe2</a>)</li>\\n</ul>\\n<h3>Features</h3>\\n<ul>\\n<li>support TypeScript 4.8 (<a href=\"https://github-redirect.dependabot.com/typescript-eslint/typescript-eslint/issues/5551\">#5551</a>) (<a href=\"https://github.com/typescript-eslint/typescript-eslint/commit/81450ed7eaede74b384e9a91a84e9b4d34513866\">81450ed</a>)</li>\\n</ul>\\n<h2><a href=\"https://github.com/typescript-eslint/typescript-eslint/compare/v5.35.0...v5.35.1\">5.35.1</a> (2022-08-24)</h2>\\n<h3>Bug Fixes</h3>\\n<ul>\\n<li><strong>eslint-plugin:</strong> correct rule schemas to pass ajv validation (<a href=\"https://github-redirect.dependabot.com/typescript-eslint/typescript-eslint/issues/5531\">#5531</a>) (<a href=\"https://github.com/typescript-eslint/typescript-eslint/commit/dbf8b569dbada29e4a295d6c265976e55de1b2aa\">dbf8b56</a>)</li>\\n</ul>\\n<h1><a href=\"https://github.com/typescript-eslint/typescript-eslint/compare/v5.34.0...v5.35.0\">5.35.0</a> (2022-08-24)</h1>\\n<h3>Features</h3>\\n<ul>\\n<li><strong>eslint-plugin:</strong> [explicit-member-accessibility] suggest adding explicit accessibility specifiers (<a href=\"https://github-redirect.dependabot.com/typescript-eslint/typescript-eslint/issues/5492\">#5492</a>) (<a href=\"https://github.com/typescript-eslint/typescript-eslint/commit/0edb94aee55e1ec6afa7f46f99a9b308bbb66301\">0edb94a</a>)</li>\\n</ul>\\n<h1><a href=\"https://github.com/typescript-eslint/typescript-eslint/compare/v5.33.1...v5.34.0\">5.34.0</a> (2022-08-22)</h1>\\n<h3>Bug Fixes</h3>\\n<!-- raw HTML omitted -->\\n</blockquote>\\n<p>... (truncated)</p>\\n</details>\\n<details>\\n<summary>Commits</summary>\\n<ul>\\n<li><a href=\"https://github.com/typescript-eslint/typescript-eslint/commit/27b24e3dcb9b74a1a0f2a3c04b123a2da36ba034\"><code>27b24e3</code></a> chore: publish v5.36.1</li>\\n<li><a href=\"https://github.com/typescript-eslint/typescript-eslint/commit/4b37b9a99b6068c756d4ba98f0f7592345c11282\"><code>4b37b9a</code></a> chore: publish v5.36.0</li>\\n<li><a href=\"https://github.com/typescript-eslint/typescript-eslint/commit/7a8afe29039c6c80fe584acaf5d933424a4452a9\"><code>7a8afe2</code></a> fix(eslint-plugin): revert <a href=\"https://github.com/typescript-eslint/typescript-eslint/tree/HEAD/packages/eslint-plugin/issues/5266\">#5266</a> (<a href=\"https://github.com/typescript-eslint/typescript-eslint/tree/HEAD/packages/eslint-plugin/issues/5564\">#5564</a>)</li>\\n<li><a href=\"https://github.com/typescript-eslint/typescript-eslint/commit/81450ed7eaede74b384e9a91a84e9b4d34513866\"><code>81450ed</code></a> feat: support TypeScript 4.8 (<a href=\"https://github.com/typescript-eslint/typescript-eslint/tree/HEAD/packages/eslint-plugin/issues/5551\">#5551</a>)</li>\\n<li><a href=\"https://github.com/typescript-eslint/typescript-eslint/commit/39829c01906f326fec94e9b3a5fdb1730eb02002\"><code>39829c0</code></a> docs: Fix links to getting started in README.md (<a href=\"https://github.com/typescript-eslint/typescript-eslint/tree/HEAD/packages/eslint-plugin/issues/5546\">#5546</a>)</li>\\n<li><a href=\"https://github.com/typescript-eslint/typescript-eslint/commit/4483a4be714605d2290b7b175f7c7377376c2a66\"><code>4483a4b</code></a> chore(utils): use <code>Extract</code> generic for <code>ast-utils</code>\\' <code>predicates</code>\\' helper fun...</li>\\n<li><a href=\"https://github.com/typescript-eslint/typescript-eslint/commit/cb43b4a19dcb967c3342dc8e677e57097b76d888\"><code>cb43b4a</code></a> chore: publish v5.35.1</li>\\n<li><a href=\"https://github.com/typescript-eslint/typescript-eslint/commit/dbf8b569dbada29e4a295d6c265976e55de1b2aa\"><code>dbf8b56</code></a> fix(eslint-plugin): correct rule schemas to pass ajv validation (<a href=\"https://github.com/typescript-eslint/typescript-eslint/tree/HEAD/packages/eslint-plugin/issues/5531\">#5531</a>)</li>\\n<li><a href=\"https://github.com/typescript-eslint/typescript-eslint/commit/96b6639c8d6c0963eaaf8d7df88057ceec44aedd\"><code>96b6639</code></a> chore: publish v5.35.0</li>\\n<li><a href=\"https://github.com/typescript-eslint/typescript-eslint/commit/0edb94aee55e1ec6afa7f46f99a9b308bbb66301\"><code>0edb94a</code></a> feat(eslint-plugin): [explicit-member-accessibility] suggest adding explicit ...</li>\\n<li>Additional commits viewable in <a href=\"https://github.com/typescript-eslint/typescript-eslint/commits/v5.36.1/packages/eslint-plugin\">compare view</a></li>\\n</ul>\\n</details>\\n<br />\\n\\n\\n[![Dependabot compatibility score](https://dependabot-badges.githubapp.com/badges/compatibility_score?dependency-name=@typescript-eslint/eslint-plugin&package-manager=npm_and_yarn&previous-version=5.29.0&new-version=5.36.1)](https://docs.github.com/en/github/managing-security-vulnerabilities/about-dependabot-security-updates#about-compatibility-scores)\\n\\nDependabot will resolve any conflicts with this PR as long as you don\\'t alter it yourself. You can also trigger a rebase manually by commenting `@dependabot rebase`.\\n\\n[//]: # (dependabot-automerge-start)\\n[//]: # (dependabot-automerge-end)\\n\\n---\\n\\n<details>\\n<summary>Dependabot commands and options</summary>\\n<br />\\n\\nYou can trigger Dependabot actions by commenting on this PR:\\n- `@dependabot rebase` will rebase this PR\\n- `@dependabot recreate` will recreate this PR, overwriting any edits that have been made to it\\n- `@dependabot merge` will merge this PR after your CI passes on it\\n- `@dependabot squash and merge` will squash and merge this PR after your CI passes on it\\n- `@dependabot cancel merge` will cancel a previously requested merge and block automerging\\n- `@dependabot reopen` will reopen this PR if it is closed\\n- `@dependabot close` will close this PR and stop Dependabot recreating it. You can achieve the same result by closing it manually\\n- `@dependabot ignore this major version` will close this PR and stop Dependabot creating any more for this major version (unless you reopen the PR or upgrade to it yourself)\\n- `@dependabot ignore this minor version` will close this PR and stop Dependabot creating any more for this minor version (unless you reopen the PR or upgrade to it yourself)\\n- `@dependabot ignore this dependency` will close this PR and stop Dependabot creating any more for this dependency (unless you reopen the PR or upgrade to it yourself)\\n\\n\\n</details>', 'created_at': '2022-08-31T05:48:21Z', 'updated_at': '2022-09-06T05:42:56Z', 'closed_at': '2022-09-06T05:42:56Z', 'merged_at': None, 'merge_commit_sha': '3b08c27d39cd69c1f6f7788630cb378d868f179a', 'assignee': None, 'assignees': [], 'requested_reviewers': [{'login': 'dontrolle', 'id': 4415045, 'node_id': 'MDQ6VXNlcjQ0MTUwNDU=', 'avatar_url': 'https://avatars.githubusercontent.com/u/4415045?v=4', 'gravatar_id': '', 'url': 'https://api.github.com/users/dontrolle', 'html_url': 'https://github.com/dontrolle', 'followers_url': 'https://api.github.com/users/dontrolle/followers', 'following_url': 'https://api.github.com/users/dontrolle/following{/other_user}', 'gists_url': 'https://api.github.com/users/dontrolle/gists{/gist_id}', 'starred_url': 'https://api.github.com/users/dontrolle/starred{/owner}{/repo}', 'subscriptions_url': 'https://api.github.com/users/dontrolle/subscriptions', 'organizations_url': 'https://api.github.com/users/dontrolle/orgs', 'repos_url': 'https://api.github.com/users/dontrolle/repos', 'events_url': 'https://api.github.com/users/dontrolle/events{/privacy}', 'received_events_url': 'https://api.github.com/users/dontrolle/received_events', 'type': 'User', 'site_admin': False}], 'requested_teams': [], 'labels': [{'id': 3989834315, 'node_id': 'LA_kwDOGVZGG87t0ApL', 'url': 'https://api.github.com/repos/mangrovedao/mangrove/labels/dependencies', 'name': 'dependencies', 'color': '0366d6', 'default': False, 'description': 'Pull requests that update a dependency file'}, {'id': 3989835039, 'node_id': 'LA_kwDOGVZGG87t0A0f', 'url': 'https://api.github.com/repos/mangrovedao/mangrove/labels/javascript', 'name': 'javascript', 'color': '168700', 'default': False, 'description': 'Pull requests that update Javascript code'}], 'milestone': None, 'draft': False, 'commits_url': 'https://api.github.com/repos/mangrovedao/mangrove/pulls/688/commits', 'review_comments_url': 'https://api.github.com/repos/mangrovedao/mangrove/pulls/688/comments', 'review_comment_url': 'https://api.github.com/repos/mangrovedao/mangrove/pulls/comments{/number}', 'comments_url': 'https://api.github.com/repos/mangrovedao/mangrove/issues/688/comments', 'statuses_url': 'https://api.github.com/repos/mangrovedao/mangrove/statuses/89bf0123cc3534a204a3506fae8bd814b5a0f4fe', 'head': {'label': 'mangrovedao:dependabot/npm_and_yarn/typescript-eslint/eslint-plugin-5.36.1', 'ref': 'dependabot/npm_and_yarn/typescript-eslint/eslint-plugin-5.36.1', 'sha': '89bf0123cc3534a204a3506fae8bd814b5a0f4fe', 'user': {'login': 'mangrovedao', 'id': 67956013, 'node_id': 'MDEyOk9yZ2FuaXphdGlvbjY3OTU2MDEz', 'avatar_url': 'https://avatars.githubusercontent.com/u/67956013?v=4', 'gravatar_id': '', 'url': 'https://api.github.com/users/mangrovedao', 'html_url': 'https://github.com/mangrovedao', 'followers_url': 'https://api.github.com/users/mangrovedao/followers', 'following_url': 'https://api.github.com/users/mangrovedao/following{/other_user}', 'gists_url': 'https://api.github.com/users/mangrovedao/gists{/gist_id}', 'starred_url': 'https://api.github.com/users/mangrovedao/starred{/owner}{/repo}', 'subscriptions_url': 'https://api.github.com/users/mangrovedao/subscriptions', 'organizations_url': 'https://api.github.com/users/mangrovedao/orgs', 'repos_url': 'https://api.github.com/users/mangrovedao/repos', 'events_url': 'https://api.github.com/users/mangrovedao/events{/privacy}', 'received_events_url': 'https://api.github.com/users/mangrovedao/received_events', 'type': 'Organization', 'site_admin': False}, 'repo': {'id': 425084443, 'node_id': 'R_kgDOGVZGGw', 'name': 'mangrove', 'full_name': 'mangrovedao/mangrove', 'private': False, 'owner': {'login': 'mangrovedao', 'id': 67956013, 'node_id': 'MDEyOk9yZ2FuaXphdGlvbjY3OTU2MDEz', 'avatar_url': 'https://avatars.githubusercontent.com/u/67956013?v=4', 'gravatar_id': '', 'url': 'https://api.github.com/users/mangrovedao', 'html_url': 'https://github.com/mangrovedao', 'followers_url': 'https://api.github.com/users/mangrovedao/followers', 'following_url': 'https://api.github.com/users/mangrovedao/following{/other_user}', 'gists_url': 'https://api.github.com/users/mangrovedao/gists{/gist_id}', 'starred_url': 'https://api.github.com/users/mangrovedao/starred{/owner}{/repo}', 'subscriptions_url': 'https://api.github.com/users/mangrovedao/subscriptions', 'organizations_url': 'https://api.github.com/users/mangrovedao/orgs', 'repos_url': 'https://api.github.com/users/mangrovedao/repos', 'events_url': 'https://api.github.com/users/mangrovedao/events{/privacy}', 'received_events_url': 'https://api.github.com/users/mangrovedao/received_events', 'type': 'Organization', 'site_admin': False}, 'html_url': 'https://github.com/mangrovedao/mangrove', 'description': 'Development repository for Mangrove', 'fork': False, 'url': 'https://api.github.com/repos/mangrovedao/mangrove', 'forks_url': 'https://api.github.com/repos/mangrovedao/mangrove/forks', 'keys_url': 'https://api.github.com/repos/mangrovedao/mangrove/keys{/key_id}', 'collaborators_url': 'https://api.github.com/repos/mangrovedao/mangrove/collaborators{/collaborator}', 'teams_url': 'https://api.github.com/repos/mangrovedao/mangrove/teams', 'hooks_url': 'https://api.github.com/repos/mangrovedao/mangrove/hooks', 'issue_events_url': 'https://api.github.com/repos/mangrovedao/mangrove/issues/events{/number}', 'events_url': 'https://api.github.com/repos/mangrovedao/mangrove/events', 'assignees_url': 'https://api.github.com/repos/mangrovedao/mangrove/assignees{/user}', 'branches_url': 'https://api.github.com/repos/mangrovedao/mangrove/branches{/branch}', 'tags_url': 'https://api.github.com/repos/mangrovedao/mangrove/tags', 'blobs_url': 'https://api.github.com/repos/mangrovedao/mangrove/git/blobs{/sha}', 'git_tags_url': 'https://api.github.com/repos/mangrovedao/mangrove/git/tags{/sha}', 'git_refs_url': 'https://api.github.com/repos/mangrovedao/mangrove/git/refs{/sha}', 'trees_url': 'https://api.github.com/repos/mangrovedao/mangrove/git/trees{/sha}', 'statuses_url': 'https://api.github.com/repos/mangrovedao/mangrove/statuses/{sha}', 'languages_url': 'https://api.github.com/repos/mangrovedao/mangrove/languages', 'stargazers_url': 'https://api.github.com/repos/mangrovedao/mangrove/stargazers', 'contributors_url': 'https://api.github.com/repos/mangrovedao/mangrove/contributors', 'subscribers_url': 'https://api.github.com/repos/mangrovedao/mangrove/subscribers', 'subscription_url': 'https://api.github.com/repos/mangrovedao/mangrove/subscription', 'commits_url': 'https://api.github.com/repos/mangrovedao/mangrove/commits{/sha}', 'git_commits_url': 'https://api.github.com/repos/mangrovedao/mangrove/git/commits{/sha}', 'comments_url': 'https://api.github.com/repos/mangrovedao/mangrove/comments{/number}', 'issue_comment_url': 'https://api.github.com/repos/mangrovedao/mangrove/issues/comments{/number}', 'contents_url': 'https://api.github.com/repos/mangrovedao/mangrove/contents/{+path}', 'compare_url': 'https://api.github.com/repos/mangrovedao/mangrove/compare/{base}...{head}', 'merges_url': 'https://api.github.com/repos/mangrovedao/mangrove/merges', 'archive_url': 'https://api.github.com/repos/mangrovedao/mangrove/{archive_format}{/ref}', 'downloads_url': 'https://api.github.com/repos/mangrovedao/mangrove/downloads', 'issues_url': 'https://api.github.com/repos/mangrovedao/mangrove/issues{/number}', 'pulls_url': 'https://api.github.com/repos/mangrovedao/mangrove/pulls{/number}', 'milestones_url': 'https://api.github.com/repos/mangrovedao/mangrove/milestones{/number}', 'notifications_url': 'https://api.github.com/repos/mangrovedao/mangrove/notifications{?since,all,participating}', 'labels_url': 'https://api.github.com/repos/mangrovedao/mangrove/labels{/name}', 'releases_url': 'https://api.github.com/repos/mangrovedao/mangrove/releases{/id}', 'deployments_url': 'https://api.github.com/repos/mangrovedao/mangrove/deployments', 'created_at': '2021-11-05T21:07:01Z', 'updated_at': '2022-09-01T07:59:00Z', 'pushed_at': '2022-09-06T05:42:53Z', 'git_url': 'git://github.com/mangrovedao/mangrove.git', 'ssh_url': 'git@github.com:mangrovedao/mangrove.git', 'clone_url': 'https://github.com/mangrovedao/mangrove.git', 'svn_url': 'https://github.com/mangrovedao/mangrove', 'homepage': 'https://mangrove.exchange', 'size': 18822, 'stargazers_count': 19, 'watchers_count': 19, 'language': 'Solidity', 'has_issues': True, 'has_projects': True, 'has_downloads': True, 'has_wiki': True, 'has_pages': True, 'forks_count': 6, 'mirror_url': None, 'archived': False, 'disabled': False, 'open_issues_count': 64, 'license': None, 'allow_forking': True, 'is_template': False, 'web_commit_signoff_required': False, 'topics': [], 'visibility': 'public', 'forks': 6, 'open_issues': 64, 'watchers': 19, 'default_branch': 'master'}}, 'base': {'label': 'mangrovedao:master', 'ref': 'master', 'sha': '805f50ccb63408f94fc832e924191155ef980d82', 'user': {'login': 'mangrovedao', 'id': 67956013, 'node_id': 'MDEyOk9yZ2FuaXphdGlvbjY3OTU2MDEz', 'avatar_url': 'https://avatars.githubusercontent.com/u/67956013?v=4', 'gravatar_id': '', 'url': 'https://api.github.com/users/mangrovedao', 'html_url': 'https://github.com/mangrovedao', 'followers_url': 'https://api.github.com/users/mangrovedao/followers', 'following_url': 'https://api.github.com/users/mangrovedao/following{/other_user}', 'gists_url': 'https://api.github.com/users/mangrovedao/gists{/gist_id}', 'starred_url': 'https://api.github.com/users/mangrovedao/starred{/owner}{/repo}', 'subscriptions_url': 'https://api.github.com/users/mangrovedao/subscriptions', 'organizations_url': 'https://api.github.com/users/mangrovedao/orgs', 'repos_url': 'https://api.github.com/users/mangrovedao/repos', 'events_url': 'https://api.github.com/users/mangrovedao/events{/privacy}', 'received_events_url': 'https://api.github.com/users/mangrovedao/received_events', 'type': 'Organization', 'site_admin': False}, 'repo': {'id': 425084443, 'node_id': 'R_kgDOGVZGGw', 'name': 'mangrove', 'full_name': 'mangrovedao/mangrove', 'private': False, 'owner': {'login': 'mangrovedao', 'id': 67956013, 'node_id': 'MDEyOk9yZ2FuaXphdGlvbjY3OTU2MDEz', 'avatar_url': 'https://avatars.githubusercontent.com/u/67956013?v=4', 'gravatar_id': '', 'url': 'https://api.github.com/users/mangrovedao', 'html_url': 'https://github.com/mangrovedao', 'followers_url': 'https://api.github.com/users/mangrovedao/followers', 'following_url': 'https://api.github.com/users/mangrovedao/following{/other_user}', 'gists_url': 'https://api.github.com/users/mangrovedao/gists{/gist_id}', 'starred_url': 'https://api.github.com/users/mangrovedao/starred{/owner}{/repo}', 'subscriptions_url': 'https://api.github.com/users/mangrovedao/subscriptions', 'organizations_url': 'https://api.github.com/users/mangrovedao/orgs', 'repos_url': 'https://api.github.com/users/mangrovedao/repos', 'events_url': 'https://api.github.com/users/mangrovedao/events{/privacy}', 'received_events_url': 'https://api.github.com/users/mangrovedao/received_events', 'type': 'Organization', 'site_admin': False}, 'html_url': 'https://github.com/mangrovedao/mangrove', 'description': 'Development repository for Mangrove', 'fork': False, 'url': 'https://api.github.com/repos/mangrovedao/mangrove', 'forks_url': 'https://api.github.com/repos/mangrovedao/mangrove/forks', 'keys_url': 'https://api.github.com/repos/mangrovedao/mangrove/keys{/key_id}', 'collaborators_url': 'https://api.github.com/repos/mangrovedao/mangrove/collaborators{/collaborator}', 'teams_url': 'https://api.github.com/repos/mangrovedao/mangrove/teams', 'hooks_url': 'https://api.github.com/repos/mangrovedao/mangrove/hooks', 'issue_events_url': 'https://api.github.com/repos/mangrovedao/mangrove/issues/events{/number}', 'events_url': 'https://api.github.com/repos/mangrovedao/mangrove/events', 'assignees_url': 'https://api.github.com/repos/mangrovedao/mangrove/assignees{/user}', 'branches_url': 'https://api.github.com/repos/mangrovedao/mangrove/branches{/branch}', 'tags_url': 'https://api.github.com/repos/mangrovedao/mangrove/tags', 'blobs_url': 'https://api.github.com/repos/mangrovedao/mangrove/git/blobs{/sha}', 'git_tags_url': 'https://api.github.com/repos/mangrovedao/mangrove/git/tags{/sha}', 'git_refs_url': 'https://api.github.com/repos/mangrovedao/mangrove/git/refs{/sha}', 'trees_url': 'https://api.github.com/repos/mangrovedao/mangrove/git/trees{/sha}', 'statuses_url': 'https://api.github.com/repos/mangrovedao/mangrove/statuses/{sha}', 'languages_url': 'https://api.github.com/repos/mangrovedao/mangrove/languages', 'stargazers_url': 'https://api.github.com/repos/mangrovedao/mangrove/stargazers', 'contributors_url': 'https://api.github.com/repos/mangrovedao/mangrove/contributors', 'subscribers_url': 'https://api.github.com/repos/mangrovedao/mangrove/subscribers', 'subscription_url': 'https://api.github.com/repos/mangrovedao/mangrove/subscription', 'commits_url': 'https://api.github.com/repos/mangrovedao/mangrove/commits{/sha}', 'git_commits_url': 'https://api.github.com/repos/mangrovedao/mangrove/git/commits{/sha}', 'comments_url': 'https://api.github.com/repos/mangrovedao/mangrove/comments{/number}', 'issue_comment_url': 'https://api.github.com/repos/mangrovedao/mangrove/issues/comments{/number}', 'contents_url': 'https://api.github.com/repos/mangrovedao/mangrove/contents/{+path}', 'compare_url': 'https://api.github.com/repos/mangrovedao/mangrove/compare/{base}...{head}', 'merges_url': 'https://api.github.com/repos/mangrovedao/mangrove/merges', 'archive_url': 'https://api.github.com/repos/mangrovedao/mangrove/{archive_format}{/ref}', 'downloads_url': 'https://api.github.com/repos/mangrovedao/mangrove/downloads', 'issues_url': 'https://api.github.com/repos/mangrovedao/mangrove/issues{/number}', 'pulls_url': 'https://api.github.com/repos/mangrovedao/mangrove/pulls{/number}', 'milestones_url': 'https://api.github.com/repos/mangrovedao/mangrove/milestones{/number}', 'notifications_url': 'https://api.github.com/repos/mangrovedao/mangrove/notifications{?since,all,participating}', 'labels_url': 'https://api.github.com/repos/mangrovedao/mangrove/labels{/name}', 'releases_url': 'https://api.github.com/repos/mangrovedao/mangrove/releases{/id}', 'deployments_url': 'https://api.github.com/repos/mangrovedao/mangrove/deployments', 'created_at': '2021-11-05T21:07:01Z', 'updated_at': '2022-09-01T07:59:00Z', 'pushed_at': '2022-09-06T05:42:53Z', 'git_url': 'git://github.com/mangrovedao/mangrove.git', 'ssh_url': 'git@github.com:mangrovedao/mangrove.git', 'clone_url': 'https://github.com/mangrovedao/mangrove.git', 'svn_url': 'https://github.com/mangrovedao/mangrove', 'homepage': 'https://mangrove.exchange', 'size': 18822, 'stargazers_count': 19, 'watchers_count': 19, 'language': 'Solidity', 'has_issues': True, 'has_projects': True, 'has_downloads': True, 'has_wiki': True, 'has_pages': True, 'forks_count': 6, 'mirror_url': None, 'archived': False, 'disabled': False, 'open_issues_count': 64, 'license': None, 'allow_forking': True, 'is_template': False, 'web_commit_signoff_required': False, 'topics': [], 'visibility': 'public', 'forks': 6, 'open_issues': 64, 'watchers': 19, 'default_branch': 'master'}}, '_links': {'self': {'href': 'https://api.github.com/repos/mangrovedao/mangrove/pulls/688'}, 'html': {'href': 'https://github.com/mangrovedao/mangrove/pull/688'}, 'issue': {'href': 'https://api.github.com/repos/mangrovedao/mangrove/issues/688'}, 'comments': {'href': 'https://api.github.com/repos/mangrovedao/mangrove/issues/688/comments'}, 'review_comments': {'href': 'https://api.github.com/repos/mangrovedao/mangrove/pulls/688/comments'}, 'review_comment': {'href': 'https://api.github.com/repos/mangrovedao/mangrove/pulls/comments{/number}'}, 'commits': {'href': 'https://api.github.com/repos/mangrovedao/mangrove/pulls/688/commits'}, 'statuses': {'href': 'https://api.github.com/repos/mangrovedao/mangrove/statuses/89bf0123cc3534a204a3506fae8bd814b5a0f4fe'}}, 'author_association': 'CONTRIBUTOR', 'auto_merge': None, 'active_lock_reason': None, 'merged': False, 'mergeable': True, 'rebaseable': True, 'mergeable_state': 'clean', 'merged_by': None, 'comments': 1, 'review_comments': 0, 'maintainer_can_modify': False, 'commits': 2, 'additions': 79, 'deletions': 33, 'changed_files': 8}}, 'public': True, 'created_at': '2022-09-06T05:42:57Z', 'org': {'id': 67956013, 'login': 'mangrovedao', 'gravatar_id': '', 'url': 'https://api.github.com/orgs/mangrovedao', 'avatar_url': 'https://avatars.githubusercontent.com/u/67956013?'}}, {'id': '23835821510', 'type': 'WatchEvent', 'actor': {'id': 30666140, 'login': 'ANDESH97', 'display_login': 'ANDESH97', 'gravatar_id': '', 'url': 'https://api.github.com/users/ANDESH97', 'avatar_url': 'https://avatars.githubusercontent.com/u/30666140?'}, 'repo': {'id': 297549856, 'name': 'akshayavb99/CodingNinjas_Java_DSA', 'url': 'https://api.github.com/repos/akshayavb99/CodingNinjas_Java_DSA'}, 'payload': {'action': 'started'}, 'public': True, 'created_at': '2022-09-06T05:42:57Z'}, {'id': '23835821506', 'type': 'PushEvent', 'actor': {'id': 103357166, 'login': 'vVolodya', 'display_login': 'vVolodya', 'gravatar_id': '', 'url': 'https://api.github.com/users/vVolodya', 'avatar_url': 'https://avatars.githubusercontent.com/u/103357166?'}, 'repo': {'id': 533172833, 'name': 'vVolodya/vVolodya', 'url': 'https://api.github.com/repos/vVolodya/vVolodya'}, 'payload': {'push_id': 10935194501, 'size': 1, 'distinct_size': 1, 'ref': 'refs/heads/main', 'head': '1cf7e17d317a21b6e9bf6b4408cd0dabe29c237e', 'before': 'b7dae07182d51d003f68f81cfc3cd8dd6d00a095', 'commits': [{'sha': '1cf7e17d317a21b6e9bf6b4408cd0dabe29c237e', 'author': {'email': '103357166+vVolodya@users.noreply.github.com', 'name': 'vVolodya'}, 'message': 'Update README.md', 'distinct': True, 'url': 'https://api.github.com/repos/vVolodya/vVolodya/commits/1cf7e17d317a21b6e9bf6b4408cd0dabe29c237e'}]}, 'public': True, 'created_at': '2022-09-06T05:42:57Z'}, {'id': '23835821505', 'type': 'PushEvent', 'actor': {'id': 60354633, 'login': 'Giromi', 'display_login': 'Giromi', 'gravatar_id': '', 'url': 'https://api.github.com/users/Giromi', 'avatar_url': 'https://avatars.githubusercontent.com/u/60354633?'}, 'repo': {'id': 525236114, 'name': 'Oris482/Minishell', 'url': 'https://api.github.com/repos/Oris482/Minishell'}, 'payload': {'push_id': 10935194492, 'size': 1, 'distinct_size': 1, 'ref': 'refs/heads/parser', 'head': 'a2af85766092e4958d53be4852ef692d0519d079', 'before': '568bd40b4cfcf5a5f83f929b7b394367f83bbc02', 'commits': [{'sha': 'a2af85766092e4958d53be4852ef692d0519d079', 'author': {'email': 'minsuki2@student.42seoul.kr', 'name': 'minsuki2'}, 'message': 'feat : parser.c  이진트리 초안 제작 #11', 'distinct': True, 'url': 'https://api.github.com/repos/Oris482/Minishell/commits/a2af85766092e4958d53be4852ef692d0519d079'}]}, 'public': True, 'created_at': '2022-09-06T05:42:57Z'}, {'id': '23835821495', 'type': 'IssuesEvent', 'actor': {'id': 63087665, 'login': 'nnfw-bot', 'display_login': 'nnfw-bot', 'gravatar_id': '', 'url': 'https://api.github.com/users/nnfw-bot', 'avatar_url': 'https://avatars.githubusercontent.com/u/63087665?'}, 'repo': {'id': 256170081, 'name': 'Samsung/ONE', 'url': 'https://api.github.com/repos/Samsung/ONE'}, 'payload': {'action': 'closed', 'issue': {'url': 'https://api.github.com/repos/Samsung/ONE/issues/9673', 'repository_url': 'https://api.github.com/repos/Samsung/ONE', 'labels_url': 'https://api.github.com/repos/Samsung/ONE/issues/9673/labels{/name}', 'comments_url': 'https://api.github.com/repos/Samsung/ONE/issues/9673/comments', 'events_url': 'https://api.github.com/repos/Samsung/ONE/issues/9673/events', 'html_url': 'https://github.com/Samsung/ONE/issues/9673', 'id': 1362712677, 'node_id': 'I_kwDOD0TYYc5ROVhl', 'number': 9673, 'title': '[CI] push-cross-runtime-test-debug failed!', 'user': {'login': 'nnfw-bot', 'id': 63087665, 'node_id': 'MDQ6VXNlcjYzMDg3NjY1', 'avatar_url': 'https://avatars.githubusercontent.com/u/63087665?v=4', 'gravatar_id': '', 'url': 'https://api.github.com/users/nnfw-bot', 'html_url': 'https://github.com/nnfw-bot', 'followers_url': 'https://api.github.com/users/nnfw-bot/followers', 'following_url': 'https://api.github.com/users/nnfw-bot/following{/other_user}', 'gists_url': 'https://api.github.com/users/nnfw-bot/gists{/gist_id}', 'starred_url': 'https://api.github.com/users/nnfw-bot/starred{/owner}{/repo}', 'subscriptions_url': 'https://api.github.com/users/nnfw-bot/subscriptions', 'organizations_url': 'https://api.github.com/users/nnfw-bot/orgs', 'repos_url': 'https://api.github.com/users/nnfw-bot/repos', 'events_url': 'https://api.github.com/users/nnfw-bot/events{/privacy}', 'received_events_url': 'https://api.github.com/users/nnfw-bot/received_events', 'type': 'User', 'site_admin': False}, 'labels': [{'id': 1990333822, 'node_id': 'MDU6TGFiZWwxOTkwMzMzODIy', 'url': 'https://api.github.com/repos/Samsung/ONE/labels/impact/critical', 'name': 'impact/critical', 'color': 'b60205', 'default': False, 'description': 'Extremely serious :('}], 'state': 'closed', 'locked': False, 'assignee': None, 'assignees': [], 'milestone': None, 'comments': 3, 'created_at': '2022-09-06T05:11:55Z', 'updated_at': '2022-09-06T05:42:56Z', 'closed_at': '2022-09-06T05:42:56Z', 'author_association': 'COLLABORATOR', 'active_lock_reason': None, 'body': '[View full output](http://npuci.mooo.com:8080/job/nnfw/job/master/job/push-cross-runtime-test-debug/520/)\\n\\n', 'reactions': {'url': 'https://api.github.com/repos/Samsung/ONE/issues/9673/reactions', 'total_count': 0, '+1': 0, '-1': 0, 'laugh': 0, 'hooray': 0, 'confused': 0, 'heart': 0, 'rocket': 0, 'eyes': 0}, 'timeline_url': 'https://api.github.com/repos/Samsung/ONE/issues/9673/timeline', 'performed_via_github_app': None, 'state_reason': 'completed'}}, 'public': True, 'created_at': '2022-09-06T05:42:57Z', 'org': {'id': 6210390, 'login': 'Samsung', 'gravatar_id': '', 'url': 'https://api.github.com/orgs/Samsung', 'avatar_url': 'https://avatars.githubusercontent.com/u/6210390?'}}, {'id': '23835821479', 'type': 'CreateEvent', 'actor': {'id': 97777490, 'login': 'rostislafqq', 'display_login': 'rostislafqq', 'gravatar_id': '', 'url': 'https://api.github.com/users/rostislafqq', 'avatar_url': 'https://avatars.githubusercontent.com/u/97777490?'}, 'repo': {'id': 533177393, 'name': 'rostislafqq/channelserviceMob', 'url': 'https://api.github.com/repos/rostislafqq/channelserviceMob'}, 'payload': {'ref': 'main', 'ref_type': 'branch', 'master_branch': 'main', 'description': None, 'pusher_type': 'user'}, 'public': True, 'created_at': '2022-09-06T05:42:57Z'}, {'id': '23835821501', 'type': 'CreateEvent', 'actor': {'id': 3459612, 'login': 'pauljeter', 'display_login': 'pauljeter', 'gravatar_id': '', 'url': 'https://api.github.com/users/pauljeter', 'avatar_url': 'https://avatars.githubusercontent.com/u/3459612?'}, 'repo': {'id': 164343086, 'name': 'momentum-design/momentum-ui', 'url': 'https://api.github.com/repos/momentum-design/momentum-ui'}, 'payload': {'ref': '@momentum-ui/core@19.15.28', 'ref_type': 'tag', 'master_branch': 'master', 'description': 'Momentum UI is a collection of UI libraries for implementing Momentum Design into web applications and websites.', 'pusher_type': 'user'}, 'public': True, 'created_at': '2022-09-06T05:42:57Z', 'org': {'id': 19691026, 'login': 'momentum-design', 'gravatar_id': '', 'url': 'https://api.github.com/orgs/momentum-design', 'avatar_url': 'https://avatars.githubusercontent.com/u/19691026?'}}, {'id': '23835821478', 'type': 'WatchEvent', 'actor': {'id': 54983614, 'login': 'Frey-html', 'display_login': 'Frey-html', 'gravatar_id': '', 'url': 'https://api.github.com/users/Frey-html', 'avatar_url': 'https://avatars.githubusercontent.com/u/54983614?'}, 'repo': {'id': 207696333, 'name': 'ruanyf/github-actions-demo', 'url': 'https://api.github.com/repos/ruanyf/github-actions-demo'}, 'payload': {'action': 'started'}, 'public': True, 'created_at': '2022-09-06T05:42:57Z'}, {'id': '23835821488', 'type': 'WatchEvent', 'actor': {'id': 87682121, 'login': 'Hshinigaami', 'display_login': 'Hshinigaami', 'gravatar_id': '', 'url': 'https://api.github.com/users/Hshinigaami', 'avatar_url': 'https://avatars.githubusercontent.com/u/87682121?'}, 'repo': {'id': 39788886, 'name': 'jhaddix/tbhm', 'url': 'https://api.github.com/repos/jhaddix/tbhm'}, 'payload': {'action': 'started'}, 'public': True, 'created_at': '2022-09-06T05:42:57Z'}]\n"
     ]
    }
   ],
   "source": [
    "print(r.json())"
   ]
  },
  {
   "cell_type": "markdown",
   "id": "cd6f5509",
   "metadata": {},
   "source": [
    "### pengenalan numpy"
   ]
  },
  {
   "cell_type": "code",
   "execution_count": 17,
   "id": "ea2c4ca4",
   "metadata": {},
   "outputs": [],
   "source": [
    "height = [1.75, 1.68, 1.8, 1.81, 1.69]"
   ]
  },
  {
   "cell_type": "code",
   "execution_count": 18,
   "id": "b246d42c",
   "metadata": {},
   "outputs": [],
   "source": [
    "weight = [66.4, 49.22, 66.3, 88.56, 65.4]"
   ]
  },
  {
   "cell_type": "code",
   "execution_count": 19,
   "id": "26ac2893",
   "metadata": {},
   "outputs": [
    {
     "ename": "TypeError",
     "evalue": "unsupported operand type(s) for ** or pow(): 'list' and 'int'",
     "output_type": "error",
     "traceback": [
      "\u001b[1;31m---------------------------------------------------------------------\u001b[0m",
      "\u001b[1;31mTypeError\u001b[0m                           Traceback (most recent call last)",
      "Input \u001b[1;32mIn [19]\u001b[0m, in \u001b[0;36m<cell line: 1>\u001b[1;34m()\u001b[0m\n\u001b[1;32m----> 1\u001b[0m weight \u001b[38;5;241m/\u001b[39m \u001b[43mheight\u001b[49m\u001b[43m \u001b[49m\u001b[38;5;241;43m*\u001b[39;49m\u001b[38;5;241;43m*\u001b[39;49m\u001b[43m \u001b[49m\u001b[38;5;241;43m2\u001b[39;49m\n",
      "\u001b[1;31mTypeError\u001b[0m: unsupported operand type(s) for ** or pow(): 'list' and 'int'"
     ]
    }
   ],
   "source": [
    "weight / height ** 2"
   ]
  },
  {
   "cell_type": "code",
   "execution_count": 20,
   "id": "7fd57f52",
   "metadata": {},
   "outputs": [],
   "source": [
    "import numpy as np"
   ]
  },
  {
   "cell_type": "code",
   "execution_count": 23,
   "id": "13314757",
   "metadata": {},
   "outputs": [],
   "source": [
    "height = [1.75, 1.68, 1.8, 1.81, 1.69]"
   ]
  },
  {
   "cell_type": "code",
   "execution_count": 24,
   "id": "aa15bdbe",
   "metadata": {},
   "outputs": [],
   "source": [
    "weight = [66.4, 49.22, 66.3, 88.56, 65.4]"
   ]
  },
  {
   "cell_type": "code",
   "execution_count": 25,
   "id": "39778564",
   "metadata": {},
   "outputs": [],
   "source": [
    "np_height = np.array(height)"
   ]
  },
  {
   "cell_type": "code",
   "execution_count": 26,
   "id": "7735f573",
   "metadata": {},
   "outputs": [],
   "source": [
    "np_weight = np.array(weight)"
   ]
  },
  {
   "cell_type": "code",
   "execution_count": 27,
   "id": "89d85e27",
   "metadata": {},
   "outputs": [],
   "source": [
    "bmi = np_weight/np_height ** 2"
   ]
  },
  {
   "cell_type": "code",
   "execution_count": 28,
   "id": "13172ec6",
   "metadata": {},
   "outputs": [
    {
     "name": "stdout",
     "output_type": "stream",
     "text": [
      "[21.68163265 17.43905896 20.46296296 27.03214188 22.8983579 ]\n"
     ]
    }
   ],
   "source": [
    "print(bmi)"
   ]
  },
  {
   "cell_type": "code",
   "execution_count": 29,
   "id": "ca15a78a",
   "metadata": {},
   "outputs": [],
   "source": [
    "mixed_array = np.array([1.0, 'is', True])"
   ]
  },
  {
   "cell_type": "code",
   "execution_count": 30,
   "id": "d1b85f21",
   "metadata": {},
   "outputs": [
    {
     "name": "stdout",
     "output_type": "stream",
     "text": [
      "['1.0' 'is' 'True']\n"
     ]
    }
   ],
   "source": [
    "print(mixed_array)"
   ]
  },
  {
   "cell_type": "code",
   "execution_count": 31,
   "id": "c686677e",
   "metadata": {},
   "outputs": [],
   "source": [
    "numlist = [1,2,3]"
   ]
  },
  {
   "cell_type": "code",
   "execution_count": 32,
   "id": "33a9d379",
   "metadata": {},
   "outputs": [],
   "source": [
    "nparray = np.array([1,2,3])"
   ]
  },
  {
   "cell_type": "code",
   "execution_count": 33,
   "id": "c10610f9",
   "metadata": {},
   "outputs": [
    {
     "data": {
      "text/plain": [
       "[1, 2, 3, 1, 2, 3]"
      ]
     },
     "execution_count": 33,
     "metadata": {},
     "output_type": "execute_result"
    }
   ],
   "source": [
    "numlist + numlist"
   ]
  },
  {
   "cell_type": "code",
   "execution_count": 34,
   "id": "f5ab74e9",
   "metadata": {},
   "outputs": [
    {
     "data": {
      "text/plain": [
       "array([2, 4, 6])"
      ]
     },
     "execution_count": 34,
     "metadata": {},
     "output_type": "execute_result"
    }
   ],
   "source": [
    "nparray + nparray"
   ]
  },
  {
   "cell_type": "code",
   "execution_count": 35,
   "id": "2d727e70",
   "metadata": {},
   "outputs": [
    {
     "data": {
      "text/plain": [
       "array([21.68163265, 17.43905896, 20.46296296, 27.03214188, 22.8983579 ])"
      ]
     },
     "execution_count": 35,
     "metadata": {},
     "output_type": "execute_result"
    }
   ],
   "source": [
    "bmi"
   ]
  },
  {
   "cell_type": "code",
   "execution_count": 36,
   "id": "4a0c76d9",
   "metadata": {},
   "outputs": [
    {
     "data": {
      "text/plain": [
       "array([False, False, False,  True, False])"
      ]
     },
     "execution_count": 36,
     "metadata": {},
     "output_type": "execute_result"
    }
   ],
   "source": [
    "bmi > 24"
   ]
  },
  {
   "cell_type": "code",
   "execution_count": 43,
   "id": "e90143aa",
   "metadata": {},
   "outputs": [
    {
     "ename": "NameError",
     "evalue": "name 'bmii' is not defined",
     "output_type": "error",
     "traceback": [
      "\u001b[1;31m---------------------------------------------------------------------\u001b[0m",
      "\u001b[1;31mNameError\u001b[0m                           Traceback (most recent call last)",
      "Input \u001b[1;32mIn [43]\u001b[0m, in \u001b[0;36m<cell line: 1>\u001b[1;34m()\u001b[0m\n\u001b[1;32m----> 1\u001b[0m \u001b[43mbmii\u001b[49m [bmi \u001b[38;5;241m>\u001b[39m \u001b[38;5;241m24\u001b[39m]\n",
      "\u001b[1;31mNameError\u001b[0m: name 'bmii' is not defined"
     ]
    }
   ],
   "source": [
    "bmi [bmi > 24]"
   ]
  },
  {
   "cell_type": "markdown",
   "id": "b6336d40",
   "metadata": {},
   "source": [
    "### numpy 2d"
   ]
  },
  {
   "cell_type": "code",
   "execution_count": 44,
   "id": "8ec02e4f",
   "metadata": {},
   "outputs": [],
   "source": [
    "height = np.array([1.75, 1.68, 1.8])"
   ]
  },
  {
   "cell_type": "code",
   "execution_count": 45,
   "id": "45d5a32c",
   "metadata": {},
   "outputs": [],
   "source": [
    "weight = np.array([66.4, 49.22, 66.3])"
   ]
  },
  {
   "cell_type": "code",
   "execution_count": 46,
   "id": "a27ecf5a",
   "metadata": {},
   "outputs": [
    {
     "data": {
      "text/plain": [
       "numpy.ndarray"
      ]
     },
     "execution_count": 46,
     "metadata": {},
     "output_type": "execute_result"
    }
   ],
   "source": [
    "type(height)"
   ]
  },
  {
   "cell_type": "code",
   "execution_count": 47,
   "id": "77ca04d8",
   "metadata": {},
   "outputs": [],
   "source": [
    "np_2d = np.array ([[1.75, 1.68, 1.8], [66.4, 49.22, 66.3]])"
   ]
  },
  {
   "cell_type": "code",
   "execution_count": 48,
   "id": "fd37a48c",
   "metadata": {},
   "outputs": [
    {
     "data": {
      "text/plain": [
       "array([[ 1.75,  1.68,  1.8 ],\n",
       "       [66.4 , 49.22, 66.3 ]])"
      ]
     },
     "execution_count": 48,
     "metadata": {},
     "output_type": "execute_result"
    }
   ],
   "source": [
    "np_2d"
   ]
  },
  {
   "cell_type": "code",
   "execution_count": 50,
   "id": "5e418bc8",
   "metadata": {},
   "outputs": [
    {
     "data": {
      "text/plain": [
       "(2, 3)"
      ]
     },
     "execution_count": 50,
     "metadata": {},
     "output_type": "execute_result"
    }
   ],
   "source": [
    "np_2d.shape"
   ]
  },
  {
   "cell_type": "code",
   "execution_count": 51,
   "id": "85888078",
   "metadata": {},
   "outputs": [
    {
     "data": {
      "text/plain": [
       "array([1.75, 1.68, 1.8 ])"
      ]
     },
     "execution_count": 51,
     "metadata": {},
     "output_type": "execute_result"
    }
   ],
   "source": [
    "np_2d[0]"
   ]
  },
  {
   "cell_type": "code",
   "execution_count": 53,
   "id": "c57317e1",
   "metadata": {},
   "outputs": [
    {
     "data": {
      "text/plain": [
       "1.8"
      ]
     },
     "execution_count": 53,
     "metadata": {},
     "output_type": "execute_result"
    }
   ],
   "source": [
    "# kolom indeks 0, baris indeks 2\n",
    "np_2d[0][2]"
   ]
  },
  {
   "cell_type": "code",
   "execution_count": null,
   "id": "3aeee1a0",
   "metadata": {},
   "outputs": [],
   "source": []
  },
  {
   "cell_type": "code",
   "execution_count": null,
   "id": "129887c6",
   "metadata": {},
   "outputs": [],
   "source": []
  },
  {
   "cell_type": "code",
   "execution_count": null,
   "id": "c03e505f",
   "metadata": {},
   "outputs": [],
   "source": []
  },
  {
   "cell_type": "code",
   "execution_count": null,
   "id": "6274755c",
   "metadata": {},
   "outputs": [],
   "source": []
  },
  {
   "cell_type": "code",
   "execution_count": null,
   "id": "f5df5051",
   "metadata": {},
   "outputs": [],
   "source": []
  },
  {
   "cell_type": "code",
   "execution_count": null,
   "id": "2f329b63",
   "metadata": {},
   "outputs": [],
   "source": []
  },
  {
   "cell_type": "code",
   "execution_count": null,
   "id": "b437889f",
   "metadata": {},
   "outputs": [],
   "source": []
  },
  {
   "cell_type": "code",
   "execution_count": null,
   "id": "2601d939",
   "metadata": {},
   "outputs": [],
   "source": []
  },
  {
   "cell_type": "code",
   "execution_count": null,
   "id": "c6b1ccdb",
   "metadata": {},
   "outputs": [],
   "source": []
  },
  {
   "cell_type": "code",
   "execution_count": null,
   "id": "13ea879f",
   "metadata": {},
   "outputs": [],
   "source": []
  },
  {
   "cell_type": "code",
   "execution_count": null,
   "id": "5de31f17",
   "metadata": {},
   "outputs": [],
   "source": []
  },
  {
   "cell_type": "code",
   "execution_count": null,
   "id": "6f35f527",
   "metadata": {},
   "outputs": [],
   "source": []
  },
  {
   "cell_type": "code",
   "execution_count": null,
   "id": "41fc85c2",
   "metadata": {},
   "outputs": [],
   "source": []
  },
  {
   "cell_type": "code",
   "execution_count": null,
   "id": "8344f668",
   "metadata": {},
   "outputs": [],
   "source": []
  },
  {
   "cell_type": "code",
   "execution_count": null,
   "id": "cab7c96f",
   "metadata": {},
   "outputs": [],
   "source": []
  }
 ],
 "metadata": {
  "kernelspec": {
   "display_name": "Python 3 (ipykernel)",
   "language": "python",
   "name": "python3"
  },
  "language_info": {
   "codemirror_mode": {
    "name": "ipython",
    "version": 3
   },
   "file_extension": ".py",
   "mimetype": "text/x-python",
   "name": "python",
   "nbconvert_exporter": "python",
   "pygments_lexer": "ipython3",
   "version": "3.10.4"
  }
 },
 "nbformat": 4,
 "nbformat_minor": 5
}
