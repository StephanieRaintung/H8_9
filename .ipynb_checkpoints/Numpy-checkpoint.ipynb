{
 "cells": [
  {
   "cell_type": "code",
   "execution_count": 21,
   "id": "d567e65e",
   "metadata": {},
   "outputs": [
    {
     "data": {
      "text/plain": [
       "'1.22.3'"
      ]
     },
     "execution_count": 21,
     "metadata": {},
     "output_type": "execute_result"
    }
   ],
   "source": [
    "import numpy as np\n",
    "np.__version__"
   ]
  },
  {
   "cell_type": "markdown",
   "id": "e375c1e9",
   "metadata": {},
   "source": [
    "## Python List"
   ]
  },
  {
   "cell_type": "code",
   "execution_count": 22,
   "id": "4bc129fd",
   "metadata": {},
   "outputs": [],
   "source": [
    "# Mendefinisikan list\n",
    "# Misalnya terdapat GPA dari mahasiswa sem 1,2,3\n",
    "# lalu akan ditambahkan GPA semester 4 menggunakan 'append'\n",
    "# APPEND hanya ditambahkan diakhir\n",
    "# INSERT bisa ditambahkan ditengah.\n",
    "# POP menghapus satu angka dibelakang \n",
    "\n",
    "# ARRAY 1 DIMENSI\n",
    "\n",
    "gpas_as_list = [4.0, 3.2, 3.5]"
   ]
  },
  {
   "cell_type": "code",
   "execution_count": 23,
   "id": "f3befaf2",
   "metadata": {},
   "outputs": [
    {
     "data": {
      "text/plain": [
       "[4.0, 3.2, 3.5, 4.0]"
      ]
     },
     "execution_count": 23,
     "metadata": {},
     "output_type": "execute_result"
    }
   ],
   "source": [
    "gpas_as_list.append(4.0)\n",
    "gpas_as_list"
   ]
  },
  {
   "cell_type": "code",
   "execution_count": 24,
   "id": "c7e32cb4",
   "metadata": {},
   "outputs": [
    {
     "data": {
      "text/plain": [
       "[4.0, 'belum ada', 3.2, 3.5, 4.0]"
      ]
     },
     "execution_count": 24,
     "metadata": {},
     "output_type": "execute_result"
    }
   ],
   "source": [
    "gpas_as_list.insert(1, \"belum ada\")\n",
    "gpas_as_list"
   ]
  },
  {
   "cell_type": "code",
   "execution_count": 25,
   "id": "9740ee03",
   "metadata": {},
   "outputs": [
    {
     "data": {
      "text/plain": [
       "[4.0, 3.2, 3.5, 4.0]"
      ]
     },
     "execution_count": 25,
     "metadata": {},
     "output_type": "execute_result"
    }
   ],
   "source": [
    "gpas_as_list.pop(1)\n",
    "gpas_as_list"
   ]
  },
  {
   "cell_type": "markdown",
   "id": "1d9accbe",
   "metadata": {},
   "source": [
    "## Numpy Array"
   ]
  },
  {
   "cell_type": "code",
   "execution_count": 26,
   "id": "1f23f34d",
   "metadata": {},
   "outputs": [],
   "source": [
    "gpas = np.array(gpas_as_list)"
   ]
  },
  {
   "cell_type": "code",
   "execution_count": 27,
   "id": "dab15683",
   "metadata": {},
   "outputs": [
    {
     "data": {
      "text/plain": [
       "dtype('float64')"
      ]
     },
     "execution_count": 27,
     "metadata": {},
     "output_type": "execute_result"
    }
   ],
   "source": [
    "gpas.dtype"
   ]
  },
  {
   "cell_type": "code",
   "execution_count": 28,
   "id": "dc7b070f",
   "metadata": {},
   "outputs": [
    {
     "data": {
      "text/plain": [
       "4"
      ]
     },
     "execution_count": 28,
     "metadata": {},
     "output_type": "execute_result"
    }
   ],
   "source": [
    "gpas.size"
   ]
  },
  {
   "cell_type": "markdown",
   "id": "1d9efb95",
   "metadata": {},
   "source": [
    "## Study Log"
   ]
  },
  {
   "cell_type": "code",
   "execution_count": 29,
   "id": "a9a03b9d",
   "metadata": {},
   "outputs": [
    {
     "data": {
      "text/plain": [
       "array([0, 0, 0, 0, 0, 0, 0, 0, 0, 0, 0, 0, 0, 0, 0, 0, 0, 0, 0, 0, 0, 0,\n",
       "       0, 0, 0, 0, 0, 0, 0, 0, 0, 0, 0, 0, 0, 0, 0, 0, 0, 0, 0, 0, 0, 0,\n",
       "       0, 0, 0, 0, 0, 0, 0, 0, 0, 0, 0, 0, 0, 0, 0, 0, 0, 0, 0, 0, 0, 0,\n",
       "       0, 0, 0, 0, 0, 0, 0, 0, 0, 0, 0, 0, 0, 0, 0, 0, 0, 0, 0, 0, 0, 0,\n",
       "       0, 0, 0, 0, 0, 0, 0, 0, 0, 0, 0, 0], dtype=uint16)"
      ]
     },
     "execution_count": 29,
     "metadata": {},
     "output_type": "execute_result"
    }
   ],
   "source": [
    "study_minutes = np.zeros(100, np.uint16)\n",
    "study_minutes"
   ]
  },
  {
   "cell_type": "code",
   "execution_count": 30,
   "id": "7533f52d",
   "metadata": {},
   "outputs": [
    {
     "name": "stdout",
     "output_type": "stream",
     "text": [
      "Variable        Type       Data/Info\n",
      "------------------------------------\n",
      "a               ndarray    5: 5 elems, type `int32`, 20 bytes\n",
      "b               ndarray    5: 5 elems, type `int32`, 20 bytes\n",
      "gpas            ndarray    4: 4 elems, type `float64`, 32 bytes\n",
      "gpas_as_list    list       n=4\n",
      "np              module     <module 'numpy' from 'C:\\<...>ges\\\\numpy\\\\__init__.py'>\n",
      "orders          ndarray    4x4: 16 elems, type `int32`, 64 bytes\n",
      "prices          ndarray    4: 4 elems, type `float64`, 32 bytes\n",
      "study_less      ndarray    0: 0 elems, type `uint16`, 0 bytes\n",
      "study_minutes   ndarray    100: 100 elems, type `uint16`, 200 bytes\n",
      "totals          ndarray    4: 4 elems, type `int32`, 16 bytes\n",
      "x1              ndarray    3x3: 9 elems, type `float64`, 72 bytes\n",
      "x2              ndarray    3: 3 elems, type `float64`, 24 bytes\n"
     ]
    }
   ],
   "source": [
    "%whos"
   ]
  },
  {
   "cell_type": "markdown",
   "id": "d3603a73",
   "metadata": {},
   "source": [
    "## ARRAY (MULTI DIMENSI) 2 DIMENSI\n",
    "\n",
    "                   nilai per semester\n",
    "                   1[0]  2[1]  3[2]  4[3]\n",
    "murid 1(indeks 0)   _     _     _     _\n",
    "murid 2(indeks 1)   _     _     _     _\n",
    "murid 3(indeks 2)   _     _     _     _"
   ]
  },
  {
   "cell_type": "code",
   "execution_count": 31,
   "id": "18fa8b60",
   "metadata": {},
   "outputs": [
    {
     "data": {
      "text/plain": [
       "array([[4.  , 3.3 , 3.5 , 3.  ],\n",
       "       [3.96, 3.92, 2.7 , 2.1 ],\n",
       "       [3.2 , 3.8 , 2.8 , 4.5 ]], dtype=float16)"
      ]
     },
     "execution_count": 31,
     "metadata": {},
     "output_type": "execute_result"
    }
   ],
   "source": [
    "students_gpas = np.array([\n",
    "    [4.0, 3.3, 3.5, 3.0],\n",
    "    [3.96, 3.92, 2.7, 2.1],\n",
    "    [3.2, 3.8, 2.8, 4.5]], np.float16)\n",
    "\n",
    "students_gpas"
   ]
  },
  {
   "cell_type": "code",
   "execution_count": 32,
   "id": "b4ccb054",
   "metadata": {},
   "outputs": [
    {
     "data": {
      "text/plain": [
       "2"
      ]
     },
     "execution_count": 32,
     "metadata": {},
     "output_type": "execute_result"
    }
   ],
   "source": [
    "# ndim = NUMBER OF DIMENSION\n",
    "\n",
    "students_gpas.ndim"
   ]
  },
  {
   "cell_type": "code",
   "execution_count": 33,
   "id": "1a9b3fbb",
   "metadata": {},
   "outputs": [
    {
     "data": {
      "text/plain": [
       "(3, 4)"
      ]
     },
     "execution_count": 33,
     "metadata": {},
     "output_type": "execute_result"
    }
   ],
   "source": [
    "# Melihat bentuk array (SHAPE)\n",
    "# KOLOM = 3, BARIS = 4\n",
    "\n",
    "students_gpas.shape"
   ]
  },
  {
   "cell_type": "code",
   "execution_count": 34,
   "id": "24dc29d7",
   "metadata": {},
   "outputs": [
    {
     "data": {
      "text/plain": [
       "array([3.2, 3.8, 2.8, 4.5], dtype=float16)"
      ]
     },
     "execution_count": 34,
     "metadata": {},
     "output_type": "execute_result"
    }
   ],
   "source": [
    "students_gpas[2]"
   ]
  },
  {
   "cell_type": "code",
   "execution_count": 35,
   "id": "9fbbe99c",
   "metadata": {},
   "outputs": [
    {
     "data": {
      "text/plain": [
       "4.5"
      ]
     },
     "execution_count": 35,
     "metadata": {},
     "output_type": "execute_result"
    }
   ],
   "source": [
    "#Nilai Murid ke 2 di Semester 3\n",
    "\n",
    "students_gpas[2][3]"
   ]
  },
  {
   "cell_type": "markdown",
   "id": "36e5ced9",
   "metadata": {},
   "source": [
    "## Study Log Multidimensi"
   ]
  },
  {
   "cell_type": "code",
   "execution_count": 36,
   "id": "154c54c8",
   "metadata": {},
   "outputs": [
    {
     "data": {
      "text/plain": [
       "(2, 100)"
      ]
     },
     "execution_count": 36,
     "metadata": {},
     "output_type": "execute_result"
    }
   ],
   "source": [
    "study_minutes = np.array([\n",
    "    study_minutes,\n",
    "    np.zeros(100, np.uint16)\n",
    "])\n",
    "\n",
    "study_minutes.shape"
   ]
  },
  {
   "cell_type": "code",
   "execution_count": 37,
   "id": "366702b7",
   "metadata": {},
   "outputs": [
    {
     "data": {
      "text/plain": [
       "array([[ 0,  0,  0,  0,  0,  0,  0,  0,  0,  0,  0,  0,  0,  0,  0,  0,\n",
       "         0,  0,  0,  0,  0,  0,  0,  0,  0,  0,  0,  0,  0,  0,  0,  0,\n",
       "         0,  0,  0,  0,  0,  0,  0,  0,  0,  0,  0,  0,  0,  0,  0,  0,\n",
       "         0,  0,  0,  0,  0,  0,  0,  0,  0,  0,  0,  0,  0,  0,  0,  0,\n",
       "         0,  0,  0,  0,  0,  0,  0,  0,  0,  0,  0,  0,  0,  0,  0,  0,\n",
       "         0,  0,  0,  0,  0,  0,  0,  0,  0,  0,  0,  0,  0,  0,  0,  0,\n",
       "         0,  0,  0,  0],\n",
       "       [60,  0,  0,  0,  0,  0,  0,  0,  0,  0,  0,  0,  0,  0,  0,  0,\n",
       "         0,  0,  0,  0,  0,  0,  0,  0,  0,  0,  0,  0,  0,  0,  0,  0,\n",
       "         0,  0,  0,  0,  0,  0,  0,  0,  0,  0,  0,  0,  0,  0,  0,  0,\n",
       "         0,  0,  0,  0,  0,  0,  0,  0,  0,  0,  0,  0,  0,  0,  0,  0,\n",
       "         0,  0,  0,  0,  0,  0,  0,  0,  0,  0,  0,  0,  0,  0,  0,  0,\n",
       "         0,  0,  0,  0,  0,  0,  0,  0,  0,  0,  0,  0,  0,  0,  0,  0,\n",
       "         0,  0,  0,  0]], dtype=uint16)"
      ]
     },
     "execution_count": 37,
     "metadata": {},
     "output_type": "execute_result"
    }
   ],
   "source": [
    "study_minutes[1][0] = 60\n",
    "study_minutes"
   ]
  },
  {
   "cell_type": "code",
   "execution_count": 38,
   "id": "de08d491",
   "metadata": {},
   "outputs": [],
   "source": [
    "rand = np.random.RandomState"
   ]
  },
  {
   "cell_type": "code",
   "execution_count": 39,
   "id": "263e0d31",
   "metadata": {},
   "outputs": [
    {
     "data": {
      "text/plain": [
       "array([ 99,  45,  70, 162, 146,  70, 177, 176,  47, 148, 123,  67,  90,\n",
       "       122,  34, 160, 135, 102,  62,  61,  85,  52, 153, 128,  89,  37,\n",
       "       109,  60, 128,  57, 160,  67, 144,  97, 150, 148,  32, 155, 116,\n",
       "       137,  49,  70, 159, 159,  84, 114,  93, 110,  81, 122, 103,  53,\n",
       "        52, 147,  75,  93,  45,  46, 177,  91,  70,  69,  46, 150,  86,\n",
       "       170, 174, 143,  88,  71, 132,  67, 157, 118,  91, 158, 178, 176,\n",
       "        37, 155,  45,  66,  60,  35, 154,  75,  53,  33,  80, 126,  76,\n",
       "       113, 148, 163,  57,  83, 145, 148, 167, 129], dtype=uint16)"
      ]
     },
     "execution_count": 39,
     "metadata": {},
     "output_type": "execute_result"
    }
   ],
   "source": [
    "rand = np.random.RandomState(46)\n",
    "fake_log = rand.randint(30, 180, size=100, dtype=np.uint16)\n",
    "fake_log"
   ]
  },
  {
   "cell_type": "code",
   "execution_count": 40,
   "id": "2334ee8c",
   "metadata": {},
   "outputs": [
    {
     "data": {
      "text/plain": [
       "[45, 52]"
      ]
     },
     "execution_count": 40,
     "metadata": {},
     "output_type": "execute_result"
    }
   ],
   "source": [
    "# list\n",
    "[fake_log[1], fake_log[21]]"
   ]
  },
  {
   "cell_type": "code",
   "execution_count": 41,
   "id": "258fb157",
   "metadata": {},
   "outputs": [
    {
     "data": {
      "text/plain": [
       "[45]"
      ]
     },
     "execution_count": 41,
     "metadata": {},
     "output_type": "execute_result"
    }
   ],
   "source": [
    "[fake_log[1]]"
   ]
  },
  {
   "cell_type": "code",
   "execution_count": 42,
   "id": "34b99f70",
   "metadata": {},
   "outputs": [
    {
     "data": {
      "text/plain": [
       "45"
      ]
     },
     "execution_count": 42,
     "metadata": {},
     "output_type": "execute_result"
    }
   ],
   "source": [
    "fake_log[1]"
   ]
  },
  {
   "cell_type": "code",
   "execution_count": 43,
   "id": "16596d5d",
   "metadata": {},
   "outputs": [
    {
     "data": {
      "text/plain": [
       "array([45, 52], dtype=uint16)"
      ]
     },
     "execution_count": 43,
     "metadata": {},
     "output_type": "execute_result"
    }
   ],
   "source": [
    "# array\n",
    "\n",
    "fake_log[[1,21]]"
   ]
  },
  {
   "cell_type": "markdown",
   "id": "f8bfae2a",
   "metadata": {},
   "source": [
    "MENAMPILKAN ARRAY BARU, NAMUN SUSUNANNYA BERDASARKAN SUSUNAN\n",
    "ARRAY SEBELUMNYA"
   ]
  },
  {
   "cell_type": "code",
   "execution_count": 44,
   "id": "66641323",
   "metadata": {},
   "outputs": [
    {
     "data": {
      "text/plain": [
       "array([[45, 52],\n",
       "       [45, 70]], dtype=uint16)"
      ]
     },
     "execution_count": 44,
     "metadata": {},
     "output_type": "execute_result"
    }
   ],
   "source": [
    "index = np.array ([\n",
    "    [1,21],\n",
    "    [1,2]\n",
    "])\n",
    "\n",
    "fake_log[index]"
   ]
  },
  {
   "cell_type": "markdown",
   "id": "1a393f57",
   "metadata": {},
   "source": [
    "ARRAY SIFATNYA STATIC, TAPI JIKA MEMANFAATKAN NUMPY"
   ]
  },
  {
   "cell_type": "code",
   "execution_count": 46,
   "id": "a11985d0",
   "metadata": {},
   "outputs": [
    {
     "data": {
      "text/plain": [
       "array([  0,   0,   0,   0,   0,   0,   0,   0,   0,   0,   0,   0,   0,\n",
       "         0,   0,   0,   0,   0,   0,   0,   0,   0,   0,   0,   0,   0,\n",
       "         0,   0,   0,   0,   0,   0,   0,   0,   0,   0,   0,   0,   0,\n",
       "         0,   0,   0,   0,   0,   0,   0,   0,   0,   0,   0,   0,   0,\n",
       "         0,   0,   0,   0,   0,   0,   0,   0,   0,   0,   0,   0,   0,\n",
       "         0,   0,   0,   0,   0,   0,   0,   0,   0,   0,   0,   0,   0,\n",
       "         0,   0,   0,   0,   0,   0,   0,   0,   0,   0,   0,   0,   0,\n",
       "         0,   0,   0,   0,   0,   0,   0,   0,   0,  60,   0,   0,   0,\n",
       "         0,   0,   0,   0,   0,   0,   0,   0,   0,   0,   0,   0,   0,\n",
       "         0,   0,   0,   0,   0,   0,   0,   0,   0,   0,   0,   0,   0,\n",
       "         0,   0,   0,   0,   0,   0,   0,   0,   0,   0,   0,   0,   0,\n",
       "         0,   0,   0,   0,   0,   0,   0,   0,   0,   0,   0,   0,   0,\n",
       "         0,   0,   0,   0,   0,   0,   0,   0,   0,   0,   0,   0,   0,\n",
       "         0,   0,   0,   0,   0,   0,   0,   0,   0,   0,   0,   0,   0,\n",
       "         0,   0,   0,   0,   0,   0,   0,   0,   0,   0,   0,   0,   0,\n",
       "         0,   0,   0,   0,   0,  99,  45,  70, 162, 146,  70, 177, 176,\n",
       "        47, 148, 123,  67,  90, 122,  34, 160, 135, 102,  62,  61,  85,\n",
       "        52, 153, 128,  89,  37, 109,  60, 128,  57, 160,  67, 144,  97,\n",
       "       150, 148,  32, 155, 116, 137,  49,  70, 159, 159,  84, 114,  93,\n",
       "       110,  81, 122, 103,  53,  52, 147,  75,  93,  45,  46, 177,  91,\n",
       "        70,  69,  46, 150,  86, 170, 174, 143,  88,  71, 132,  67, 157,\n",
       "       118,  91, 158, 178, 176,  37, 155,  45,  66,  60,  35, 154,  75,\n",
       "        53,  33,  80, 126,  76, 113, 148, 163,  57,  83, 145, 148, 167,\n",
       "       129], dtype=uint16)"
      ]
     },
     "execution_count": 46,
     "metadata": {},
     "output_type": "execute_result"
    }
   ],
   "source": [
    "study_minutes = np.append(study_minutes, [fake_log])\n",
    "study_minutes"
   ]
  },
  {
   "cell_type": "markdown",
   "id": "cbdef7c4",
   "metadata": {},
   "source": [
    "# Slicing Array\n",
    "Proses dimana kita ingin memilih Array mana yang ingin kita gunakan\n",
    "\n",
    "Dari range 0-42, kita buat array random angka urut 0-41\n",
    "tiap array ada 7 kolom (indeks) dan 6 baris (elemen)"
   ]
  },
  {
   "cell_type": "code",
   "execution_count": 47,
   "id": "c6b000bb",
   "metadata": {},
   "outputs": [
    {
     "data": {
      "text/plain": [
       "array([[ 0,  1,  2,  3,  4,  5],\n",
       "       [ 6,  7,  8,  9, 10, 11],\n",
       "       [12, 13, 14, 15, 16, 17],\n",
       "       [18, 19, 20, 21, 22, 23],\n",
       "       [24, 25, 26, 27, 28, 29],\n",
       "       [30, 31, 32, 33, 34, 35],\n",
       "       [36, 37, 38, 39, 40, 41]])"
      ]
     },
     "execution_count": 47,
     "metadata": {},
     "output_type": "execute_result"
    }
   ],
   "source": [
    "practice = np.arange(42) \n",
    "practice.shape = (7,6)\n",
    "practice"
   ]
  },
  {
   "cell_type": "code",
   "execution_count": 48,
   "id": "ab95f453",
   "metadata": {},
   "outputs": [
    {
     "data": {
      "text/plain": [
       "13"
      ]
     },
     "execution_count": 48,
     "metadata": {},
     "output_type": "execute_result"
    }
   ],
   "source": [
    "# indeks ke 2 dan elemen 1\n",
    "# jangan lupa hitung dari nol\n",
    "\n",
    "practice[2,1]"
   ]
  },
  {
   "cell_type": "code",
   "execution_count": 49,
   "id": "6ede2596",
   "metadata": {},
   "outputs": [
    {
     "data": {
      "text/plain": [
       "13"
      ]
     },
     "execution_count": 49,
     "metadata": {},
     "output_type": "execute_result"
    }
   ],
   "source": [
    "practice[2,1]"
   ]
  },
  {
   "cell_type": "code",
   "execution_count": 50,
   "id": "d8a58820",
   "metadata": {},
   "outputs": [
    {
     "data": {
      "text/plain": [
       "array([[12, 13, 14, 15, 16, 17],\n",
       "       [18, 19, 20, 21, 22, 23],\n",
       "       [24, 25, 26, 27, 28, 29]])"
      ]
     },
     "execution_count": 50,
     "metadata": {},
     "output_type": "execute_result"
    }
   ],
   "source": [
    "# Menampilkan array di indeks 2 sampai 5, tapi hanya menampilkan\n",
    "# indeks 2 sampai 4 saja\n",
    "\n",
    "practice[2:5]"
   ]
  },
  {
   "cell_type": "code",
   "execution_count": 51,
   "id": "4ad6c0fd",
   "metadata": {},
   "outputs": [
    {
     "data": {
      "text/plain": [
       "array([15, 21, 27])"
      ]
     },
     "execution_count": 51,
     "metadata": {},
     "output_type": "execute_result"
    }
   ],
   "source": [
    "# Menampilkan array di indeks 2-5, tapi hanya di elemen 3 saja\n",
    "\n",
    "practice[2:5, 3]"
   ]
  },
  {
   "cell_type": "code",
   "execution_count": 52,
   "id": "aba6ccd9",
   "metadata": {},
   "outputs": [
    {
     "data": {
      "text/plain": [
       "array([[15, 16, 17],\n",
       "       [21, 22, 23],\n",
       "       [27, 28, 29]])"
      ]
     },
     "execution_count": 52,
     "metadata": {},
     "output_type": "execute_result"
    }
   ],
   "source": [
    "# Menampilkan array di indeks 2-5, dari elemen 3-5\n",
    "\n",
    "practice[2:5, 3:]"
   ]
  },
  {
   "cell_type": "markdown",
   "id": "8d8c460b",
   "metadata": {},
   "source": [
    "# Copy vs View\n"
   ]
  },
  {
   "cell_type": "code",
   "execution_count": 53,
   "id": "6f70c5da",
   "metadata": {},
   "outputs": [
    {
     "data": {
      "text/plain": [
       "([1, 2, 3], [12345, 2, 3])"
      ]
     },
     "execution_count": 53,
     "metadata": {},
     "output_type": "execute_result"
    }
   ],
   "source": [
    "practice_list = [1,2,3]\n",
    "practice_list_copy = practice_list[:]\n",
    "practice_list, practice_list_copy\n",
    "practice_list_copy[0] = 12345\n",
    "practice_list, practice_list_copy"
   ]
  },
  {
   "cell_type": "code",
   "execution_count": 54,
   "id": "f03ed6db",
   "metadata": {},
   "outputs": [
    {
     "data": {
      "text/plain": [
       "(array([[12345,     1,     2,     3,     4,     5],\n",
       "        [    6,     7,     8,     9,    10,    11],\n",
       "        [   12,    13,    14,    15,    16,    17],\n",
       "        [   18,    19,    20,    21,    22,    23],\n",
       "        [   24,    25,    26,    27,    28,    29],\n",
       "        [   30,    31,    32,    33,    34,    35],\n",
       "        [   36,    37,    38,    39,    40,    41]]),\n",
       " array([[12345,     1,     2,     3,     4,     5],\n",
       "        [    6,     7,     8,     9,    10,    11],\n",
       "        [   12,    13,    14,    15,    16,    17],\n",
       "        [   18,    19,    20,    21,    22,    23],\n",
       "        [   24,    25,    26,    27,    28,    29],\n",
       "        [   30,    31,    32,    33,    34,    35],\n",
       "        [   36,    37,    38,    39,    40,    41]]))"
      ]
     },
     "execution_count": 54,
     "metadata": {},
     "output_type": "execute_result"
    }
   ],
   "source": [
    "not_copied = practice[:]\n",
    "not_copied[0, 0] = 12345\n",
    "practice, not_copied"
   ]
  },
  {
   "cell_type": "code",
   "execution_count": 55,
   "id": "99d65e07",
   "metadata": {},
   "outputs": [
    {
     "name": "stdout",
     "output_type": "stream",
     "text": [
      "None\n"
     ]
    }
   ],
   "source": [
    "print(practice.base)"
   ]
  },
  {
   "cell_type": "code",
   "execution_count": 56,
   "id": "7455228f",
   "metadata": {},
   "outputs": [
    {
     "name": "stdout",
     "output_type": "stream",
     "text": [
      "[[12345     1     2     3     4     5]\n",
      " [    6     7     8     9    10    11]\n",
      " [   12    13    14    15    16    17]\n",
      " [   18    19    20    21    22    23]\n",
      " [   24    25    26    27    28    29]\n",
      " [   30    31    32    33    34    35]\n",
      " [   36    37    38    39    40    41]]\n"
     ]
    }
   ],
   "source": [
    "print(not_copied.base)"
   ]
  },
  {
   "cell_type": "code",
   "execution_count": 57,
   "id": "1d35de64",
   "metadata": {},
   "outputs": [
    {
     "data": {
      "text/plain": [
       "True"
      ]
     },
     "execution_count": 57,
     "metadata": {},
     "output_type": "execute_result"
    }
   ],
   "source": [
    "not_copied.base is practice"
   ]
  },
  {
   "cell_type": "code",
   "execution_count": 58,
   "id": "74711b31",
   "metadata": {},
   "outputs": [
    {
     "data": {
      "text/plain": [
       "False"
      ]
     },
     "execution_count": 58,
     "metadata": {},
     "output_type": "execute_result"
    }
   ],
   "source": [
    "not_copied.base is practice_list"
   ]
  },
  {
   "cell_type": "markdown",
   "id": "a5885d57",
   "metadata": {},
   "source": [
    "# Filter Array dengan Kondisi\n",
    "### Mencari durasi belajar dibawah 1 jam (60 menit)"
   ]
  },
  {
   "cell_type": "code",
   "execution_count": 59,
   "id": "253eeff6",
   "metadata": {},
   "outputs": [
    {
     "data": {
      "text/plain": [
       "array([False,  True, False, False, False, False, False, False,  True,\n",
       "       False, False, False, False, False,  True, False, False, False,\n",
       "       False, False, False,  True, False, False, False,  True, False,\n",
       "       False, False,  True, False, False, False, False, False, False,\n",
       "        True, False, False, False,  True, False, False, False, False,\n",
       "       False, False, False, False, False, False,  True,  True, False,\n",
       "       False, False,  True,  True, False, False, False, False,  True,\n",
       "       False, False, False, False, False, False, False, False, False,\n",
       "       False, False, False, False, False, False,  True, False,  True,\n",
       "       False, False,  True, False, False,  True,  True, False, False,\n",
       "       False, False, False, False,  True, False, False, False, False,\n",
       "       False])"
      ]
     },
     "execution_count": 59,
     "metadata": {},
     "output_type": "execute_result"
    }
   ],
   "source": [
    "#Nilai dambil dari fake_log, jika kurang dari 60 True, jika lebih False\n",
    "\n",
    "fake_log < 60"
   ]
  },
  {
   "cell_type": "code",
   "execution_count": 60,
   "id": "659f2ffc",
   "metadata": {},
   "outputs": [
    {
     "data": {
      "text/plain": [
       "array([45, 47, 34, 52, 37, 57, 32, 49, 53, 52, 45, 46, 46, 37, 45, 35, 53,\n",
       "       33, 57], dtype=uint16)"
      ]
     },
     "execution_count": 60,
     "metadata": {},
     "output_type": "execute_result"
    }
   ],
   "source": [
    "# Menampilkan data yang lebih kecil dari 60 saja\n",
    "\n",
    "fake_log < 60\n",
    "fake_log[fake_log < 60 ]"
   ]
  },
  {
   "cell_type": "code",
   "execution_count": 61,
   "id": "8c21b973",
   "metadata": {},
   "outputs": [
    {
     "data": {
      "text/plain": [
       "array([45, 47, 34, 52, 37, 57, 32, 49, 53, 52, 45, 46, 46, 37, 45, 35, 53,\n",
       "       33, 57], dtype=uint16)"
      ]
     },
     "execution_count": 61,
     "metadata": {},
     "output_type": "execute_result"
    }
   ],
   "source": [
    "results = []\n",
    "for value in fake_log:\n",
    "    if value < 60:\n",
    "        results.append(value)\n",
    "        \n",
    "np.array(results)"
   ]
  },
  {
   "cell_type": "code",
   "execution_count": 62,
   "id": "2f046acb",
   "metadata": {},
   "outputs": [
    {
     "data": {
      "text/plain": [
       "array([  0,   0,   0,   0,   0,   0,   0,   0,   0,   0,   0,   0,   0,\n",
       "         0,   0,   0,   0,   0,   0,   0,   0,   0,   0,   0,   0,   0,\n",
       "         0,   0,   0,   0,   0,   0,   0,   0,   0,   0,   0,   0,   0,\n",
       "         0,   0,   0,   0,   0,   0,   0,   0,   0,   0,   0,   0,   0,\n",
       "         0,   0,   0,   0,   0,   0,   0,   0,   0,   0,   0,   0,   0,\n",
       "         0,   0,   0,   0,   0,   0,   0,   0,   0,   0,   0,   0,   0,\n",
       "         0,   0,   0,   0,   0,   0,   0,   0,   0,   0,   0,   0,   0,\n",
       "         0,   0,   0,   0,   0,   0,   0,   0,   0,  99,  45,  70, 162,\n",
       "       146,  70, 177, 176,  47, 148, 123,  67,  90, 122,  34, 160, 135,\n",
       "       102,  62,  61,  85,  52, 153, 128,  89,  37, 109,  60, 128,  57,\n",
       "       160,  67, 144,  97, 150, 148,  32, 155, 116, 137,  49,  70, 159,\n",
       "       159,  84, 114,  93, 110,  81, 122, 103,  53,  52, 147,  75,  93,\n",
       "        45,  46, 177,  91,  70,  69,  46, 150,  86, 170, 174, 143,  88,\n",
       "        71, 132,  67, 157, 118,  91, 158, 178, 176,  37, 155,  45,  66,\n",
       "        60,  35, 154,  75,  53,  33,  80, 126,  76, 113, 148, 163,  57,\n",
       "        83, 145, 148, 167, 129], dtype=uint16)"
      ]
     },
     "execution_count": 62,
     "metadata": {},
     "output_type": "execute_result"
    }
   ],
   "source": [
    "study_minutes = np.zeros(100, np.uint16)\n",
    "study_minutes = np.append(study_minutes, [fake_log])\n",
    "study_minutes"
   ]
  },
  {
   "cell_type": "code",
   "execution_count": 63,
   "id": "4b541588",
   "metadata": {},
   "outputs": [
    {
     "data": {
      "text/plain": [
       "array([ 0,  0,  0,  0,  0,  0,  0,  0,  0,  0,  0,  0,  0,  0,  0,  0,  0,\n",
       "        0,  0,  0,  0,  0,  0,  0,  0,  0,  0,  0,  0,  0,  0,  0,  0,  0,\n",
       "        0,  0,  0,  0,  0,  0,  0,  0,  0,  0,  0,  0,  0,  0,  0,  0,  0,\n",
       "        0,  0,  0,  0,  0,  0,  0,  0,  0,  0,  0,  0,  0,  0,  0,  0,  0,\n",
       "        0,  0,  0,  0,  0,  0,  0,  0,  0,  0,  0,  0,  0,  0,  0,  0,  0,\n",
       "        0,  0,  0,  0,  0,  0,  0,  0,  0,  0,  0,  0,  0,  0,  0, 45, 47,\n",
       "       34, 52, 37, 57, 32, 49, 53, 52, 45, 46, 46, 37, 45, 35, 53, 33, 57],\n",
       "      dtype=uint16)"
      ]
     },
     "execution_count": 63,
     "metadata": {},
     "output_type": "execute_result"
    }
   ],
   "source": [
    "# filter nilai di variabel study_minutes dimana nilainya < 60 menit\n",
    "\n",
    "study_minutes[study_minutes < 60]"
   ]
  },
  {
   "cell_type": "code",
   "execution_count": 64,
   "id": "d64bf27d",
   "metadata": {},
   "outputs": [
    {
     "data": {
      "text/plain": [
       "array([45, 47, 34, 52, 37, 57, 32, 49, 53, 52, 45, 46, 46, 37, 45, 35, 53,\n",
       "       33, 57], dtype=uint16)"
      ]
     },
     "execution_count": 64,
     "metadata": {},
     "output_type": "execute_result"
    }
   ],
   "source": [
    "# angka 0 nya dihilangkan\n",
    "\n",
    "study_minutes[study_minutes < 60]\n",
    "study_minutes[(study_minutes < 60) & (study_minutes > 0)]"
   ]
  },
  {
   "cell_type": "markdown",
   "id": "c1a9f17e",
   "metadata": {},
   "source": [
    "## Aljabar Linear"
   ]
  },
  {
   "cell_type": "code",
   "execution_count": 65,
   "id": "83bd737c",
   "metadata": {},
   "outputs": [
    {
     "data": {
      "text/plain": [
       "array([10000.,  2500.,  5000.,  3000.])"
      ]
     },
     "execution_count": 65,
     "metadata": {},
     "output_type": "execute_result"
    }
   ],
   "source": [
    "orders = np.array ([\n",
    "    [2, 0, 0, 0],\n",
    "    [1, 0, 2, 4],\n",
    "    [1, 2, 1, 0],\n",
    "    [4, 6, 0, 2]\n",
    "])\n",
    "\n",
    "totals = np.array ([20000, 32000, 20000, 61000])\n",
    "prices = np.linalg.solve(orders, totals)\n",
    "prices"
   ]
  },
  {
   "cell_type": "code",
   "execution_count": 66,
   "id": "18e4931a",
   "metadata": {},
   "outputs": [
    {
     "data": {
      "text/plain": [
       "array([20000., 32000., 20000., 61000.])"
      ]
     },
     "execution_count": 66,
     "metadata": {},
     "output_type": "execute_result"
    }
   ],
   "source": [
    "orders @ prices"
   ]
  },
  {
   "cell_type": "markdown",
   "id": "ccc39e9a",
   "metadata": {},
   "source": [
    "## FUNGSI UNIVERSAL"
   ]
  },
  {
   "cell_type": "code",
   "execution_count": 67,
   "id": "ca29b37f",
   "metadata": {},
   "outputs": [
    {
     "data": {
      "text/plain": [
       "(array([1, 2, 3, 4, 5]), array([ 6,  7,  8,  9, 10]))"
      ]
     },
     "execution_count": 67,
     "metadata": {},
     "output_type": "execute_result"
    }
   ],
   "source": [
    "a, b = np.split(np.arange(1,11), 2)\n",
    "a, b"
   ]
  },
  {
   "cell_type": "code",
   "execution_count": 68,
   "id": "1042a3bf",
   "metadata": {},
   "outputs": [
    {
     "data": {
      "text/plain": [
       "array([ 7,  9, 11, 13, 15])"
      ]
     },
     "execution_count": 68,
     "metadata": {},
     "output_type": "execute_result"
    }
   ],
   "source": [
    "a + b"
   ]
  },
  {
   "cell_type": "code",
   "execution_count": 69,
   "id": "b67aecdf",
   "metadata": {},
   "outputs": [
    {
     "data": {
      "text/plain": [
       "array([ 6, 14, 24, 36, 50])"
      ]
     },
     "execution_count": 69,
     "metadata": {},
     "output_type": "execute_result"
    }
   ],
   "source": [
    "a * b"
   ]
  },
  {
   "cell_type": "code",
   "execution_count": 70,
   "id": "da8e00a0",
   "metadata": {},
   "outputs": [
    {
     "data": {
      "text/plain": [
       "array([-5, -5, -5, -5, -5])"
      ]
     },
     "execution_count": 70,
     "metadata": {},
     "output_type": "execute_result"
    }
   ],
   "source": [
    "a - b"
   ]
  },
  {
   "cell_type": "code",
   "execution_count": 71,
   "id": "dc2758ef",
   "metadata": {},
   "outputs": [
    {
     "data": {
      "text/plain": [
       "array([5, 5, 5, 5, 5])"
      ]
     },
     "execution_count": 71,
     "metadata": {},
     "output_type": "execute_result"
    }
   ],
   "source": [
    "b - a"
   ]
  },
  {
   "cell_type": "code",
   "execution_count": 72,
   "id": "ae237a67",
   "metadata": {},
   "outputs": [
    {
     "data": {
      "text/plain": [
       "array([4, 5, 6, 7, 8])"
      ]
     },
     "execution_count": 72,
     "metadata": {},
     "output_type": "execute_result"
    }
   ],
   "source": [
    "# Menambahkan nilai di array\n",
    "\n",
    "a + 3"
   ]
  },
  {
   "cell_type": "code",
   "execution_count": 73,
   "id": "815ba892",
   "metadata": {},
   "outputs": [
    {
     "data": {
      "text/plain": [
       "array([4, 5, 6, 7, 8])"
      ]
     },
     "execution_count": 73,
     "metadata": {},
     "output_type": "execute_result"
    }
   ],
   "source": [
    "# Menambahkan 3 di 5 array\n",
    "\n",
    "a + np.repeat(3, 5)"
   ]
  },
  {
   "cell_type": "code",
   "execution_count": 74,
   "id": "6ec0dd8c",
   "metadata": {},
   "outputs": [
    {
     "data": {
      "text/plain": [
       "(array([[0., 1., 2.],\n",
       "        [3., 4., 5.],\n",
       "        [6., 7., 8.]]),\n",
       " array([0., 1., 2.]))"
      ]
     },
     "execution_count": 74,
     "metadata": {},
     "output_type": "execute_result"
    }
   ],
   "source": [
    "#\n",
    "\n",
    "x1 = np.arange(9.0).reshape((3, 3))\n",
    "x2 = np.arange(3.0)\n",
    "x1, x2"
   ]
  },
  {
   "cell_type": "code",
   "execution_count": 75,
   "id": "fb189d1f",
   "metadata": {},
   "outputs": [
    {
     "data": {
      "text/plain": [
       "array([[ 0.,  2.,  4.],\n",
       "       [ 3.,  5.,  7.],\n",
       "       [ 6.,  8., 10.]])"
      ]
     },
     "execution_count": 75,
     "metadata": {},
     "output_type": "execute_result"
    }
   ],
   "source": [
    "np.add(x1, x2)"
   ]
  },
  {
   "cell_type": "markdown",
   "id": "a8ed58f1",
   "metadata": {},
   "source": [
    "## Operasi Matriks Lainnya"
   ]
  },
  {
   "cell_type": "code",
   "execution_count": 76,
   "id": "a5af8630",
   "metadata": {},
   "outputs": [
    {
     "data": {
      "text/plain": [
       "array([45, 47, 34, 52, 37, 57, 32, 49, 53, 52, 45, 46, 46, 37, 45, 35, 53,\n",
       "       33, 57], dtype=uint16)"
      ]
     },
     "execution_count": 76,
     "metadata": {},
     "output_type": "execute_result"
    }
   ],
   "source": [
    "study_less = study_minutes [(study_minutes < 60) & (study_minutes > 0)]\n",
    "study_less"
   ]
  },
  {
   "cell_type": "code",
   "execution_count": 78,
   "id": "c044305d",
   "metadata": {},
   "outputs": [
    {
     "name": "stdout",
     "output_type": "stream",
     "text": [
      "[45 47 34 52 37 57 32 49 53 52 45 46 46 37 45 35 53 33 57]\n"
     ]
    },
    {
     "data": {
      "text/plain": [
       "855"
      ]
     },
     "execution_count": 78,
     "metadata": {},
     "output_type": "execute_result"
    }
   ],
   "source": [
    "# REDUCE dan SUM untuk menjumlahkan semua angka\n",
    "\n",
    "study_less = study_minutes [(study_minutes < 60) & (study_minutes > 0)]\n",
    "print(study_less)\n",
    "\n",
    "np.add.reduce(study_less)"
   ]
  },
  {
   "cell_type": "code",
   "execution_count": 79,
   "id": "db71233b",
   "metadata": {},
   "outputs": [
    {
     "data": {
      "text/plain": [
       "855"
      ]
     },
     "execution_count": 79,
     "metadata": {},
     "output_type": "execute_result"
    }
   ],
   "source": [
    "np.sum(study_less)"
   ]
  },
  {
   "cell_type": "code",
   "execution_count": 81,
   "id": "af5fa00e",
   "metadata": {},
   "outputs": [
    {
     "name": "stdout",
     "output_type": "stream",
     "text": [
      "[  0   0   0   0   0   0   0   0   0   0   0   0   0   0   0   0   0   0\n",
      "   0   0   0   0   0   0   0   0   0   0   0   0   0   0   0   0   0   0\n",
      "   0   0   0   0   0   0   0   0   0   0   0   0   0   0   0   0   0   0\n",
      "   0   0   0   0   0   0   0   0   0   0   0   0   0   0   0   0   0   0\n",
      "   0   0   0   0   0   0   0   0   0   0   0   0   0   0   0   0   0   0\n",
      "   0   0   0   0   0   0   0   0   0   0  99  45  70 162 146  70 177 176\n",
      "  47 148 123  67  90 122  34 160 135 102  62  61  85  52 153 128  89  37\n",
      " 109  60 128  57 160  67 144  97 150 148  32 155 116 137  49  70 159 159\n",
      "  84 114  93 110  81 122 103  53  52 147  75  93  45  46 177  91  70  69\n",
      "  46 150  86 170 174 143  88  71 132  67 157 118  91 158 178 176  37 155\n",
      "  45  66  60  35 154  75  53  33  80 126  76 113 148 163  57  83 145 148\n",
      " 167 129]\n"
     ]
    },
    {
     "data": {
      "text/plain": [
       "10415"
      ]
     },
     "execution_count": 81,
     "metadata": {},
     "output_type": "execute_result"
    }
   ],
   "source": [
    "print(study_minutes)\n",
    "np.sum(study_minutes)"
   ]
  },
  {
   "cell_type": "markdown",
   "id": "79c49bb4",
   "metadata": {},
   "source": [
    "## VISUALISASI DATA DENGAN MATPLOTLIB"
   ]
  },
  {
   "cell_type": "code",
   "execution_count": 83,
   "id": "770c0332",
   "metadata": {},
   "outputs": [
    {
     "ename": "ModuleNotFoundError",
     "evalue": "No module named 'matplotlib'",
     "output_type": "error",
     "traceback": [
      "\u001b[1;31m---------------------------------------------------------------------------\u001b[0m",
      "\u001b[1;31mModuleNotFoundError\u001b[0m                       Traceback (most recent call last)",
      "Input \u001b[1;32mIn [83]\u001b[0m, in \u001b[0;36m<cell line: 1>\u001b[1;34m()\u001b[0m\n\u001b[1;32m----> 1\u001b[0m \u001b[38;5;28;01mimport\u001b[39;00m \u001b[38;5;21;01mmatplotlib\u001b[39;00m\u001b[38;5;21;01m.\u001b[39;00m\u001b[38;5;21;01mpyplot\u001b[39;00m \u001b[38;5;28;01mas\u001b[39;00m \u001b[38;5;21;01mplt\u001b[39;00m\n",
      "\u001b[1;31mModuleNotFoundError\u001b[0m: No module named 'matplotlib'"
     ]
    }
   ],
   "source": [
    "import matplotlib.pyplot as plt"
   ]
  },
  {
   "cell_type": "code",
   "execution_count": null,
   "id": "46428177",
   "metadata": {},
   "outputs": [],
   "source": []
  },
  {
   "cell_type": "code",
   "execution_count": null,
   "id": "c793650d",
   "metadata": {},
   "outputs": [],
   "source": []
  },
  {
   "cell_type": "code",
   "execution_count": null,
   "id": "ad0650a7",
   "metadata": {},
   "outputs": [],
   "source": []
  },
  {
   "cell_type": "code",
   "execution_count": null,
   "id": "8895e68f",
   "metadata": {},
   "outputs": [],
   "source": []
  },
  {
   "cell_type": "code",
   "execution_count": null,
   "id": "a0fcbc9e",
   "metadata": {},
   "outputs": [],
   "source": []
  },
  {
   "cell_type": "code",
   "execution_count": null,
   "id": "60fc1533",
   "metadata": {},
   "outputs": [],
   "source": []
  },
  {
   "cell_type": "code",
   "execution_count": null,
   "id": "2fa86fd9",
   "metadata": {},
   "outputs": [],
   "source": []
  },
  {
   "cell_type": "code",
   "execution_count": null,
   "id": "88c1bda8",
   "metadata": {},
   "outputs": [],
   "source": []
  }
 ],
 "metadata": {
  "kernelspec": {
   "display_name": "Python 3 (ipykernel)",
   "language": "python",
   "name": "python3"
  },
  "language_info": {
   "codemirror_mode": {
    "name": "ipython",
    "version": 3
   },
   "file_extension": ".py",
   "mimetype": "text/x-python",
   "name": "python",
   "nbconvert_exporter": "python",
   "pygments_lexer": "ipython3",
   "version": "3.10.4"
  }
 },
 "nbformat": 4,
 "nbformat_minor": 5
}
