{
 "cells": [
  {
   "cell_type": "markdown",
   "id": "13edc5be",
   "metadata": {},
   "source": [
    "FUNCTION, BASIC, MODULE, & PACKAGE\n",
    "menghitung luas dll\n",
    "Usee defined function : fungsi yg didefinisikan oleh user\n",
    "\n",
    "GREETING MY FUNCTION PRINTME"
   ]
  },
  {
   "cell_type": "markdown",
   "id": "c05dc47e",
   "metadata": {},
   "source": [
    "#Pendefinisian fungsi di pyhton\n",
    "def [nama fungsi] ([parameter 1], [parameter 2]) #function declaration, function signature\n",
    "\n",
    "def [nama fungsi] ([parameter if any]) #function declaration, function signature\n",
    "\n",
    "function_name.doc #dokumen string akan muncul, jika tidak dipanggil, tak muncul\n",
    "\n",
    "doc string bisa diawali oleh function, kata"
   ]
  },
  {
   "cell_type": "code",
   "execution_count": 27,
   "id": "c6dd05e6",
   "metadata": {},
   "outputs": [],
   "source": [
    "#statement yg akan ada dalam fungsi gak akan jalan, jika fungsi tak dipanggil\n",
    "def greeting():\n",
    "    '''Fungsi ini akan menampilkan pesan default yaitu Hello World'''\n",
    "    print('Hello World' * 10)"
   ]
  },
  {
   "cell_type": "code",
   "execution_count": 28,
   "id": "995bcdeb",
   "metadata": {},
   "outputs": [
    {
     "data": {
      "text/plain": [
       "<function __main__.greeting()>"
      ]
     },
     "execution_count": 28,
     "metadata": {},
     "output_type": "execute_result"
    }
   ],
   "source": [
    "greeting"
   ]
  },
  {
   "cell_type": "code",
   "execution_count": 29,
   "id": "9865532b",
   "metadata": {},
   "outputs": [
    {
     "name": "stdout",
     "output_type": "stream",
     "text": [
      "Hello WorldHello WorldHello WorldHello WorldHello WorldHello WorldHello WorldHello WorldHello WorldHello World\n"
     ]
    }
   ],
   "source": [
    "#greeting harus ditambahan parenthesis ()\n",
    "#evoke #trigger #langgil\n",
    "greeting()"
   ]
  },
  {
   "cell_type": "code",
   "execution_count": 30,
   "id": "aaf794e7",
   "metadata": {},
   "outputs": [
    {
     "data": {
      "text/plain": [
       "['__annotations__',\n",
       " '__builtins__',\n",
       " '__call__',\n",
       " '__class__',\n",
       " '__closure__',\n",
       " '__code__',\n",
       " '__defaults__',\n",
       " '__delattr__',\n",
       " '__dict__',\n",
       " '__dir__',\n",
       " '__doc__',\n",
       " '__eq__',\n",
       " '__format__',\n",
       " '__ge__',\n",
       " '__get__',\n",
       " '__getattribute__',\n",
       " '__globals__',\n",
       " '__gt__',\n",
       " '__hash__',\n",
       " '__init__',\n",
       " '__init_subclass__',\n",
       " '__kwdefaults__',\n",
       " '__le__',\n",
       " '__lt__',\n",
       " '__module__',\n",
       " '__name__',\n",
       " '__ne__',\n",
       " '__new__',\n",
       " '__qualname__',\n",
       " '__reduce__',\n",
       " '__reduce_ex__',\n",
       " '__repr__',\n",
       " '__setattr__',\n",
       " '__sizeof__',\n",
       " '__str__',\n",
       " '__subclasshook__']"
      ]
     },
     "execution_count": 30,
     "metadata": {},
     "output_type": "execute_result"
    }
   ],
   "source": [
    "dir(greeting)"
   ]
  },
  {
   "cell_type": "code",
   "execution_count": 31,
   "id": "6639b7c9",
   "metadata": {},
   "outputs": [
    {
     "data": {
      "text/plain": [
       "'Fungsi ini akan menampilkan pesan default yaitu Hello World'"
      ]
     },
     "execution_count": 31,
     "metadata": {},
     "output_type": "execute_result"
    }
   ],
   "source": [
    "greeting.__doc__"
   ]
  },
  {
   "cell_type": "markdown",
   "id": "1e4ab8f3",
   "metadata": {},
   "source": [
    " docstring\n",
    "'''\n",
    "    Overview function\n",
    "    inputnya apa aja (tipe int, str, bool?)\n",
    "    outputnya apa aja\n",
    "'''"
   ]
  },
  {
   "cell_type": "code",
   "execution_count": null,
   "id": "001d42a0",
   "metadata": {},
   "outputs": [],
   "source": []
  },
  {
   "cell_type": "markdown",
   "id": "8898a87e",
   "metadata": {},
   "source": [
    "Defining a function"
   ]
  },
  {
   "cell_type": "code",
   "execution_count": 4,
   "id": "8aa0f676",
   "metadata": {},
   "outputs": [],
   "source": [
    "def function_name( parameters ):\n",
    "    \"docstring\"\n",
    "    statement(s)"
   ]
  },
  {
   "cell_type": "code",
   "execution_count": 10,
   "id": "b1d6e339",
   "metadata": {},
   "outputs": [],
   "source": [
    "def my_function (p, l):\n",
    "    \"Function untuk menghitung luas\"\n",
    "    print(p * l)"
   ]
  },
  {
   "cell_type": "code",
   "execution_count": 37,
   "id": "023a75dd",
   "metadata": {},
   "outputs": [
    {
     "data": {
      "text/plain": [
       "<function __main__.my_function(p, l)>"
      ]
     },
     "execution_count": 37,
     "metadata": {},
     "output_type": "execute_result"
    }
   ],
   "source": [
    "my_function"
   ]
  },
  {
   "cell_type": "code",
   "execution_count": 32,
   "id": "833766c6",
   "metadata": {},
   "outputs": [
    {
     "name": "stdout",
     "output_type": "stream",
     "text": [
      "16\n"
     ]
    }
   ],
   "source": [
    "my_function(2,8)"
   ]
  },
  {
   "cell_type": "code",
   "execution_count": 33,
   "id": "20d3fa74",
   "metadata": {},
   "outputs": [
    {
     "name": "stdout",
     "output_type": "stream",
     "text": [
      "16\n",
      "None\n"
     ]
    }
   ],
   "source": [
    "print (my_function(2,8))"
   ]
  },
  {
   "cell_type": "markdown",
   "id": "68b3b34b",
   "metadata": {},
   "source": [
    "FUNGSI PRINTME"
   ]
  },
  {
   "cell_type": "code",
   "execution_count": 34,
   "id": "3014feae",
   "metadata": {},
   "outputs": [],
   "source": [
    "def printme(str):\n",
    "    \"This prints a passed string into this function\"\n",
    "    print(str)\n",
    "    return"
   ]
  },
  {
   "cell_type": "markdown",
   "id": "d79d1512",
   "metadata": {},
   "source": [
    "Calling a Function"
   ]
  },
  {
   "cell_type": "code",
   "execution_count": 35,
   "id": "70c5e3ea",
   "metadata": {},
   "outputs": [
    {
     "data": {
      "text/plain": [
       "'This prints a passed string into this function'"
      ]
     },
     "execution_count": 35,
     "metadata": {},
     "output_type": "execute_result"
    }
   ],
   "source": [
    "printme.__doc__"
   ]
  },
  {
   "cell_type": "code",
   "execution_count": 36,
   "id": "b6165cda",
   "metadata": {},
   "outputs": [
    {
     "name": "stdout",
     "output_type": "stream",
     "text": [
      "apple mango cherries\n"
     ]
    }
   ],
   "source": [
    "printme('apple mango cherries')"
   ]
  },
  {
   "cell_type": "code",
   "execution_count": 38,
   "id": "788e75a6",
   "metadata": {},
   "outputs": [
    {
     "name": "stdout",
     "output_type": "stream",
     "text": [
      "apple\n"
     ]
    }
   ],
   "source": [
    "print('apple')"
   ]
  },
  {
   "cell_type": "code",
   "execution_count": 39,
   "id": "5f9c5c11",
   "metadata": {},
   "outputs": [
    {
     "name": "stdout",
     "output_type": "stream",
     "text": [
      "123\n"
     ]
    }
   ],
   "source": [
    "print('123')"
   ]
  },
  {
   "cell_type": "markdown",
   "id": "48d4043c",
   "metadata": {},
   "source": [
    "CALLING A FUNCTION\n",
    "jika struktur selesai, kita akan coba panggil berkali kali\n",
    "baik dari fungsi lain/luar"
   ]
  },
  {
   "cell_type": "code",
   "execution_count": 9,
   "id": "a451e288",
   "metadata": {},
   "outputs": [
    {
     "name": "stdout",
     "output_type": "stream",
     "text": [
      "I'm first call to user defined function!\n",
      "Again second call to the same function\n"
     ]
    }
   ],
   "source": [
    "#printme + str\n",
    "#dipanggil 2x\n",
    "#Function definition is here\n",
    "def printme( str ):\n",
    "    \"This prints a passed string into this function\"\n",
    "    print(str)\n",
    "    return;\n",
    "\n",
    "#Call printme function\n",
    "printme(\"I'm first call to user defined function!\")\n",
    "printme(\"Again second call to the same function\")"
   ]
  },
  {
   "cell_type": "code",
   "execution_count": 40,
   "id": "af679461",
   "metadata": {},
   "outputs": [
    {
     "name": "stdout",
     "output_type": "stream",
     "text": [
      "This is pemanggilan ketiga\n"
     ]
    }
   ],
   "source": [
    "printme(\"This is pemanggilan ketiga\")"
   ]
  },
  {
   "cell_type": "code",
   "execution_count": 42,
   "id": "6450a486",
   "metadata": {},
   "outputs": [
    {
     "name": "stdout",
     "output_type": "stream",
     "text": [
      "('Pemanggilan ke', 0)\n",
      "('Pemanggilan ke', 1)\n",
      "('Pemanggilan ke', 2)\n",
      "('Pemanggilan ke', 3)\n",
      "('Pemanggilan ke', 4)\n"
     ]
    }
   ],
   "source": [
    "for i in range(5):\n",
    "    printme((\"Pemanggilan ke\", i))"
   ]
  },
  {
   "cell_type": "code",
   "execution_count": null,
   "id": "4476a969",
   "metadata": {},
   "outputs": [],
   "source": [
    "Pass by reference vs value\n",
    "pakai CHANGE ME"
   ]
  },
  {
   "cell_type": "code",
   "execution_count": 45,
   "id": "8e0ef250",
   "metadata": {},
   "outputs": [
    {
     "name": "stdout",
     "output_type": "stream",
     "text": [
      "Values inside the function:  [10, 20, 30, [1, 2, 3, 4]]\n",
      "Values outside the function:  [10, 20, 30, [1, 2, 3, 4]]\n"
     ]
    }
   ],
   "source": [
    "def changeme(mylist):\n",
    "    \"This canges a passed list into this function\"\n",
    "    mylist.append([1,2,3,4]);\n",
    "    print(\"Values inside the function: \", mylist)\n",
    "    return\n",
    "\n",
    "#Call changeme function\n",
    "mylist = [10,20,30];\n",
    "changeme(mylist);\n",
    "print(\"Values outside the function: \", mylist)\n",
    "    "
   ]
  },
  {
   "cell_type": "code",
   "execution_count": 46,
   "id": "ceebf599",
   "metadata": {},
   "outputs": [
    {
     "name": "stdout",
     "output_type": "stream",
     "text": [
      "80\n"
     ]
    }
   ],
   "source": [
    "my_function(10,8)\n",
    "\n",
    "#def my_function(p,l)\n",
    "# my_function(10,8) --> p = 10, l=8\n",
    "# my_function(1,8) --> = p=1, l=8"
   ]
  },
  {
   "cell_type": "code",
   "execution_count": 53,
   "id": "5017fda2",
   "metadata": {},
   "outputs": [
    {
     "name": "stdout",
     "output_type": "stream",
     "text": [
      "Values inside the function:  [1, 2, 3, 4]\n",
      "Values outside the function:  [10, 20, 30]\n"
     ]
    }
   ],
   "source": [
    "def changeme(mylist):\n",
    "    \"This canges a passed list into this function\"\n",
    "    mylist = [1,2,3,4];\n",
    "    print(\"Values inside the function: \", mylist)\n",
    "    return\n",
    "\n",
    "#Call changeme function\n",
    "mylist = [10,20,30];\n",
    "changeme(mylist);\n",
    "print(\"Values outside the function: \", mylist)"
   ]
  },
  {
   "cell_type": "code",
   "execution_count": null,
   "id": "52e15c06",
   "metadata": {},
   "outputs": [],
   "source": [
    "my_list = 10, 20, 30\n",
    "changeme([10,20,30])\n",
    "10,20,30,1,2,3,4"
   ]
  },
  {
   "cell_type": "markdown",
   "id": "00ada156",
   "metadata": {},
   "source": [
    "DEFINISI FUNGSI, BISA PAKE PARAMETER DAN TANPA PARAMETER, NAMA DAN FUNGSI SESUAI, TUTUP KURUNG BUKA KURUNG\n",
    "\n",
    "FUNCTION ARGUMENT\n",
    "TIPE TIPE ARGUMEN :\n",
    "1. REQUIRED\n",
    "2. KEYWORD\n",
    "3. DEFAULT\n",
    "4. VARIABLE LENGTH"
   ]
  },
  {
   "cell_type": "markdown",
   "id": "0447899b",
   "metadata": {},
   "source": [
    "1.REQUIRED ARGUMENTS : ARGUMEN YG DITERUSKAN KE FUNGSI DALAM URUTAN POSISI YG BENAR, jumlah argumen = function definition"
   ]
  },
  {
   "cell_type": "code",
   "execution_count": 56,
   "id": "b483904b",
   "metadata": {},
   "outputs": [
    {
     "name": "stdout",
     "output_type": "stream",
     "text": [
      "Name:  ari\n",
      "Age:  45\n"
     ]
    }
   ],
   "source": [
    "# Function definition is here\n",
    "# naame dan age adalah parameter\n",
    "\n",
    "def print_info (name, age):\n",
    "    '''This prints a passed info this function'''\n",
    "    print(\"Name: \", name)\n",
    "    print(\"Age: \", age)\n",
    "    return\n",
    "\n",
    "#Call PrintInfo Function\n",
    "print_info(\"ari\", 45)"
   ]
  },
  {
   "cell_type": "code",
   "execution_count": 58,
   "id": "478943c3",
   "metadata": {},
   "outputs": [
    {
     "name": "stdout",
     "output_type": "stream",
     "text": [
      "Name:  45\n",
      "Age:  ari\n"
     ]
    }
   ],
   "source": [
    "print_info(45,\"ari\")"
   ]
  },
  {
   "cell_type": "code",
   "execution_count": 60,
   "id": "8cbcfafc",
   "metadata": {},
   "outputs": [
    {
     "name": "stdout",
     "output_type": "stream",
     "text": [
      "Name:  ari\n",
      "Age:  45\n"
     ]
    }
   ],
   "source": [
    "#keyword argument\n",
    "\n",
    "print_info(age=45, name='ari')"
   ]
  },
  {
   "cell_type": "code",
   "execution_count": 62,
   "id": "27859a0b",
   "metadata": {},
   "outputs": [
    {
     "name": "stdout",
     "output_type": "stream",
     "text": [
      "Name:  ira\n",
      "Age:  0\n",
      "Name:  ira\n",
      "Age:  0\n",
      "Name:  ira\n",
      "Age:  0\n"
     ]
    }
   ],
   "source": [
    "#AGAK PANJANG\n",
    "print_info(\"ira\",0)\n",
    "print_info(\"ira\",0)\n",
    "print_info(\"ira\",0)"
   ]
  },
  {
   "cell_type": "code",
   "execution_count": 63,
   "id": "61ff86e2",
   "metadata": {},
   "outputs": [],
   "source": [
    "def print_info (name, age=17):\n",
    "    '''This prints a passed info this function'''\n",
    "    print(\"Name: \", name)\n",
    "    print(\"Age: \", age)\n",
    "    return"
   ]
  },
  {
   "cell_type": "code",
   "execution_count": 64,
   "id": "38592987",
   "metadata": {},
   "outputs": [
    {
     "name": "stdout",
     "output_type": "stream",
     "text": [
      "Name:  ira\n",
      "Age:  17\n"
     ]
    }
   ],
   "source": [
    "print_info('ira')"
   ]
  },
  {
   "cell_type": "code",
   "execution_count": null,
   "id": "a4ca1318",
   "metadata": {},
   "outputs": [],
   "source": [
    "def print_info(arg1, *vartuple):\n",
    "#def print_info(cust_name, *items):\n",
    "#def print_info(menu, *ingredients):\n",
    "#def print_info(nasabah, *loan):\n",
    "    \n"
   ]
  },
  {
   "cell_type": "code",
   "execution_count": 66,
   "id": "cf1e2170",
   "metadata": {},
   "outputs": [],
   "source": [
    "def print_info(arg1, *vartuple):\n",
    "    '''This prints a variable passed arguments'''\n",
    "    print(\"Output is: \")\n",
    "    print(arg1)\n",
    "    \n",
    "    for var in vartuple:\n",
    "        print(var)\n",
    "        \n",
    "    return"
   ]
  },
  {
   "cell_type": "code",
   "execution_count": 67,
   "id": "878f9ecd",
   "metadata": {},
   "outputs": [
    {
     "name": "stdout",
     "output_type": "stream",
     "text": [
      "Output is: \n",
      "10\n"
     ]
    }
   ],
   "source": [
    "print_info(10)"
   ]
  },
  {
   "cell_type": "code",
   "execution_count": 68,
   "id": "f7a20755",
   "metadata": {},
   "outputs": [
    {
     "name": "stdout",
     "output_type": "stream",
     "text": [
      "Output is: \n",
      "70\n",
      "60\n",
      "50\n",
      "a\n"
     ]
    }
   ],
   "source": [
    "print_info(70, 60, 50, \"a\")"
   ]
  },
  {
   "cell_type": "code",
   "execution_count": null,
   "id": "98f4195c",
   "metadata": {},
   "outputs": [],
   "source": [
    "VARIABLE LENGTH ARGUMENT"
   ]
  },
  {
   "cell_type": "code",
   "execution_count": 72,
   "id": "85ba29c1",
   "metadata": {},
   "outputs": [],
   "source": [
    "\n",
    "def buy(cust_name, *items):\n",
    "    '''This prints items bought by customer'''\n",
    "    \n",
    "    print(\"Customer name: \", cust_name)\n",
    "    \n",
    "    for item in items:\n",
    "        print(item)\n",
    "    \n",
    "    return"
   ]
  },
  {
   "cell_type": "code",
   "execution_count": 73,
   "id": "60262212",
   "metadata": {},
   "outputs": [
    {
     "ename": "TypeError",
     "evalue": "buy() got an unexpected keyword argument 'first'",
     "output_type": "error",
     "traceback": [
      "\u001b[1;31m---------------------------------------------------------------------------\u001b[0m",
      "\u001b[1;31mTypeError\u001b[0m                                 Traceback (most recent call last)",
      "Input \u001b[1;32mIn [73]\u001b[0m, in \u001b[0;36m<cell line: 1>\u001b[1;34m()\u001b[0m\n\u001b[1;32m----> 1\u001b[0m \u001b[43mbuy\u001b[49m\u001b[43m(\u001b[49m\u001b[38;5;124;43m\"\u001b[39;49m\u001b[38;5;124;43mAni\u001b[39;49m\u001b[38;5;124;43m\"\u001b[39;49m\u001b[43m,\u001b[49m\u001b[43m \u001b[49m\u001b[43mfirst\u001b[49m\u001b[38;5;241;43m=\u001b[39;49m\u001b[38;5;124;43m\"\u001b[39;49m\u001b[38;5;124;43megg\u001b[39;49m\u001b[38;5;124;43m\"\u001b[39;49m\u001b[43m,\u001b[49m\u001b[43m \u001b[49m\u001b[43msecond\u001b[49m\u001b[38;5;241;43m=\u001b[39;49m\u001b[38;5;124;43m\"\u001b[39;49m\u001b[38;5;124;43msugar\u001b[39;49m\u001b[38;5;124;43m\"\u001b[39;49m\u001b[43m,\u001b[49m\u001b[43msatu\u001b[49m\u001b[38;5;241;43m=\u001b[39;49m\u001b[38;5;124;43m\"\u001b[39;49m\u001b[38;5;124;43mbuku\u001b[39;49m\u001b[38;5;124;43m\"\u001b[39;49m\u001b[43m)\u001b[49m\n",
      "\u001b[1;31mTypeError\u001b[0m: buy() got an unexpected keyword argument 'first'"
     ]
    }
   ],
   "source": [
    "buy(\"Ani\", first=\"egg\", second=\"sugar\",satu=\"buku\")"
   ]
  },
  {
   "cell_type": "code",
   "execution_count": null,
   "id": "eef66c50",
   "metadata": {},
   "outputs": [],
   "source": []
  },
  {
   "cell_type": "code",
   "execution_count": null,
   "id": "a77b9b94",
   "metadata": {},
   "outputs": [],
   "source": []
  },
  {
   "cell_type": "code",
   "execution_count": null,
   "id": "5951757f",
   "metadata": {},
   "outputs": [],
   "source": []
  },
  {
   "cell_type": "markdown",
   "id": "056cf958",
   "metadata": {},
   "source": [
    "2. KEYWORD ARGUMENTS "
   ]
  },
  {
   "cell_type": "code",
   "execution_count": 61,
   "id": "13f16ef7",
   "metadata": {},
   "outputs": [
    {
     "name": "stdout",
     "output_type": "stream",
     "text": [
      "Hacktiv8\n"
     ]
    }
   ],
   "source": [
    "def printme(str):\n",
    "    \"This prints a passed strings into this function\"\n",
    "    print(str)\n",
    "    return;\n",
    "\n",
    "printme(str=\"Hacktiv8\")"
   ]
  },
  {
   "cell_type": "code",
   "execution_count": null,
   "id": "3449208c",
   "metadata": {},
   "outputs": [],
   "source": []
  },
  {
   "cell_type": "markdown",
   "id": "5c2f6415",
   "metadata": {},
   "source": [
    "3. DEFAULT ARGUMENTS"
   ]
  },
  {
   "cell_type": "code",
   "execution_count": null,
   "id": "02c6d6c3",
   "metadata": {},
   "outputs": [],
   "source": []
  },
  {
   "cell_type": "code",
   "execution_count": null,
   "id": "6edfb030",
   "metadata": {},
   "outputs": [],
   "source": []
  },
  {
   "cell_type": "code",
   "execution_count": null,
   "id": "cea0f91d",
   "metadata": {},
   "outputs": [],
   "source": [
    "FUNGSI TAK AD NAMA (LAMBDA FUNCTION)\n",
    "FUNGSI AD NAMA (DEF)"
   ]
  },
  {
   "cell_type": "code",
   "execution_count": 76,
   "id": "63345d03",
   "metadata": {},
   "outputs": [
    {
     "name": "stdout",
     "output_type": "stream",
     "text": [
      "80\n"
     ]
    }
   ],
   "source": [
    "def calculate_area(p,l):\n",
    "    '''Function untuk menghitung luas'''\n",
    "\n",
    "    return p*l\n",
    "\n",
    "area = calculate_area(10,8)\n",
    "print(area)\n"
   ]
  },
  {
   "cell_type": "code",
   "execution_count": 77,
   "id": "06714820",
   "metadata": {},
   "outputs": [
    {
     "name": "stdout",
     "output_type": "stream",
     "text": [
      "<function <lambda> at 0x000001D468171AB0>\n",
      "120\n"
     ]
    }
   ],
   "source": [
    "area = lambda p, l : p*l\n",
    "print(area)\n",
    "print(area(15,8))"
   ]
  },
  {
   "cell_type": "code",
   "execution_count": null,
   "id": "1016fdf9",
   "metadata": {},
   "outputs": [],
   "source": [
    "sum = lamda arg \n"
   ]
  },
  {
   "cell_type": "code",
   "execution_count": null,
   "id": "e2dc3c9e",
   "metadata": {},
   "outputs": [],
   "source": [
    "return statement"
   ]
  },
  {
   "cell_type": "code",
   "execution_count": null,
   "id": "0a4cd0e3",
   "metadata": {},
   "outputs": [],
   "source": [
    "total = sum(10,20)\n",
    "\n",
    "sum(10,20)\n",
    "    total = 30\n",
    "    total2 = "
   ]
  },
  {
   "cell_type": "code",
   "execution_count": 78,
   "id": "148d544a",
   "metadata": {},
   "outputs": [
    {
     "ename": "ModuleNotFoundError",
     "evalue": "No module named 'mod'",
     "output_type": "error",
     "traceback": [
      "\u001b[1;31m---------------------------------------------------------------------------\u001b[0m",
      "\u001b[1;31mModuleNotFoundError\u001b[0m                       Traceback (most recent call last)",
      "Input \u001b[1;32mIn [78]\u001b[0m, in \u001b[0;36m<cell line: 1>\u001b[1;34m()\u001b[0m\n\u001b[1;32m----> 1\u001b[0m \u001b[38;5;28;01mimport\u001b[39;00m \u001b[38;5;21;01mmod\u001b[39;00m\n",
      "\u001b[1;31mModuleNotFoundError\u001b[0m: No module named 'mod'"
     ]
    }
   ],
   "source": [
    "import mod"
   ]
  },
  {
   "cell_type": "code",
   "execution_count": null,
   "id": "e5a7693e",
   "metadata": {},
   "outputs": [],
   "source": []
  },
  {
   "cell_type": "code",
   "execution_count": null,
   "id": "6ccc4e75",
   "metadata": {},
   "outputs": [],
   "source": []
  },
  {
   "cell_type": "code",
   "execution_count": null,
   "id": "d983ad98",
   "metadata": {},
   "outputs": [],
   "source": []
  },
  {
   "cell_type": "code",
   "execution_count": null,
   "id": "31fe4394",
   "metadata": {},
   "outputs": [],
   "source": []
  },
  {
   "cell_type": "code",
   "execution_count": null,
   "id": "f2dd237f",
   "metadata": {},
   "outputs": [],
   "source": []
  },
  {
   "cell_type": "code",
   "execution_count": null,
   "id": "63fccd1c",
   "metadata": {},
   "outputs": [],
   "source": []
  },
  {
   "cell_type": "code",
   "execution_count": null,
   "id": "d98075a5",
   "metadata": {},
   "outputs": [],
   "source": []
  },
  {
   "cell_type": "code",
   "execution_count": null,
   "id": "fbcde422",
   "metadata": {},
   "outputs": [],
   "source": []
  },
  {
   "cell_type": "code",
   "execution_count": null,
   "id": "ef1be078",
   "metadata": {},
   "outputs": [],
   "source": []
  },
  {
   "cell_type": "code",
   "execution_count": null,
   "id": "2d1a17c0",
   "metadata": {},
   "outputs": [],
   "source": []
  },
  {
   "cell_type": "code",
   "execution_count": null,
   "id": "06a42efc",
   "metadata": {},
   "outputs": [],
   "source": []
  },
  {
   "cell_type": "code",
   "execution_count": null,
   "id": "51a88136",
   "metadata": {},
   "outputs": [],
   "source": []
  },
  {
   "cell_type": "code",
   "execution_count": null,
   "id": "94a83ce6",
   "metadata": {},
   "outputs": [],
   "source": []
  },
  {
   "cell_type": "code",
   "execution_count": null,
   "id": "111a3ad4",
   "metadata": {},
   "outputs": [],
   "source": []
  }
 ],
 "metadata": {
  "kernelspec": {
   "display_name": "Python 3 (ipykernel)",
   "language": "python",
   "name": "python3"
  },
  "language_info": {
   "codemirror_mode": {
    "name": "ipython",
    "version": 3
   },
   "file_extension": ".py",
   "mimetype": "text/x-python",
   "name": "python",
   "nbconvert_exporter": "python",
   "pygments_lexer": "ipython3",
   "version": "3.10.4"
  }
 },
 "nbformat": 4,
 "nbformat_minor": 5
}
