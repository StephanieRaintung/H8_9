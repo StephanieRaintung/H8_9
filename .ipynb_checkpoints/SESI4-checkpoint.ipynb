{
 "cells": [
  {
   "cell_type": "code",
   "execution_count": 2,
   "id": "1ab46ae8",
   "metadata": {},
   "outputs": [],
   "source": [
    "import numpy as np"
   ]
  },
  {
   "cell_type": "code",
   "execution_count": 8,
   "id": "adb4318a",
   "metadata": {},
   "outputs": [],
   "source": [
    "a = np.array([[1, 2, 3, 4], [5, 6, 7, 8], [9, 10, 11, 12]])"
   ]
  },
  {
   "cell_type": "code",
   "execution_count": 9,
   "id": "ded556ba",
   "metadata": {},
   "outputs": [
    {
     "name": "stdout",
     "output_type": "stream",
     "text": [
      "[[ 1  2  3  4]\n",
      " [ 5  6  7  8]\n",
      " [ 9 10 11 12]]\n"
     ]
    }
   ],
   "source": [
    "print(a)"
   ]
  },
  {
   "cell_type": "code",
   "execution_count": 10,
   "id": "7d5cfe2a",
   "metadata": {},
   "outputs": [
    {
     "name": "stdout",
     "output_type": "stream",
     "text": [
      "[1 2 3 4]\n"
     ]
    }
   ],
   "source": [
    "print(a[0])"
   ]
  },
  {
   "cell_type": "code",
   "execution_count": 11,
   "id": "e0165688",
   "metadata": {},
   "outputs": [
    {
     "data": {
      "text/plain": [
       "array([[ 1,  2,  3,  4],\n",
       "       [ 5,  6,  7,  8],\n",
       "       [ 9, 10, 11, 12]])"
      ]
     },
     "execution_count": 11,
     "metadata": {},
     "output_type": "execute_result"
    }
   ],
   "source": [
    "a"
   ]
  },
  {
   "cell_type": "code",
   "execution_count": 12,
   "id": "6c130600",
   "metadata": {},
   "outputs": [
    {
     "data": {
      "text/plain": [
       "array([5, 6, 7, 8])"
      ]
     },
     "execution_count": 12,
     "metadata": {},
     "output_type": "execute_result"
    }
   ],
   "source": [
    "a[1]"
   ]
  },
  {
   "cell_type": "code",
   "execution_count": 13,
   "id": "86926827",
   "metadata": {},
   "outputs": [
    {
     "data": {
      "text/plain": [
       "7"
      ]
     },
     "execution_count": 13,
     "metadata": {},
     "output_type": "execute_result"
    }
   ],
   "source": [
    "# Kolom 1 , Baris 2 \n",
    "\n",
    "a[1][2]"
   ]
  },
  {
   "cell_type": "code",
   "execution_count": null,
   "id": "de0cdc66",
   "metadata": {},
   "outputs": [],
   "source": []
  },
  {
   "cell_type": "code",
   "execution_count": null,
   "id": "31208d1d",
   "metadata": {},
   "outputs": [],
   "source": []
  },
  {
   "cell_type": "markdown",
   "id": "08767483",
   "metadata": {},
   "source": [
    "### MEMBUAT ARRAY DIISI DENGAN NOL"
   ]
  },
  {
   "cell_type": "code",
   "execution_count": 8,
   "id": "5178836e",
   "metadata": {},
   "outputs": [
    {
     "data": {
      "text/plain": [
       "array([0., 0., 0., 0., 0., 0.])"
      ]
     },
     "execution_count": 8,
     "metadata": {},
     "output_type": "execute_result"
    }
   ],
   "source": [
    "np.zeros(6)"
   ]
  },
  {
   "cell_type": "markdown",
   "id": "e83af929",
   "metadata": {},
   "source": [
    "### MEMBUAT ARRAY DIISI DENGAN SATU"
   ]
  },
  {
   "cell_type": "code",
   "execution_count": 9,
   "id": "ec37808f",
   "metadata": {},
   "outputs": [
    {
     "data": {
      "text/plain": [
       "array([1., 1., 1., 1., 1., 1.])"
      ]
     },
     "execution_count": 9,
     "metadata": {},
     "output_type": "execute_result"
    }
   ],
   "source": [
    "np.ones(6)"
   ]
  },
  {
   "cell_type": "markdown",
   "id": "4ea320c1",
   "metadata": {},
   "source": [
    "### MEMBUAT ARRAY KOSONG (EMPTY)"
   ]
  },
  {
   "cell_type": "code",
   "execution_count": 10,
   "id": "a9f5c41a",
   "metadata": {},
   "outputs": [
    {
     "data": {
      "text/plain": [
       "array([1., 1., 1., 1., 1., 1.])"
      ]
     },
     "execution_count": 10,
     "metadata": {},
     "output_type": "execute_result"
    }
   ],
   "source": [
    "np.empty(6)"
   ]
  },
  {
   "cell_type": "markdown",
   "id": "338111a0",
   "metadata": {},
   "source": [
    "### MEMBUAT ARRAY DENGAN BEBERAPA JARAK"
   ]
  },
  {
   "cell_type": "code",
   "execution_count": 12,
   "id": "611219b4",
   "metadata": {},
   "outputs": [
    {
     "name": "stdout",
     "output_type": "stream",
     "text": [
      "[0 1 2 3]\n"
     ]
    }
   ],
   "source": [
    "# nilai ada 4\n",
    "\n",
    "print(np.arange(4))"
   ]
  },
  {
   "cell_type": "code",
   "execution_count": 13,
   "id": "df3c354a",
   "metadata": {},
   "outputs": [
    {
     "name": "stdout",
     "output_type": "stream",
     "text": [
      "[0 2 4 6 8]\n"
     ]
    }
   ],
   "source": [
    "# List dimulai dari 0-10, dengan kenaikan 2, tapi 10 tidak termasuk, \n",
    "\n",
    "print(np.arange(0, 10, 2))"
   ]
  },
  {
   "cell_type": "code",
   "execution_count": null,
   "id": "ef43a00c",
   "metadata": {},
   "outputs": [],
   "source": [
    "print(np.arange(2, 30, 5))"
   ]
  },
  {
   "cell_type": "code",
   "execution_count": null,
   "id": "10594ffa",
   "metadata": {},
   "outputs": [],
   "source": []
  },
  {
   "cell_type": "code",
   "execution_count": 125,
   "id": "5a57afbd",
   "metadata": {},
   "outputs": [
    {
     "ename": "TypeError",
     "evalue": "'module' object is not callable",
     "output_type": "error",
     "traceback": [
      "\u001b[1;31m---------------------------------------------------------------------------\u001b[0m",
      "\u001b[1;31mTypeError\u001b[0m                                 Traceback (most recent call last)",
      "Input \u001b[1;32mIn [125]\u001b[0m, in \u001b[0;36m<cell line: 1>\u001b[1;34m()\u001b[0m\n\u001b[1;32m----> 1\u001b[0m \u001b[43mnp\u001b[49m\u001b[38;5;241;43m.\u001b[39;49m\u001b[43mrandom\u001b[49m\u001b[43m(\u001b[49m\u001b[38;5;241;43m9\u001b[39;49m\u001b[43m)\u001b[49m\n",
      "\u001b[1;31mTypeError\u001b[0m: 'module' object is not callable"
     ]
    }
   ],
   "source": [
    "np.random(9)"
   ]
  },
  {
   "cell_type": "markdown",
   "id": "6b1c2efa",
   "metadata": {},
   "source": [
    "### ADD, REMOVE, SORT"
   ]
  },
  {
   "cell_type": "code",
   "execution_count": null,
   "id": "a949d49d",
   "metadata": {},
   "outputs": [],
   "source": [
    "np.append()\n",
    "np.delete()\n",
    "np.sort"
   ]
  },
  {
   "cell_type": "markdown",
   "id": "3d4d2f7a",
   "metadata": {},
   "source": [
    "### NP.APPEND\n",
    "Untuk menambahkan elemen ke array"
   ]
  },
  {
   "cell_type": "code",
   "execution_count": 3,
   "id": "0c06d069",
   "metadata": {},
   "outputs": [],
   "source": [
    "arr = np.array([1, 2, 3, 4, 5, 6, 7, 8])"
   ]
  },
  {
   "cell_type": "code",
   "execution_count": 4,
   "id": "50cadf1a",
   "metadata": {},
   "outputs": [
    {
     "data": {
      "text/plain": [
       "array([1, 2, 3, 4, 5, 6, 7, 8, 1, 2])"
      ]
     },
     "execution_count": 4,
     "metadata": {},
     "output_type": "execute_result"
    }
   ],
   "source": [
    "np.append(arr, [1, 2])"
   ]
  },
  {
   "cell_type": "markdown",
   "id": "44961e1f",
   "metadata": {},
   "source": [
    "### NP.DELETE\n",
    "Menghapus elemen"
   ]
  },
  {
   "cell_type": "code",
   "execution_count": 5,
   "id": "2fb08f88",
   "metadata": {},
   "outputs": [
    {
     "data": {
      "text/plain": [
       "array([1, 3, 4, 5, 6, 7, 8])"
      ]
     },
     "execution_count": 5,
     "metadata": {},
     "output_type": "execute_result"
    }
   ],
   "source": [
    "np.delete(arr, 1)"
   ]
  },
  {
   "cell_type": "markdown",
   "id": "8041048c",
   "metadata": {},
   "source": [
    "### NP.SORT\n",
    "Mengurutkan angka"
   ]
  },
  {
   "cell_type": "code",
   "execution_count": 6,
   "id": "defb78bf",
   "metadata": {},
   "outputs": [],
   "source": [
    "arr = np.array([3, 2, 1, 4, 5, 6, 7, 8])"
   ]
  },
  {
   "cell_type": "code",
   "execution_count": 7,
   "id": "f19527d6",
   "metadata": {},
   "outputs": [
    {
     "data": {
      "text/plain": [
       "array([1, 2, 3, 4, 5, 6, 7, 8])"
      ]
     },
     "execution_count": 7,
     "metadata": {},
     "output_type": "execute_result"
    }
   ],
   "source": [
    "np.sort(arr)"
   ]
  },
  {
   "cell_type": "markdown",
   "id": "b2d46dd4",
   "metadata": {},
   "source": [
    "### SHAPE AND SIZE\n",
    "\n",
    "ndarray.ndim() \"Memberi tahu jumlah axes, dimensi dari array\"\n",
    "ndarray.size() \"Memberi tahu jumlah total elemen array\"\n",
    "ndarray.shape() \"Memberi tahu jumlah baris dan kolom\""
   ]
  },
  {
   "cell_type": "markdown",
   "id": "f06989b7",
   "metadata": {},
   "source": [
    "### CONTOH 1"
   ]
  },
  {
   "cell_type": "code",
   "execution_count": 16,
   "id": "e6e85d1e",
   "metadata": {},
   "outputs": [
    {
     "name": "stdout",
     "output_type": "stream",
     "text": [
      "[[[0 1 2 3]\n",
      "  [4 5 6 7]]\n",
      "\n",
      " [[0 1 2 3]\n",
      "  [4 5 6 7]]\n",
      "\n",
      " [[0 1 2 3]\n",
      "  [4 5 6 7]]]\n"
     ]
    }
   ],
   "source": [
    "array_example = np.array ([[[0,1,2,3], [4,5,6,7]],[[0,1,2,3], [4,5,6,7]], [[0,1,2,3],[4,5,6,7]]])\n",
    "\n",
    "print(array_example)"
   ]
  },
  {
   "cell_type": "code",
   "execution_count": 17,
   "id": "c2488218",
   "metadata": {},
   "outputs": [
    {
     "data": {
      "text/plain": [
       "3"
      ]
     },
     "execution_count": 17,
     "metadata": {},
     "output_type": "execute_result"
    }
   ],
   "source": [
    "array_example.ndim"
   ]
  },
  {
   "cell_type": "code",
   "execution_count": 18,
   "id": "b0a9781c",
   "metadata": {},
   "outputs": [
    {
     "data": {
      "text/plain": [
       "24"
      ]
     },
     "execution_count": 18,
     "metadata": {},
     "output_type": "execute_result"
    }
   ],
   "source": [
    "array_example.size"
   ]
  },
  {
   "cell_type": "code",
   "execution_count": 19,
   "id": "e93df674",
   "metadata": {},
   "outputs": [
    {
     "data": {
      "text/plain": [
       "(3, 2, 4)"
      ]
     },
     "execution_count": 19,
     "metadata": {},
     "output_type": "execute_result"
    }
   ],
   "source": [
    "array_example.shape"
   ]
  },
  {
   "cell_type": "markdown",
   "id": "c12271fd",
   "metadata": {},
   "source": [
    "### CONTOH 2"
   ]
  },
  {
   "cell_type": "code",
   "execution_count": 50,
   "id": "71b229a8",
   "metadata": {},
   "outputs": [],
   "source": [
    "arr_one = np.array([1,2,3,4,5])"
   ]
  },
  {
   "cell_type": "code",
   "execution_count": 51,
   "id": "81ee5022",
   "metadata": {},
   "outputs": [
    {
     "data": {
      "text/plain": [
       "1"
      ]
     },
     "execution_count": 51,
     "metadata": {},
     "output_type": "execute_result"
    }
   ],
   "source": [
    "arr_one.ndim"
   ]
  },
  {
   "cell_type": "code",
   "execution_count": 52,
   "id": "24c65599",
   "metadata": {},
   "outputs": [
    {
     "data": {
      "text/plain": [
       "5"
      ]
     },
     "execution_count": 52,
     "metadata": {},
     "output_type": "execute_result"
    }
   ],
   "source": [
    "arr_one.size"
   ]
  },
  {
   "cell_type": "code",
   "execution_count": 53,
   "id": "07285d0d",
   "metadata": {},
   "outputs": [
    {
     "data": {
      "text/plain": [
       "(5,)"
      ]
     },
     "execution_count": 53,
     "metadata": {},
     "output_type": "execute_result"
    }
   ],
   "source": [
    "arr_one.shape"
   ]
  },
  {
   "cell_type": "markdown",
   "id": "462e4405",
   "metadata": {},
   "source": [
    "### RESHAPE\n",
    "\n",
    "np.reshape() \"Memberi bentuk baru ke array tanpa mengubah data\"\n",
    "Array lama dan baru harus SAMA ELEMEN\n",
    "\n",
    "a \"array yang akan di reshape\"\n",
    "newshape \"bentuk baru yg diinginkan\""
   ]
  },
  {
   "cell_type": "markdown",
   "id": "8bc27e64",
   "metadata": {},
   "source": [
    "## CONTOH "
   ]
  },
  {
   "cell_type": "code",
   "execution_count": 32,
   "id": "c754a759",
   "metadata": {},
   "outputs": [
    {
     "name": "stdout",
     "output_type": "stream",
     "text": [
      "[0 1 2 3 4 5]\n"
     ]
    }
   ],
   "source": [
    "a = np.arange(6)\n",
    "print (a)"
   ]
  },
  {
   "cell_type": "code",
   "execution_count": 34,
   "id": "5f483d9a",
   "metadata": {},
   "outputs": [
    {
     "name": "stdout",
     "output_type": "stream",
     "text": [
      "[[0 1]\n",
      " [2 3]\n",
      " [4 5]]\n"
     ]
    }
   ],
   "source": [
    "b = a.reshape(3,2)\n",
    "print(b)"
   ]
  },
  {
   "cell_type": "code",
   "execution_count": 35,
   "id": "161ebbb2",
   "metadata": {},
   "outputs": [
    {
     "data": {
      "text/plain": [
       "array([[0, 1],\n",
       "       [2, 3],\n",
       "       [4, 5]])"
      ]
     },
     "execution_count": 35,
     "metadata": {},
     "output_type": "execute_result"
    }
   ],
   "source": [
    "a.reshape (3,2)"
   ]
  },
  {
   "cell_type": "markdown",
   "id": "5f7a5836",
   "metadata": {},
   "source": [
    "### CONVERT 1D to 2D\n",
    "\n",
    "np.newaxis \"Meningkatkan array sebesar 1 dimensi\"\n",
    "np.expand_dims"
   ]
  },
  {
   "cell_type": "markdown",
   "id": "ad79bd21",
   "metadata": {},
   "source": [
    "### CONTOH 1"
   ]
  },
  {
   "cell_type": "code",
   "execution_count": 36,
   "id": "92256a09",
   "metadata": {},
   "outputs": [
    {
     "data": {
      "text/plain": [
       "(6,)"
      ]
     },
     "execution_count": 36,
     "metadata": {},
     "output_type": "execute_result"
    }
   ],
   "source": [
    "a = np.array ([1, 2, 3, 4, 5, 6])\n",
    "a.shape"
   ]
  },
  {
   "cell_type": "code",
   "execution_count": 37,
   "id": "6fed6d6e",
   "metadata": {},
   "outputs": [],
   "source": [
    "a2 = a[np.newaxis]"
   ]
  },
  {
   "cell_type": "code",
   "execution_count": 38,
   "id": "bf15b3d5",
   "metadata": {},
   "outputs": [
    {
     "name": "stdout",
     "output_type": "stream",
     "text": [
      "[[1 2 3 4 5 6]]\n"
     ]
    }
   ],
   "source": [
    "print(a2)"
   ]
  },
  {
   "cell_type": "code",
   "execution_count": 39,
   "id": "18574fd3",
   "metadata": {},
   "outputs": [
    {
     "name": "stdout",
     "output_type": "stream",
     "text": [
      "(1, 6)\n"
     ]
    }
   ],
   "source": [
    "print(a2.shape)"
   ]
  },
  {
   "cell_type": "markdown",
   "id": "0a530083",
   "metadata": {},
   "source": [
    "### MENAMBAH 1 DIMENSI ARRAY MENGGUNAKAN (:) dibelakang"
   ]
  },
  {
   "cell_type": "code",
   "execution_count": 40,
   "id": "4be5f3f5",
   "metadata": {},
   "outputs": [],
   "source": [
    "row_vector = a[np.newaxis, :]"
   ]
  },
  {
   "cell_type": "code",
   "execution_count": 41,
   "id": "3891f2fa",
   "metadata": {},
   "outputs": [
    {
     "name": "stdout",
     "output_type": "stream",
     "text": [
      "[[1 2 3 4 5 6]]\n"
     ]
    }
   ],
   "source": [
    "print(row_vector)"
   ]
  },
  {
   "cell_type": "code",
   "execution_count": 42,
   "id": "2fbfa888",
   "metadata": {},
   "outputs": [
    {
     "name": "stdout",
     "output_type": "stream",
     "text": [
      "(1, 6)\n"
     ]
    }
   ],
   "source": [
    "print(row_vector.shape)"
   ]
  },
  {
   "cell_type": "markdown",
   "id": "f2bcf049",
   "metadata": {},
   "source": [
    "### MENAMBAH (:) didepan untuk membuat array vertikal dan ditambah 1 dimensi"
   ]
  },
  {
   "cell_type": "code",
   "execution_count": 43,
   "id": "859a7e11",
   "metadata": {},
   "outputs": [],
   "source": [
    "col_vector = a[:, np.newaxis]"
   ]
  },
  {
   "cell_type": "code",
   "execution_count": 44,
   "id": "71d7e5b7",
   "metadata": {},
   "outputs": [
    {
     "name": "stdout",
     "output_type": "stream",
     "text": [
      "[[1]\n",
      " [2]\n",
      " [3]\n",
      " [4]\n",
      " [5]\n",
      " [6]]\n"
     ]
    }
   ],
   "source": [
    "print(col_vector)"
   ]
  },
  {
   "cell_type": "code",
   "execution_count": 45,
   "id": "1dbca284",
   "metadata": {},
   "outputs": [
    {
     "name": "stdout",
     "output_type": "stream",
     "text": [
      "(6, 1)\n"
     ]
    }
   ],
   "source": [
    "print(col_vector.shape)\n",
    "\n",
    "# 6 kolom, 1 baris "
   ]
  },
  {
   "cell_type": "markdown",
   "id": "c096e3ec",
   "metadata": {},
   "source": [
    "### MENAMBAH KOLOM, NP.EXPAND_DIMS"
   ]
  },
  {
   "cell_type": "code",
   "execution_count": 46,
   "id": "be4054fc",
   "metadata": {},
   "outputs": [
    {
     "data": {
      "text/plain": [
       "(6,)"
      ]
     },
     "execution_count": 46,
     "metadata": {},
     "output_type": "execute_result"
    }
   ],
   "source": [
    "a = np.array ([1, 2, 3, 4, 5, 6])\n",
    "a.shape"
   ]
  },
  {
   "cell_type": "code",
   "execution_count": 48,
   "id": "9d5d044b",
   "metadata": {},
   "outputs": [],
   "source": [
    "#Axis =baris\n",
    "\n",
    "b = np.expand_dims(a, axis=1)"
   ]
  },
  {
   "cell_type": "code",
   "execution_count": 49,
   "id": "c1fb628e",
   "metadata": {},
   "outputs": [
    {
     "data": {
      "text/plain": [
       "(6, 1)"
      ]
     },
     "execution_count": 49,
     "metadata": {},
     "output_type": "execute_result"
    }
   ],
   "source": [
    "b.shape"
   ]
  },
  {
   "cell_type": "code",
   "execution_count": 54,
   "id": "3e0ee19f",
   "metadata": {},
   "outputs": [
    {
     "name": "stdout",
     "output_type": "stream",
     "text": [
      "[[1]\n",
      " [2]\n",
      " [3]\n",
      " [4]\n",
      " [5]\n",
      " [6]]\n"
     ]
    }
   ],
   "source": [
    "print(b)"
   ]
  },
  {
   "cell_type": "markdown",
   "id": "bcf31da0",
   "metadata": {},
   "source": [
    "### MENAMBAH 1 dimensi"
   ]
  },
  {
   "cell_type": "code",
   "execution_count": 59,
   "id": "0d623fae",
   "metadata": {},
   "outputs": [],
   "source": [
    "c = np.expand_dims(a, axis=0)"
   ]
  },
  {
   "cell_type": "code",
   "execution_count": 60,
   "id": "59025de4",
   "metadata": {},
   "outputs": [
    {
     "data": {
      "text/plain": [
       "(1, 6)"
      ]
     },
     "execution_count": 60,
     "metadata": {},
     "output_type": "execute_result"
    }
   ],
   "source": [
    "c.shape"
   ]
  },
  {
   "cell_type": "code",
   "execution_count": 61,
   "id": "5a6e3167",
   "metadata": {},
   "outputs": [
    {
     "name": "stdout",
     "output_type": "stream",
     "text": [
      "[[1 2 3 4 5 6]]\n"
     ]
    }
   ],
   "source": [
    "print(c)"
   ]
  },
  {
   "cell_type": "markdown",
   "id": "737f58cc",
   "metadata": {},
   "source": [
    "### INDEXING & SLICING"
   ]
  },
  {
   "cell_type": "code",
   "execution_count": 62,
   "id": "8f73bbe6",
   "metadata": {},
   "outputs": [
    {
     "name": "stdout",
     "output_type": "stream",
     "text": [
      "[1 2 3]\n",
      "1\n",
      "2\n",
      "[1 2]\n",
      "[2 3]\n",
      "[2 3]\n"
     ]
    }
   ],
   "source": [
    "data = np.array([1,2,3])\n",
    "\n",
    "print(data)\n",
    "print(data[0])\n",
    "print(data[1])\n",
    "print(data[0:2])\n",
    "print(data[1:])\n",
    "print(data[-2:])"
   ]
  },
  {
   "cell_type": "markdown",
   "id": "8f96599d",
   "metadata": {},
   "source": [
    "### CONTOH DATA"
   ]
  },
  {
   "cell_type": "code",
   "execution_count": 63,
   "id": "270d029f",
   "metadata": {},
   "outputs": [],
   "source": [
    "a = np.array([[1, 2, 3, 4], [5, 6, 7, 8], [9, 10, 11, 12]])"
   ]
  },
  {
   "cell_type": "code",
   "execution_count": 64,
   "id": "cb7f3f0c",
   "metadata": {},
   "outputs": [
    {
     "data": {
      "text/plain": [
       "array([[ 1,  2,  3,  4],\n",
       "       [ 5,  6,  7,  8],\n",
       "       [ 9, 10, 11, 12]])"
      ]
     },
     "execution_count": 64,
     "metadata": {},
     "output_type": "execute_result"
    }
   ],
   "source": [
    "a"
   ]
  },
  {
   "cell_type": "markdown",
   "id": "d98b4fff",
   "metadata": {},
   "source": [
    "### MENAMPILKAN ANGKA LEBIH BESAR SAMA DENGAN 5"
   ]
  },
  {
   "cell_type": "markdown",
   "id": "06e86b8e",
   "metadata": {},
   "source": [
    "### CONTOH 1"
   ]
  },
  {
   "cell_type": "code",
   "execution_count": 65,
   "id": "4e6fe037",
   "metadata": {},
   "outputs": [
    {
     "name": "stdout",
     "output_type": "stream",
     "text": [
      "[ 5  6  7  8  9 10 11 12]\n"
     ]
    }
   ],
   "source": [
    "print(a[a>=5])"
   ]
  },
  {
   "cell_type": "markdown",
   "id": "b26c13f0",
   "metadata": {},
   "source": [
    "### CONTOH 2"
   ]
  },
  {
   "cell_type": "code",
   "execution_count": 66,
   "id": "0fc276a6",
   "metadata": {},
   "outputs": [
    {
     "name": "stdout",
     "output_type": "stream",
     "text": [
      "[ 5  6  7  8  9 10 11 12]\n"
     ]
    }
   ],
   "source": [
    "five_up = (a>=5)\n",
    "\n",
    "print(a[five_up])"
   ]
  },
  {
   "cell_type": "markdown",
   "id": "d7d985b6",
   "metadata": {},
   "source": [
    "### MENAMPILKAN ELEMEN HABIS DIBAGI 2"
   ]
  },
  {
   "cell_type": "markdown",
   "id": "e7149a8e",
   "metadata": {},
   "source": [
    "### DIVISIBLE"
   ]
  },
  {
   "cell_type": "code",
   "execution_count": 69,
   "id": "a199e7da",
   "metadata": {},
   "outputs": [
    {
     "name": "stdout",
     "output_type": "stream",
     "text": [
      "[[ 1  2  3  4]\n",
      " [ 5  6  7  8]\n",
      " [ 9 10 11 12]]\n"
     ]
    }
   ],
   "source": [
    "a = np.array([[1, 2, 3, 4], [5, 6, 7, 8], [9, 10, 11, 12]])\n",
    "print(a)"
   ]
  },
  {
   "cell_type": "code",
   "execution_count": 70,
   "id": "bbb01ea3",
   "metadata": {},
   "outputs": [],
   "source": [
    "divisible_by_2 = a[a%2==0]"
   ]
  },
  {
   "cell_type": "code",
   "execution_count": 71,
   "id": "31681e32",
   "metadata": {},
   "outputs": [
    {
     "name": "stdout",
     "output_type": "stream",
     "text": [
      "[ 2  4  6  8 10 12]\n"
     ]
    }
   ],
   "source": [
    "print(divisible_by_2)"
   ]
  },
  {
   "cell_type": "markdown",
   "id": "2f1107dc",
   "metadata": {},
   "source": [
    "### MENAMPILKAN ELEMEN > 2 dan < 11"
   ]
  },
  {
   "cell_type": "code",
   "execution_count": 72,
   "id": "7e4a94a5",
   "metadata": {},
   "outputs": [],
   "source": [
    "c = a[(a > 2) & (a < 11)]"
   ]
  },
  {
   "cell_type": "code",
   "execution_count": 73,
   "id": "fc26f135",
   "metadata": {},
   "outputs": [
    {
     "name": "stdout",
     "output_type": "stream",
     "text": [
      "[ 3  4  5  6  7  8  9 10]\n"
     ]
    }
   ],
   "source": [
    "print(c)"
   ]
  },
  {
   "cell_type": "markdown",
   "id": "3bbd8a00",
   "metadata": {},
   "source": [
    "### CREATING ARRAY FROM EXISTING DATA\n",
    "\n",
    "slicing indexing\n",
    "np.vstack()\n",
    "np.hstack()\n",
    "np.hsplit()\n",
    ".view()\n",
    ".copy()"
   ]
  },
  {
   "cell_type": "code",
   "execution_count": 74,
   "id": "414e62e1",
   "metadata": {},
   "outputs": [],
   "source": [
    "arr = np.array([1,2,3,4,5,6,7,8,9,10])"
   ]
  },
  {
   "cell_type": "code",
   "execution_count": 75,
   "id": "9d0395c2",
   "metadata": {},
   "outputs": [],
   "source": [
    "arr1 = arr[3:8]"
   ]
  },
  {
   "cell_type": "code",
   "execution_count": 76,
   "id": "cbf3978b",
   "metadata": {},
   "outputs": [
    {
     "data": {
      "text/plain": [
       "array([4, 5, 6, 7, 8])"
      ]
     },
     "execution_count": 76,
     "metadata": {},
     "output_type": "execute_result"
    }
   ],
   "source": [
    "arr1"
   ]
  },
  {
   "cell_type": "markdown",
   "id": "28f754ab",
   "metadata": {},
   "source": [
    "### MENUMPUK ARRAY SECARA VERTIKAL\n",
    "\n",
    "dengan vstack"
   ]
  },
  {
   "cell_type": "code",
   "execution_count": 77,
   "id": "b67f4909",
   "metadata": {},
   "outputs": [],
   "source": [
    "a_1 = np.array([[1,1], [2,2]])"
   ]
  },
  {
   "cell_type": "code",
   "execution_count": 78,
   "id": "a8a1731c",
   "metadata": {},
   "outputs": [],
   "source": [
    "a_2 = np.array([[3,3], [4,4]])"
   ]
  },
  {
   "cell_type": "code",
   "execution_count": 84,
   "id": "d19af1a4",
   "metadata": {},
   "outputs": [
    {
     "data": {
      "text/plain": [
       "array([[1, 1],\n",
       "       [2, 2],\n",
       "       [3, 3],\n",
       "       [4, 4]])"
      ]
     },
     "execution_count": 84,
     "metadata": {},
     "output_type": "execute_result"
    }
   ],
   "source": [
    "np.vstack((a_1, a_2))"
   ]
  },
  {
   "cell_type": "code",
   "execution_count": null,
   "id": "e9ed2572",
   "metadata": {},
   "outputs": [],
   "source": []
  },
  {
   "cell_type": "code",
   "execution_count": 86,
   "id": "9f8c5a37",
   "metadata": {},
   "outputs": [
    {
     "name": "stdout",
     "output_type": "stream",
     "text": [
      "[[1 1]\n",
      " [2 2]\n",
      " [3 3]\n",
      " [4 4]]\n"
     ]
    }
   ],
   "source": [
    "a_1_2 = np.vstack((a_1, a_2))\n",
    "print(a_1_2)"
   ]
  },
  {
   "cell_type": "markdown",
   "id": "4c942aa6",
   "metadata": {},
   "source": [
    "### MENUMPUK ARRAY SECARA HORIZONTAL\n",
    "\n",
    "dengan hstack"
   ]
  },
  {
   "cell_type": "code",
   "execution_count": 85,
   "id": "f21eaeac",
   "metadata": {},
   "outputs": [
    {
     "data": {
      "text/plain": [
       "array([[1, 1, 3, 3],\n",
       "       [2, 2, 4, 4]])"
      ]
     },
     "execution_count": 85,
     "metadata": {},
     "output_type": "execute_result"
    }
   ],
   "source": [
    "np.hstack((a_1, a_2))"
   ]
  },
  {
   "cell_type": "markdown",
   "id": "cd5a3928",
   "metadata": {},
   "source": [
    "### MEMBAGI ARRAY MENJADI LEBIH KECIL"
   ]
  },
  {
   "cell_type": "code",
   "execution_count": 90,
   "id": "77a4f9ea",
   "metadata": {},
   "outputs": [],
   "source": [
    "arr_split = np.array([[1, 2, 3, 4, 5, 6, 7, 8, 9, 10, 11, 12], \n",
    "                      [13, 14, 15, 16, 17, 18, 19, 20, 21, 22, 23, 24]])"
   ]
  },
  {
   "cell_type": "code",
   "execution_count": 91,
   "id": "b93ab295",
   "metadata": {},
   "outputs": [
    {
     "name": "stdout",
     "output_type": "stream",
     "text": [
      "[[ 1  2  3  4  5  6  7  8  9 10 11 12]\n",
      " [13 14 15 16 17 18 19 20 21 22 23 24]]\n"
     ]
    }
   ],
   "source": [
    "print(arr_split)"
   ]
  },
  {
   "cell_type": "markdown",
   "id": "d2191317",
   "metadata": {},
   "source": [
    "### MEMBAGI ARRAY MENJADI 3 KOLOM SCR HORIZONTAL"
   ]
  },
  {
   "cell_type": "code",
   "execution_count": 92,
   "id": "4739dd86",
   "metadata": {},
   "outputs": [
    {
     "data": {
      "text/plain": [
       "[array([[ 1,  2,  3,  4],\n",
       "        [13, 14, 15, 16]]),\n",
       " array([[ 5,  6,  7,  8],\n",
       "        [17, 18, 19, 20]]),\n",
       " array([[ 9, 10, 11, 12],\n",
       "        [21, 22, 23, 24]])]"
      ]
     },
     "execution_count": 92,
     "metadata": {},
     "output_type": "execute_result"
    }
   ],
   "source": [
    "np.hsplit(arr_split,3)"
   ]
  },
  {
   "cell_type": "markdown",
   "id": "1bc4a1bb",
   "metadata": {},
   "source": [
    "### MEMBUAT ARRAY BARU YANG DATANYA SAMA DGN ARRAY ASLI\n",
    "\n",
    "np.view\n",
    "np.copy \"Meng copy Data\""
   ]
  },
  {
   "cell_type": "code",
   "execution_count": 93,
   "id": "ec955961",
   "metadata": {},
   "outputs": [],
   "source": [
    "a = np.array([[1,2,3,4], [5,6,7,8], [9,10,11,12]])"
   ]
  },
  {
   "cell_type": "code",
   "execution_count": 94,
   "id": "22ecc738",
   "metadata": {},
   "outputs": [
    {
     "data": {
      "text/plain": [
       "array([[ 1,  2,  3,  4],\n",
       "       [ 5,  6,  7,  8],\n",
       "       [ 9, 10, 11, 12]])"
      ]
     },
     "execution_count": 94,
     "metadata": {},
     "output_type": "execute_result"
    }
   ],
   "source": [
    "a"
   ]
  },
  {
   "cell_type": "code",
   "execution_count": 95,
   "id": "19c46363",
   "metadata": {},
   "outputs": [],
   "source": [
    "b = a.view()"
   ]
  },
  {
   "cell_type": "code",
   "execution_count": 96,
   "id": "c7ee0624",
   "metadata": {},
   "outputs": [
    {
     "data": {
      "text/plain": [
       "array([[ 1,  2,  3,  4],\n",
       "       [ 5,  6,  7,  8],\n",
       "       [ 9, 10, 11, 12]])"
      ]
     },
     "execution_count": 96,
     "metadata": {},
     "output_type": "execute_result"
    }
   ],
   "source": [
    "b"
   ]
  },
  {
   "cell_type": "code",
   "execution_count": 97,
   "id": "82a9f59d",
   "metadata": {},
   "outputs": [],
   "source": [
    "c = a.copy() "
   ]
  },
  {
   "cell_type": "code",
   "execution_count": 98,
   "id": "39af0560",
   "metadata": {},
   "outputs": [
    {
     "data": {
      "text/plain": [
       "array([[ 1,  2,  3,  4],\n",
       "       [ 5,  6,  7,  8],\n",
       "       [ 9, 10, 11, 12]])"
      ]
     },
     "execution_count": 98,
     "metadata": {},
     "output_type": "execute_result"
    }
   ],
   "source": [
    "c"
   ]
  },
  {
   "cell_type": "markdown",
   "id": "bdd1eeae",
   "metadata": {},
   "source": [
    "### BASIC ARRAY OPERATIONS\n",
    "Addition, subtraction, multiplication, division\n",
    "\n",
    "data - ones \n",
    "data * data\n",
    "data/data\n",
    "\n",
    "np.sum \"Menjumlahkan Semua Elemen di Array\""
   ]
  },
  {
   "cell_type": "code",
   "execution_count": 99,
   "id": "78129b99",
   "metadata": {},
   "outputs": [],
   "source": [
    "a = np.array ([1,2,3,4])"
   ]
  },
  {
   "cell_type": "code",
   "execution_count": 100,
   "id": "f946d90a",
   "metadata": {},
   "outputs": [
    {
     "data": {
      "text/plain": [
       "10"
      ]
     },
     "execution_count": 100,
     "metadata": {},
     "output_type": "execute_result"
    }
   ],
   "source": [
    "a.sum()"
   ]
  },
  {
   "cell_type": "markdown",
   "id": "cb70b0b3",
   "metadata": {},
   "source": [
    "### Untuk tambah baris/kolom di array 2D, tentukan axis"
   ]
  },
  {
   "cell_type": "code",
   "execution_count": 101,
   "id": "eb49ba2f",
   "metadata": {},
   "outputs": [],
   "source": [
    "b = np.array([[1,1], [2,2]])"
   ]
  },
  {
   "cell_type": "code",
   "execution_count": 102,
   "id": "a8f02298",
   "metadata": {},
   "outputs": [
    {
     "data": {
      "text/plain": [
       "array([[1, 1],\n",
       "       [2, 2]])"
      ]
     },
     "execution_count": 102,
     "metadata": {},
     "output_type": "execute_result"
    }
   ],
   "source": [
    "b"
   ]
  },
  {
   "cell_type": "code",
   "execution_count": 103,
   "id": "e861b2e3",
   "metadata": {},
   "outputs": [
    {
     "data": {
      "text/plain": [
       "array([3, 3])"
      ]
     },
     "execution_count": 103,
     "metadata": {},
     "output_type": "execute_result"
    }
   ],
   "source": [
    "# SUM ROWS\n",
    "\n",
    "b.sum(axis=0)"
   ]
  },
  {
   "cell_type": "code",
   "execution_count": 105,
   "id": "ac6eb764",
   "metadata": {},
   "outputs": [
    {
     "data": {
      "text/plain": [
       "array([2, 4])"
      ]
     },
     "execution_count": 105,
     "metadata": {},
     "output_type": "execute_result"
    }
   ],
   "source": [
    "# SUM COLUMS\n",
    "\n",
    "b.sum(axis=1)"
   ]
  },
  {
   "cell_type": "markdown",
   "id": "4ea2d7eb",
   "metadata": {},
   "source": [
    "### CONTOH"
   ]
  },
  {
   "cell_type": "code",
   "execution_count": 107,
   "id": "0438b508",
   "metadata": {},
   "outputs": [
    {
     "data": {
      "text/plain": [
       "array([1, 2])"
      ]
     },
     "execution_count": 107,
     "metadata": {},
     "output_type": "execute_result"
    }
   ],
   "source": [
    "data = np.array([1,2])\n",
    "data"
   ]
  },
  {
   "cell_type": "code",
   "execution_count": 108,
   "id": "fba7ec13",
   "metadata": {},
   "outputs": [
    {
     "data": {
      "text/plain": [
       "array([1., 1.])"
      ]
     },
     "execution_count": 108,
     "metadata": {},
     "output_type": "execute_result"
    }
   ],
   "source": [
    "ones = np.ones(2)\n",
    "ones"
   ]
  },
  {
   "cell_type": "code",
   "execution_count": 109,
   "id": "93a58e5a",
   "metadata": {},
   "outputs": [
    {
     "data": {
      "text/plain": [
       "array([2., 3.])"
      ]
     },
     "execution_count": 109,
     "metadata": {},
     "output_type": "execute_result"
    }
   ],
   "source": [
    "data + ones"
   ]
  },
  {
   "cell_type": "code",
   "execution_count": 110,
   "id": "ffd80675",
   "metadata": {},
   "outputs": [
    {
     "data": {
      "text/plain": [
       "array([1, 4])"
      ]
     },
     "execution_count": 110,
     "metadata": {},
     "output_type": "execute_result"
    }
   ],
   "source": [
    "data*data"
   ]
  },
  {
   "cell_type": "code",
   "execution_count": 111,
   "id": "ebeb5f97",
   "metadata": {},
   "outputs": [
    {
     "data": {
      "text/plain": [
       "array([1., 1.])"
      ]
     },
     "execution_count": 111,
     "metadata": {},
     "output_type": "execute_result"
    }
   ],
   "source": [
    "data/data"
   ]
  },
  {
   "cell_type": "markdown",
   "id": "32ea83d2",
   "metadata": {},
   "source": [
    "### BROADCASTING\n",
    "Operasi antara array dan 1 bilangan"
   ]
  },
  {
   "cell_type": "code",
   "execution_count": 112,
   "id": "bc3b6380",
   "metadata": {},
   "outputs": [
    {
     "data": {
      "text/plain": [
       "array([1.6, 3.2])"
      ]
     },
     "execution_count": 112,
     "metadata": {},
     "output_type": "execute_result"
    }
   ],
   "source": [
    "data*1.6"
   ]
  },
  {
   "cell_type": "code",
   "execution_count": 113,
   "id": "ece15d58",
   "metadata": {},
   "outputs": [
    {
     "data": {
      "text/plain": [
       "array([2, 4])"
      ]
     },
     "execution_count": 113,
     "metadata": {},
     "output_type": "execute_result"
    }
   ],
   "source": [
    "data*2"
   ]
  },
  {
   "cell_type": "markdown",
   "id": "81e0993c",
   "metadata": {},
   "source": [
    "### MORE ARRAY OPERATIONS\n",
    "Maximum, minimum, sum, mean, product, standard deviation\n",
    "\n",
    "data.max()\n",
    "data.min()\n",
    "data.sum()"
   ]
  },
  {
   "cell_type": "code",
   "execution_count": 115,
   "id": "87d28724",
   "metadata": {},
   "outputs": [],
   "source": [
    "A = np.array([[0.45, 0.50, 0.30, 0.55],\n",
    "             [0.66, 0.77, 0.68, 0.54],\n",
    "             [0.34, 0.90, 0.80, 0.75]])"
   ]
  },
  {
   "cell_type": "code",
   "execution_count": 117,
   "id": "fcf825e1",
   "metadata": {},
   "outputs": [
    {
     "name": "stdout",
     "output_type": "stream",
     "text": [
      "[[0.45 0.5  0.3  0.55]\n",
      " [0.66 0.77 0.68 0.54]\n",
      " [0.34 0.9  0.8  0.75]]\n"
     ]
    }
   ],
   "source": [
    "print(A)"
   ]
  },
  {
   "cell_type": "code",
   "execution_count": 118,
   "id": "9774ec5a",
   "metadata": {},
   "outputs": [
    {
     "data": {
      "text/plain": [
       "7.24"
      ]
     },
     "execution_count": 118,
     "metadata": {},
     "output_type": "execute_result"
    }
   ],
   "source": [
    "A.sum()"
   ]
  },
  {
   "cell_type": "code",
   "execution_count": 119,
   "id": "07ab50fd",
   "metadata": {},
   "outputs": [
    {
     "data": {
      "text/plain": [
       "0.3"
      ]
     },
     "execution_count": 119,
     "metadata": {},
     "output_type": "execute_result"
    }
   ],
   "source": [
    "A.min()"
   ]
  },
  {
   "cell_type": "code",
   "execution_count": 120,
   "id": "4849b104",
   "metadata": {},
   "outputs": [
    {
     "data": {
      "text/plain": [
       "0.9"
      ]
     },
     "execution_count": 120,
     "metadata": {},
     "output_type": "execute_result"
    }
   ],
   "source": [
    "A.max()"
   ]
  },
  {
   "cell_type": "code",
   "execution_count": 121,
   "id": "c16a0edd",
   "metadata": {},
   "outputs": [
    {
     "data": {
      "text/plain": [
       "array([0.34, 0.5 , 0.3 , 0.54])"
      ]
     },
     "execution_count": 121,
     "metadata": {},
     "output_type": "execute_result"
    }
   ],
   "source": [
    "# Mencari nilai minimum di tiap baris (vertikal)\n",
    "\n",
    "A.min(axis=0)"
   ]
  },
  {
   "cell_type": "code",
   "execution_count": 122,
   "id": "027a434d",
   "metadata": {},
   "outputs": [
    {
     "data": {
      "text/plain": [
       "array([0.55, 0.77, 0.9 ])"
      ]
     },
     "execution_count": 122,
     "metadata": {},
     "output_type": "execute_result"
    }
   ],
   "source": [
    "# Mencari nilai max di tiap kolom (horizontal)\n",
    "\n",
    "A.max(axis=1)"
   ]
  },
  {
   "cell_type": "code",
   "execution_count": 123,
   "id": "5bad0ea7",
   "metadata": {},
   "outputs": [
    {
     "data": {
      "text/plain": [
       "0.1796910929592474"
      ]
     },
     "execution_count": 123,
     "metadata": {},
     "output_type": "execute_result"
    }
   ],
   "source": [
    "A.std()"
   ]
  },
  {
   "cell_type": "markdown",
   "id": "0c4afcdd",
   "metadata": {},
   "source": [
    "### MATRIKS"
   ]
  },
  {
   "cell_type": "code",
   "execution_count": 124,
   "id": "c6a92937",
   "metadata": {},
   "outputs": [
    {
     "data": {
      "text/plain": [
       "array([[1., 1.],\n",
       "       [1., 1.],\n",
       "       [1., 1.]])"
      ]
     },
     "execution_count": 124,
     "metadata": {},
     "output_type": "execute_result"
    }
   ],
   "source": [
    "np.ones((3,2))"
   ]
  },
  {
   "cell_type": "code",
   "execution_count": 126,
   "id": "9d27fe59",
   "metadata": {},
   "outputs": [
    {
     "data": {
      "text/plain": [
       "array([[0., 0.],\n",
       "       [0., 0.],\n",
       "       [0., 0.]])"
      ]
     },
     "execution_count": 126,
     "metadata": {},
     "output_type": "execute_result"
    }
   ],
   "source": [
    "np.zeros((3,2))"
   ]
  },
  {
   "cell_type": "code",
   "execution_count": 127,
   "id": "9e3afd76",
   "metadata": {},
   "outputs": [
    {
     "data": {
      "text/plain": [
       "array([[0.8455284 , 0.56573946],\n",
       "       [0.38801297, 0.55073566],\n",
       "       [0.40874396, 0.05366789]])"
      ]
     },
     "execution_count": 127,
     "metadata": {},
     "output_type": "execute_result"
    }
   ],
   "source": [
    "np.random.random((3,2))"
   ]
  },
  {
   "cell_type": "markdown",
   "id": "8ac8c20e",
   "metadata": {},
   "source": [
    "### MATRIX ARITHMETIC"
   ]
  },
  {
   "cell_type": "code",
   "execution_count": 128,
   "id": "e7521738",
   "metadata": {},
   "outputs": [
    {
     "name": "stdout",
     "output_type": "stream",
     "text": [
      "[[1 2]\n",
      " [3 4]]\n"
     ]
    }
   ],
   "source": [
    "data = np.array([[1,2],[3,4]])\n",
    "print(data)"
   ]
  },
  {
   "cell_type": "code",
   "execution_count": 129,
   "id": "caca1794",
   "metadata": {},
   "outputs": [
    {
     "name": "stdout",
     "output_type": "stream",
     "text": [
      "[[1. 1.]\n",
      " [1. 1.]]\n"
     ]
    }
   ],
   "source": [
    "ones = np.ones([2,2])\n",
    "print(ones)"
   ]
  },
  {
   "cell_type": "code",
   "execution_count": 130,
   "id": "1abd1c4b",
   "metadata": {},
   "outputs": [
    {
     "name": "stdout",
     "output_type": "stream",
     "text": [
      "[[2. 3.]\n",
      " [4. 5.]]\n"
     ]
    }
   ],
   "source": [
    "print(data + ones)"
   ]
  },
  {
   "cell_type": "code",
   "execution_count": 131,
   "id": "1c5c03f4",
   "metadata": {},
   "outputs": [
    {
     "name": "stdout",
     "output_type": "stream",
     "text": [
      "[[1. 1.]]\n"
     ]
    }
   ],
   "source": [
    "ones_row = np.ones([1,2])\n",
    "print(ones_row)"
   ]
  },
  {
   "cell_type": "code",
   "execution_count": 132,
   "id": "eb1a1638",
   "metadata": {},
   "outputs": [
    {
     "name": "stdout",
     "output_type": "stream",
     "text": [
      "[[2. 3.]\n",
      " [4. 5.]]\n"
     ]
    }
   ],
   "source": [
    "print(data + ones_row)"
   ]
  },
  {
   "cell_type": "markdown",
   "id": "14ec886b",
   "metadata": {},
   "source": [
    "### DOT PRODUCT\n",
    "dot()"
   ]
  },
  {
   "cell_type": "code",
   "execution_count": 134,
   "id": "cff47e6f",
   "metadata": {},
   "outputs": [
    {
     "name": "stdout",
     "output_type": "stream",
     "text": [
      "[[1 2 3]\n",
      " [4 5 6]]\n"
     ]
    }
   ],
   "source": [
    "a_1 = np.array([[1,2,3], [4,5,6]])\n",
    "print(a_1)"
   ]
  },
  {
   "cell_type": "code",
   "execution_count": 135,
   "id": "54e7b362",
   "metadata": {},
   "outputs": [
    {
     "name": "stdout",
     "output_type": "stream",
     "text": [
      "(2, 3)\n"
     ]
    }
   ],
   "source": [
    "print(a_1.shape)"
   ]
  },
  {
   "cell_type": "code",
   "execution_count": 136,
   "id": "55c8937a",
   "metadata": {},
   "outputs": [
    {
     "name": "stdout",
     "output_type": "stream",
     "text": [
      "[[ 7  8]\n",
      " [ 9 10]\n",
      " [11 12]]\n"
     ]
    }
   ],
   "source": [
    "a_2 = np.array([[7,8], [9,10], [11,12]])\n",
    "print(a_2)"
   ]
  },
  {
   "cell_type": "code",
   "execution_count": 137,
   "id": "3386848e",
   "metadata": {},
   "outputs": [
    {
     "name": "stdout",
     "output_type": "stream",
     "text": [
      "(3, 2)\n"
     ]
    }
   ],
   "source": [
    "print(a_2.shape)"
   ]
  },
  {
   "cell_type": "code",
   "execution_count": 138,
   "id": "2ef72a38",
   "metadata": {},
   "outputs": [
    {
     "data": {
      "text/plain": [
       "array([[ 58,  64],\n",
       "       [139, 154]])"
      ]
     },
     "execution_count": 138,
     "metadata": {},
     "output_type": "execute_result"
    }
   ],
   "source": [
    "np.dot(a_1, a_2)"
   ]
  },
  {
   "cell_type": "markdown",
   "id": "7f5c8d2e",
   "metadata": {},
   "source": [
    "### MATRIX INDEXING"
   ]
  },
  {
   "cell_type": "code",
   "execution_count": 140,
   "id": "01db966b",
   "metadata": {},
   "outputs": [],
   "source": [
    "data = np.array([[1,2], [3,4], [5,6]])"
   ]
  },
  {
   "cell_type": "code",
   "execution_count": 141,
   "id": "c88c5a82",
   "metadata": {},
   "outputs": [
    {
     "name": "stdout",
     "output_type": "stream",
     "text": [
      "[[1 2]\n",
      " [3 4]\n",
      " [5 6]]\n",
      "[1 2]\n",
      "[3 4]\n",
      "[5 6]\n",
      "2\n",
      "[[3 4]\n",
      " [5 6]]\n",
      "[2 4]\n"
     ]
    }
   ],
   "source": [
    "print(data)\n",
    "print(data[0])\n",
    "print(data[1])\n",
    "print(data[2])\n",
    "print(data[0,1])\n",
    "print(data[1:3])\n",
    "print(data[0:2,1])"
   ]
  },
  {
   "cell_type": "markdown",
   "id": "46b33fbb",
   "metadata": {},
   "source": [
    "### MATRIX AGGREGATION"
   ]
  },
  {
   "cell_type": "code",
   "execution_count": 142,
   "id": "67a8b0bd",
   "metadata": {},
   "outputs": [
    {
     "name": "stdout",
     "output_type": "stream",
     "text": [
      "[[1 2]\n",
      " [3 4]\n",
      " [5 6]]\n"
     ]
    }
   ],
   "source": [
    "print(data)"
   ]
  },
  {
   "cell_type": "code",
   "execution_count": 143,
   "id": "44049987",
   "metadata": {},
   "outputs": [
    {
     "name": "stdout",
     "output_type": "stream",
     "text": [
      "6\n",
      "1\n",
      "21\n"
     ]
    }
   ],
   "source": [
    "print(data.max())\n",
    "print(data.min())\n",
    "print(data.sum())"
   ]
  },
  {
   "cell_type": "code",
   "execution_count": 144,
   "id": "744ec8a8",
   "metadata": {},
   "outputs": [
    {
     "name": "stdout",
     "output_type": "stream",
     "text": [
      "[5 6]\n",
      "[2 4 6]\n"
     ]
    }
   ],
   "source": [
    "print(data.max(axis=0))\n",
    "print(data.max(axis=1))"
   ]
  },
  {
   "cell_type": "markdown",
   "id": "baed98f1",
   "metadata": {},
   "source": [
    "### TRANSPOSING\n",
    "np.T"
   ]
  },
  {
   "cell_type": "code",
   "execution_count": 145,
   "id": "79c05ab7",
   "metadata": {},
   "outputs": [
    {
     "name": "stdout",
     "output_type": "stream",
     "text": [
      "[[1 2]\n",
      " [3 4]\n",
      " [5 6]]\n"
     ]
    }
   ],
   "source": [
    "print(data)"
   ]
  },
  {
   "cell_type": "code",
   "execution_count": 146,
   "id": "aa2b082c",
   "metadata": {},
   "outputs": [
    {
     "name": "stdout",
     "output_type": "stream",
     "text": [
      "[[1 3 5]\n",
      " [2 4 6]]\n"
     ]
    }
   ],
   "source": [
    "print(data.T)"
   ]
  },
  {
   "cell_type": "markdown",
   "id": "bc195994",
   "metadata": {},
   "source": [
    "## RESHAPING\n",
    "reshape()"
   ]
  },
  {
   "cell_type": "code",
   "execution_count": 147,
   "id": "5ffc50de",
   "metadata": {},
   "outputs": [
    {
     "name": "stdout",
     "output_type": "stream",
     "text": [
      "[[1]\n",
      " [2]\n",
      " [3]\n",
      " [4]\n",
      " [5]\n",
      " [6]]\n"
     ]
    }
   ],
   "source": [
    "data_col = np.array([[1,2,3,4,5,6]]).T\n",
    "print(data_col)"
   ]
  },
  {
   "cell_type": "code",
   "execution_count": 148,
   "id": "05067870",
   "metadata": {},
   "outputs": [
    {
     "data": {
      "text/plain": [
       "array([[1, 2, 3],\n",
       "       [4, 5, 6]])"
      ]
     },
     "execution_count": 148,
     "metadata": {},
     "output_type": "execute_result"
    }
   ],
   "source": [
    "data_col.reshape(2,3)"
   ]
  },
  {
   "cell_type": "code",
   "execution_count": 149,
   "id": "006d32b4",
   "metadata": {},
   "outputs": [
    {
     "data": {
      "text/plain": [
       "array([[1, 2],\n",
       "       [3, 4],\n",
       "       [5, 6]])"
      ]
     },
     "execution_count": 149,
     "metadata": {},
     "output_type": "execute_result"
    }
   ],
   "source": [
    "data_col.reshape(3,2)"
   ]
  },
  {
   "cell_type": "code",
   "execution_count": 150,
   "id": "75acf003",
   "metadata": {},
   "outputs": [
    {
     "name": "stdout",
     "output_type": "stream",
     "text": [
      "[[0 1 2]\n",
      " [3 4 5]]\n"
     ]
    }
   ],
   "source": [
    "arr = np.arange(6).reshape((2,3))\n",
    "print(arr)"
   ]
  },
  {
   "cell_type": "markdown",
   "id": "70a82db1",
   "metadata": {},
   "source": [
    "### N-DIMENSIONAL ARRAY"
   ]
  },
  {
   "cell_type": "code",
   "execution_count": 151,
   "id": "cee83d5e",
   "metadata": {},
   "outputs": [],
   "source": [
    "ndarr = np.array([[[1,2], [3,4]], [[5,6], [7,8]]])"
   ]
  },
  {
   "cell_type": "code",
   "execution_count": 152,
   "id": "4f57f4af",
   "metadata": {},
   "outputs": [
    {
     "name": "stdout",
     "output_type": "stream",
     "text": [
      "[[[1 2]\n",
      "  [3 4]]\n",
      "\n",
      " [[5 6]\n",
      "  [7 8]]]\n"
     ]
    }
   ],
   "source": [
    "print(ndarr)"
   ]
  },
  {
   "cell_type": "code",
   "execution_count": 153,
   "id": "80fa36d4",
   "metadata": {},
   "outputs": [
    {
     "name": "stdout",
     "output_type": "stream",
     "text": [
      "[[[1. 1.]\n",
      "  [1. 1.]\n",
      "  [1. 1.]]\n",
      "\n",
      " [[1. 1.]\n",
      "  [1. 1.]\n",
      "  [1. 1.]]\n",
      "\n",
      " [[1. 1.]\n",
      "  [1. 1.]\n",
      "  [1. 1.]]\n",
      "\n",
      " [[1. 1.]\n",
      "  [1. 1.]\n",
      "  [1. 1.]]]\n"
     ]
    }
   ],
   "source": [
    "print(np.ones((4,3,2)))"
   ]
  },
  {
   "cell_type": "code",
   "execution_count": 154,
   "id": "183675c4",
   "metadata": {},
   "outputs": [
    {
     "name": "stdout",
     "output_type": "stream",
     "text": [
      "[[[0. 0.]\n",
      "  [0. 0.]\n",
      "  [0. 0.]]\n",
      "\n",
      " [[0. 0.]\n",
      "  [0. 0.]\n",
      "  [0. 0.]]\n",
      "\n",
      " [[0. 0.]\n",
      "  [0. 0.]\n",
      "  [0. 0.]]\n",
      "\n",
      " [[0. 0.]\n",
      "  [0. 0.]\n",
      "  [0. 0.]]]\n"
     ]
    }
   ],
   "source": [
    "print(np.zeros((4,3,2)))"
   ]
  },
  {
   "cell_type": "code",
   "execution_count": 155,
   "id": "63966cdf",
   "metadata": {},
   "outputs": [
    {
     "name": "stdout",
     "output_type": "stream",
     "text": [
      "[[[0.2100151  0.8794305 ]\n",
      "  [0.41733194 0.02328507]\n",
      "  [0.52390133 0.30801638]]\n",
      "\n",
      " [[0.5046906  0.12406342]\n",
      "  [0.26281783 0.78469755]\n",
      "  [0.37493252 0.6297542 ]]\n",
      "\n",
      " [[0.30889104 0.90188617]\n",
      "  [0.44923593 0.50670591]\n",
      "  [0.41514145 0.12119417]]\n",
      "\n",
      " [[0.32131508 0.55525417]\n",
      "  [0.95773105 0.92324445]\n",
      "  [0.37274626 0.28117098]]]\n"
     ]
    }
   ],
   "source": [
    "print(np.random.random((4,3,2)))"
   ]
  },
  {
   "cell_type": "markdown",
   "id": "a95c0d86",
   "metadata": {},
   "source": [
    "### FLATTEN N-DIMENSIONAL ARRAY\n",
    "\n",
    "flatten()\n",
    ".ravel()"
   ]
  },
  {
   "cell_type": "code",
   "execution_count": 156,
   "id": "abfd6e1c",
   "metadata": {},
   "outputs": [
    {
     "name": "stdout",
     "output_type": "stream",
     "text": [
      "[[ 1  2  3  4]\n",
      " [ 5  6  7  8]\n",
      " [ 9 10 11 12]]\n"
     ]
    }
   ],
   "source": [
    "arrflat = np.array([[1,2,3,4], [5,6,7,8], [9,10,11,12]])\n",
    "print(arrflat)"
   ]
  },
  {
   "cell_type": "code",
   "execution_count": 157,
   "id": "b79edc04",
   "metadata": {},
   "outputs": [
    {
     "data": {
      "text/plain": [
       "array([ 1,  2,  3,  4,  5,  6,  7,  8,  9, 10, 11, 12])"
      ]
     },
     "execution_count": 157,
     "metadata": {},
     "output_type": "execute_result"
    }
   ],
   "source": [
    "arrflat.flatten()"
   ]
  },
  {
   "cell_type": "code",
   "execution_count": null,
   "id": "e094e790",
   "metadata": {},
   "outputs": [],
   "source": [
    "### WORKING WITH MATH FORMULAS"
   ]
  },
  {
   "cell_type": "code",
   "execution_count": 158,
   "id": "1ddf3aa9",
   "metadata": {},
   "outputs": [
    {
     "ename": "NameError",
     "evalue": "name 'n' is not defined",
     "output_type": "error",
     "traceback": [
      "\u001b[1;31m---------------------------------------------------------------------------\u001b[0m",
      "\u001b[1;31mNameError\u001b[0m                                 Traceback (most recent call last)",
      "Input \u001b[1;32mIn [158]\u001b[0m, in \u001b[0;36m<cell line: 1>\u001b[1;34m()\u001b[0m\n\u001b[1;32m----> 1\u001b[0m error \u001b[38;5;241m=\u001b[39m (\u001b[38;5;241m1\u001b[39m\u001b[38;5;241m/\u001b[39m\u001b[43mn\u001b[49m) \u001b[38;5;241m*\u001b[39m np\u001b[38;5;241m.\u001b[39msum(np\u001b[38;5;241m.\u001b[39msquare(observed \u001b[38;5;241m-\u001b[39m prediction))\n",
      "\u001b[1;31mNameError\u001b[0m: name 'n' is not defined"
     ]
    }
   ],
   "source": [
    "error = (1/n) * np.sum(np.square(observed - prediction))"
   ]
  },
  {
   "cell_type": "code",
   "execution_count": null,
   "id": "a7c75e34",
   "metadata": {},
   "outputs": [],
   "source": []
  },
  {
   "cell_type": "code",
   "execution_count": null,
   "id": "6de6b829",
   "metadata": {},
   "outputs": [],
   "source": []
  }
 ],
 "metadata": {
  "kernelspec": {
   "display_name": "Python 3 (ipykernel)",
   "language": "python",
   "name": "python3"
  },
  "language_info": {
   "codemirror_mode": {
    "name": "ipython",
    "version": 3
   },
   "file_extension": ".py",
   "mimetype": "text/x-python",
   "name": "python",
   "nbconvert_exporter": "python",
   "pygments_lexer": "ipython3",
   "version": "3.10.4"
  }
 },
 "nbformat": 4,
 "nbformat_minor": 5
}
