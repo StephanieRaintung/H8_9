{
 "cells": [
  {
   "cell_type": "code",
   "execution_count": 17,
   "id": "d1324710",
   "metadata": {},
   "outputs": [],
   "source": [
    "a = 0"
   ]
  },
  {
   "cell_type": "code",
   "execution_count": 18,
   "id": "177b707e",
   "metadata": {},
   "outputs": [],
   "source": [
    "b = 13"
   ]
  },
  {
   "cell_type": "code",
   "execution_count": 19,
   "id": "8ef5d42b",
   "metadata": {},
   "outputs": [
    {
     "name": "stdout",
     "output_type": "stream",
     "text": [
      "0123456789101112"
     ]
    }
   ],
   "source": [
    "while a < b:\n",
    "    print (a, end='')\n",
    "    a = a+1"
   ]
  },
  {
   "cell_type": "markdown",
   "id": "6a244a3b",
   "metadata": {},
   "source": [
    "### CONTOH INFINITE LOOP\n",
    "while test:\n",
    "    statements\n",
    "    if test : break\n",
    "        if test : continue\n",
    "            else:\n",
    "                statements"
   ]
  },
  {
   "cell_type": "code",
   "execution_count": 22,
   "id": "7cfbb386",
   "metadata": {},
   "outputs": [
    {
     "name": "stdout",
     "output_type": "stream",
     "text": [
      "Enter name: fani\n",
      "Enter age: 12\n",
      "Hello fani => 144\n",
      "Enter name: stop\n"
     ]
    }
   ],
   "source": [
    "while True:\n",
    "    name = input('Enter name: ')\n",
    "    if name == 'stop': break\n",
    "    age = input('Enter age: ')\n",
    "    print('Hello', name, '=>', int(age) ** 2)"
   ]
  },
  {
   "cell_type": "code",
   "execution_count": null,
   "id": "debbe36c",
   "metadata": {},
   "outputs": [],
   "source": [
    "while True:\n",
    "    name = input('Enter name: ')\n",
    "    if name == 'stop': break\n",
    "    age = input('Enter age: ')\n",
    "    print('Hello', name, '=>', age)"
   ]
  },
  {
   "cell_type": "markdown",
   "id": "b9407c68",
   "metadata": {},
   "source": [
    "### PERULANGAN FOR LOOPS\n",
    "for target in objects\n",
    "    statement"
   ]
  },
  {
   "cell_type": "code",
   "execution_count": null,
   "id": "f5df9a59",
   "metadata": {},
   "outputs": [],
   "source": [
    "for tar"
   ]
  },
  {
   "cell_type": "code",
   "execution_count": null,
   "id": "bae9262e",
   "metadata": {},
   "outputs": [],
   "source": []
  },
  {
   "cell_type": "code",
   "execution_count": null,
   "id": "27290e2c",
   "metadata": {},
   "outputs": [],
   "source": []
  },
  {
   "cell_type": "code",
   "execution_count": null,
   "id": "b53d8226",
   "metadata": {},
   "outputs": [],
   "source": []
  },
  {
   "cell_type": "code",
   "execution_count": null,
   "id": "4c0e9b65",
   "metadata": {},
   "outputs": [],
   "source": []
  },
  {
   "cell_type": "code",
   "execution_count": null,
   "id": "b0a9a3bf",
   "metadata": {},
   "outputs": [],
   "source": []
  },
  {
   "cell_type": "code",
   "execution_count": null,
   "id": "aee87274",
   "metadata": {},
   "outputs": [],
   "source": []
  },
  {
   "cell_type": "code",
   "execution_count": null,
   "id": "c9271fcb",
   "metadata": {},
   "outputs": [],
   "source": []
  },
  {
   "cell_type": "code",
   "execution_count": null,
   "id": "da0eb939",
   "metadata": {},
   "outputs": [],
   "source": []
  },
  {
   "cell_type": "code",
   "execution_count": null,
   "id": "823e3d2c",
   "metadata": {},
   "outputs": [],
   "source": []
  },
  {
   "cell_type": "code",
   "execution_count": null,
   "id": "8b0a59a3",
   "metadata": {},
   "outputs": [],
   "source": []
  }
 ],
 "metadata": {
  "kernelspec": {
   "display_name": "Python 3 (ipykernel)",
   "language": "python",
   "name": "python3"
  },
  "language_info": {
   "codemirror_mode": {
    "name": "ipython",
    "version": 3
   },
   "file_extension": ".py",
   "mimetype": "text/x-python",
   "name": "python",
   "nbconvert_exporter": "python",
   "pygments_lexer": "ipython3",
   "version": "3.10.4"
  }
 },
 "nbformat": 4,
 "nbformat_minor": 5
}
