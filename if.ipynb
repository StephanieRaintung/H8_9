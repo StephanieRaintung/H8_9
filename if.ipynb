{
 "cells": [
  {
   "cell_type": "code",
   "execution_count": 1,
   "id": "abbb7216",
   "metadata": {},
   "outputs": [
    {
     "name": "stdout",
     "output_type": "stream",
     "text": [
      "2\n",
      "4\n",
      "6\n",
      "8\n",
      "10\n",
      "12\n",
      "14\n",
      "16\n",
      "18\n",
      "20\n",
      "22\n",
      "24\n",
      "26\n",
      "28\n",
      "30\n",
      "32\n",
      "34\n",
      "36\n",
      "38\n",
      "40\n",
      "42\n",
      "44\n",
      "46\n",
      "48\n",
      "50\n",
      "52\n",
      "54\n",
      "56\n",
      "58\n",
      "60\n",
      "62\n",
      "64\n",
      "66\n",
      "68\n",
      "70\n",
      "72\n",
      "74\n",
      "76\n",
      "78\n",
      "80\n",
      "82\n",
      "84\n",
      "86\n",
      "88\n",
      "90\n",
      "92\n",
      "94\n",
      "96\n",
      "98\n",
      "100\n"
     ]
    }
   ],
   "source": [
    "x = 0\n",
    "while (x<100):\n",
    "    x+=2\n",
    "    print(x)"
   ]
  },
  {
   "cell_type": "code",
   "execution_count": 4,
   "id": "69fef1b2",
   "metadata": {},
   "outputs": [
    {
     "name": "stdout",
     "output_type": "stream",
     "text": [
      "I d a z "
     ]
    }
   ],
   "source": [
    "for l in 'Idaz':\n",
    "    if l == 'a':\n",
    "        pass\n",
    "    print(l, end=\" \")"
   ]
  },
  {
   "cell_type": "markdown",
   "id": "8f30457c",
   "metadata": {},
   "source": [
    "### IF STATEMENT\n",
    "\n",
    "if kondisi1:\n",
    "    blok kode1\n",
    "elif kondisi2:\n",
    "    blok kode2\n",
    "else:\n",
    "    blok kode3"
   ]
  },
  {
   "cell_type": "code",
   "execution_count": 5,
   "id": "6dc8a82f",
   "metadata": {},
   "outputs": [
    {
     "name": "stdout",
     "output_type": "stream",
     "text": [
      "true\n"
     ]
    }
   ],
   "source": [
    "if 1:\n",
    "    print('true')"
   ]
  },
  {
   "cell_type": "code",
   "execution_count": 9,
   "id": "7ea7d9d2",
   "metadata": {},
   "outputs": [
    {
     "name": "stdout",
     "output_type": "stream",
     "text": [
      "false\n"
     ]
    }
   ],
   "source": [
    "if not 1:\n",
    "    print('true')\n",
    "else:\n",
    "    print('false')"
   ]
  },
  {
   "cell_type": "code",
   "execution_count": 12,
   "id": "09575828",
   "metadata": {},
   "outputs": [
    {
     "name": "stdout",
     "output_type": "stream",
     "text": [
      "enter your age :10\n",
      "time to gets started\n"
     ]
    }
   ],
   "source": [
    "age = input('enter your age :')\n",
    "if int(age) * 365 > 20000:\n",
    "    print('time to retire!')\n",
    "elif int(age) * 365 > 10000:\n",
    "    print('lots of time left')\n",
    "else:\n",
    "    print('time to gets started')"
   ]
  },
  {
   "cell_type": "code",
   "execution_count": 14,
   "id": "aae41d2c",
   "metadata": {},
   "outputs": [
    {
     "name": "stdout",
     "output_type": "stream",
     "text": [
      "false\n"
     ]
    }
   ],
   "source": [
    "if 1:\n",
    "    print('false')"
   ]
  },
  {
   "cell_type": "code",
   "execution_count": null,
   "id": "73d4a2a2",
   "metadata": {},
   "outputs": [],
   "source": [
    "user_age = input('enter your age: ')\n",
    "age = int(user_age) * 365\n",
    "\n",
    "if age >=9490:\n",
    "    print('you not a jedi master now. go learn from master yoda')\n",
    "elif age >= 8395 and age < 9490:\n",
    "    print('become jedi knight')\n",
    "else:\n",
    "    print('you are a young padawan')"
   ]
  },
  {
   "cell_type": "code",
   "execution_count": null,
   "id": "16b44878",
   "metadata": {},
   "outputs": [],
   "source": [
    "\n",
    "if age >=9490:\n",
    "    print('you not a jedi master now. go learn from master yoda')\n",
    "elif age >= 8395 and age < 9490:\n",
    "    print('become jedi knight')\n",
    "else:\n",
    "    print('you are a young padawan')"
   ]
  },
  {
   "cell_type": "code",
   "execution_count": null,
   "id": "94d93cbf",
   "metadata": {},
   "outputs": [],
   "source": [
    "print('k')"
   ]
  },
  {
   "cell_type": "code",
   "execution_count": null,
   "id": "19b8a5bb",
   "metadata": {},
   "outputs": [],
   "source": []
  }
 ],
 "metadata": {
  "kernelspec": {
   "display_name": "Python 3 (ipykernel)",
   "language": "python",
   "name": "python3"
  },
  "language_info": {
   "codemirror_mode": {
    "name": "ipython",
    "version": 3
   },
   "file_extension": ".py",
   "mimetype": "text/x-python",
   "name": "python",
   "nbconvert_exporter": "python",
   "pygments_lexer": "ipython3",
   "version": "3.10.4"
  }
 },
 "nbformat": 4,
 "nbformat_minor": 5
}
